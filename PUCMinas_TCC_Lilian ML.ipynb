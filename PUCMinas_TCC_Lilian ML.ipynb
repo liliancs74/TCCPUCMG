{
 "cells": [
  {
   "cell_type": "markdown",
   "metadata": {},
   "source": [
    "PUC Minas - Pontifícia Universidade Católica de Minas Gerais\n",
    "\n",
    "Pós-Graduação em Ciência de Dados e Big Data\n",
    "\n",
    "TRABALHO DE CONCLUSÃO DE CURSO"
   ]
  },
  {
   "cell_type": "markdown",
   "metadata": {},
   "source": [
    "Aluna: Lilian Campos Soares\n",
    "\n",
    "Matrícula: 1092883"
   ]
  },
  {
   "cell_type": "markdown",
   "metadata": {},
   "source": [
    "Este notebook é referente aos códigos elaborados em Python e utilizados no Trabalho de Conclusão de Curso em Ciência de Dados e Big Data da Pós-Graduação da PUC Minas, especificamente para a criação dos modelos de Machine Learning."
   ]
  },
  {
   "cell_type": "code",
   "execution_count": 1,
   "metadata": {},
   "outputs": [],
   "source": [
    "#Carregamento de bibliotecas\n",
    "import pandas as pd\n",
    "import numpy as np\n",
    "import matplotlib.pyplot as plt\n",
    "\n",
    "#Carregamento do pacote com funções estatísticas\n",
    "import scipy.stats as stats\n",
    "\n",
    "#Carregamento do pacote Sklearn\n",
    "import sklearn.metrics as m\n",
    "from sklearn import preprocessing\n",
    "from sklearn.model_selection import train_test_split\n",
    "from sklearn.model_selection import cross_val_score\n",
    "from sklearn.metrics import accuracy_score\n",
    "from sklearn.model_selection import GridSearchCV\n",
    "from sklearn.model_selection import RandomizedSearchCV"
   ]
  },
  {
   "cell_type": "code",
   "execution_count": 2,
   "metadata": {},
   "outputs": [],
   "source": [
    "#na EPL\n",
    "#import io\n",
    "#import os\n",
    "#os.chdir(\"C:/TCC PUC/csv\")"
   ]
  },
  {
   "cell_type": "code",
   "execution_count": 3,
   "metadata": {},
   "outputs": [],
   "source": [
    "# Definição de configurações de dataframes\n",
    "pd.set_option('display.max_rows', 1000)\n",
    "pd.set_option('display.max_columns', 500)\n",
    "pd.set_option('display.width', 1000)\n",
    "pd.set_option('display.precision', 4)\n",
    "pd.set_option('display.expand_frame_repr', False)"
   ]
  },
  {
   "cell_type": "code",
   "execution_count": 4,
   "metadata": {},
   "outputs": [],
   "source": [
    "#Configurando os plots para serem exibidos diretamente no notebook\n",
    "%matplotlib inline"
   ]
  },
  {
   "cell_type": "code",
   "execution_count": 4,
   "metadata": {},
   "outputs": [],
   "source": [
    "#Importação dos dados para início da preparação do modelo de ML - arquivos acidentes.CSV\n",
    "acidentes_mg = pd.read_csv(r\"C:\\Users\\lilia\\Downloads\\TCC PUC\\csv\\acidentes_mg3.csv\", sep=';', decimal=',', encoding = 'cp1252', low_memory = False, parse_dates = ['data_inversa'])"
   ]
  },
  {
   "cell_type": "code",
   "execution_count": 5,
   "metadata": {},
   "outputs": [
    {
     "name": "stdout",
     "output_type": "stream",
     "text": [
      "<class 'pandas.core.frame.DataFrame'>\n",
      "RangeIndex: 91789 entries, 0 to 91788\n",
      "Data columns (total 28 columns):\n",
      " #   Column                  Non-Null Count  Dtype         \n",
      "---  ------                  --------------  -----         \n",
      " 0   id                      91789 non-null  int64         \n",
      " 1   pesid                   91789 non-null  int64         \n",
      " 2   data_inversa            91789 non-null  datetime64[ns]\n",
      " 3   dia_semana              91789 non-null  object        \n",
      " 4   horario                 91789 non-null  object        \n",
      " 5   uf                      91789 non-null  object        \n",
      " 6   br                      91789 non-null  int64         \n",
      " 7   km                      91789 non-null  int64         \n",
      " 8   municipio               91789 non-null  object        \n",
      " 9   causa_acidente          91789 non-null  object        \n",
      " 10  tipo_acidente           91789 non-null  object        \n",
      " 11  classificacao_acidente  91789 non-null  object        \n",
      " 12  fase_dia                91789 non-null  object        \n",
      " 13  condicao_metereologica  91789 non-null  object        \n",
      " 14  tipo_pista              91789 non-null  object        \n",
      " 15  tracado_via             91789 non-null  object        \n",
      " 16  uso_solo                91789 non-null  object        \n",
      " 17  tipo_veiculo            91789 non-null  object        \n",
      " 18  tipo_envolvido          91789 non-null  object        \n",
      " 19  estado_fisico           91789 non-null  object        \n",
      " 20  sexo                    91789 non-null  object        \n",
      " 21  ilesos                  91789 non-null  int64         \n",
      " 22  feridos_leves           91789 non-null  int64         \n",
      " 23  feridos_graves          91789 non-null  int64         \n",
      " 24  mortos                  91789 non-null  int64         \n",
      " 25  latitude                91789 non-null  float64       \n",
      " 26  longitude               91789 non-null  float64       \n",
      " 27  elemento_transito       91789 non-null  object        \n",
      "dtypes: datetime64[ns](1), float64(2), int64(8), object(17)\n",
      "memory usage: 19.6+ MB\n"
     ]
    }
   ],
   "source": [
    "acidentes_mg.info()"
   ]
  },
  {
   "cell_type": "code",
   "execution_count": 171,
   "metadata": {},
   "outputs": [
    {
     "data": {
      "text/plain": [
       "id                        0\n",
       "pesid                     0\n",
       "data_inversa              0\n",
       "dia_semana                0\n",
       "horario                   0\n",
       "uf                        0\n",
       "br                        0\n",
       "km                        0\n",
       "municipio                 0\n",
       "causa_acidente            0\n",
       "tipo_acidente             0\n",
       "classificacao_acidente    0\n",
       "fase_dia                  0\n",
       "condicao_metereologica    0\n",
       "tipo_pista                0\n",
       "tracado_via               0\n",
       "uso_solo                  0\n",
       "tipo_veiculo              0\n",
       "tipo_envolvido            0\n",
       "estado_fisico             0\n",
       "sexo                      0\n",
       "ilesos                    0\n",
       "feridos_leves             0\n",
       "feridos_graves            0\n",
       "mortos                    0\n",
       "latitude                  0\n",
       "longitude                 0\n",
       "elemento_transito         0\n",
       "dtype: int64"
      ]
     },
     "execution_count": 171,
     "metadata": {},
     "output_type": "execute_result"
    }
   ],
   "source": [
    "#Verificação de valores nulos / NaN nas colunas\n",
    "acidentes_mg.isnull().sum()\n",
    "#sem valores nulos / NaN"
   ]
  },
  {
   "cell_type": "code",
   "execution_count": 9,
   "metadata": {},
   "outputs": [
    {
     "data": {
      "text/plain": [
       "Ileso            37895\n",
       "Lesões Leves     36078\n",
       "Lesões Graves    10022\n",
       "Não Informado     4837\n",
       "Óbito             2957\n",
       "Name: estado_fisico, dtype: int64"
      ]
     },
     "execution_count": 9,
     "metadata": {},
     "output_type": "execute_result"
    }
   ],
   "source": [
    "acidentes_mg['estado_fisico'].value_counts()"
   ]
  },
  {
   "cell_type": "code",
   "execution_count": 10,
   "metadata": {},
   "outputs": [],
   "source": [
    "acidentes_mg['km'] = acidentes_mg['km'].astype(float)"
   ]
  },
  {
   "cell_type": "code",
   "execution_count": 11,
   "metadata": {},
   "outputs": [
    {
     "data": {
      "text/html": [
       "<div>\n",
       "<style scoped>\n",
       "    .dataframe tbody tr th:only-of-type {\n",
       "        vertical-align: middle;\n",
       "    }\n",
       "\n",
       "    .dataframe tbody tr th {\n",
       "        vertical-align: top;\n",
       "    }\n",
       "\n",
       "    .dataframe thead th {\n",
       "        text-align: right;\n",
       "    }\n",
       "</style>\n",
       "<table border=\"1\" class=\"dataframe\">\n",
       "  <thead>\n",
       "    <tr style=\"text-align: right;\">\n",
       "      <th></th>\n",
       "      <th>dia_semana</th>\n",
       "      <th>br</th>\n",
       "      <th>km</th>\n",
       "      <th>causa_acidente</th>\n",
       "      <th>tipo_acidente</th>\n",
       "      <th>classificacao_acidente</th>\n",
       "      <th>fase_dia</th>\n",
       "      <th>condicao_metereologica</th>\n",
       "      <th>tipo_pista</th>\n",
       "      <th>tracado_via</th>\n",
       "      <th>uso_solo</th>\n",
       "      <th>tipo_veiculo</th>\n",
       "      <th>tipo_envolvido</th>\n",
       "      <th>estado_fisico</th>\n",
       "      <th>sexo</th>\n",
       "      <th>elemento_transito</th>\n",
       "    </tr>\n",
       "  </thead>\n",
       "  <tbody>\n",
       "    <tr>\n",
       "      <th>0</th>\n",
       "      <td>domingo</td>\n",
       "      <td>381</td>\n",
       "      <td>605.0</td>\n",
       "      <td>Condutor Dormindo</td>\n",
       "      <td>Saída de leito carroçável</td>\n",
       "      <td>Com Vítimas Feridas</td>\n",
       "      <td>Amanhecer</td>\n",
       "      <td>Céu Claro</td>\n",
       "      <td>Dupla</td>\n",
       "      <td>Reta</td>\n",
       "      <td>Rural</td>\n",
       "      <td>Automóvel</td>\n",
       "      <td>Condutor</td>\n",
       "      <td>Lesões Leves</td>\n",
       "      <td>Masculino</td>\n",
       "      <td>Homem</td>\n",
       "    </tr>\n",
       "    <tr>\n",
       "      <th>1</th>\n",
       "      <td>domingo</td>\n",
       "      <td>381</td>\n",
       "      <td>605.0</td>\n",
       "      <td>Condutor Dormindo</td>\n",
       "      <td>Saída de leito carroçável</td>\n",
       "      <td>Com Vítimas Feridas</td>\n",
       "      <td>Amanhecer</td>\n",
       "      <td>Céu Claro</td>\n",
       "      <td>Dupla</td>\n",
       "      <td>Reta</td>\n",
       "      <td>Rural</td>\n",
       "      <td>Automóvel</td>\n",
       "      <td>Passageiro</td>\n",
       "      <td>Lesões Leves</td>\n",
       "      <td>Masculino</td>\n",
       "      <td>Homem</td>\n",
       "    </tr>\n",
       "    <tr>\n",
       "      <th>2</th>\n",
       "      <td>domingo</td>\n",
       "      <td>262</td>\n",
       "      <td>368.0</td>\n",
       "      <td>Velocidade Incompatível</td>\n",
       "      <td>Colisão com objeto estático</td>\n",
       "      <td>Com Vítimas Feridas</td>\n",
       "      <td>Plena Noite</td>\n",
       "      <td>Céu Claro</td>\n",
       "      <td>Simples</td>\n",
       "      <td>Viaduto</td>\n",
       "      <td>Urbano</td>\n",
       "      <td>Automóvel</td>\n",
       "      <td>Passageiro</td>\n",
       "      <td>Lesões Leves</td>\n",
       "      <td>Masculino</td>\n",
       "      <td>Homem</td>\n",
       "    </tr>\n",
       "    <tr>\n",
       "      <th>3</th>\n",
       "      <td>domingo</td>\n",
       "      <td>262</td>\n",
       "      <td>368.0</td>\n",
       "      <td>Velocidade Incompatível</td>\n",
       "      <td>Colisão com objeto estático</td>\n",
       "      <td>Com Vítimas Feridas</td>\n",
       "      <td>Plena Noite</td>\n",
       "      <td>Céu Claro</td>\n",
       "      <td>Simples</td>\n",
       "      <td>Viaduto</td>\n",
       "      <td>Urbano</td>\n",
       "      <td>Automóvel</td>\n",
       "      <td>Passageiro</td>\n",
       "      <td>Lesões Leves</td>\n",
       "      <td>Feminino</td>\n",
       "      <td>Homem</td>\n",
       "    </tr>\n",
       "    <tr>\n",
       "      <th>4</th>\n",
       "      <td>domingo</td>\n",
       "      <td>262</td>\n",
       "      <td>368.0</td>\n",
       "      <td>Velocidade Incompatível</td>\n",
       "      <td>Colisão com objeto estático</td>\n",
       "      <td>Com Vítimas Feridas</td>\n",
       "      <td>Plena Noite</td>\n",
       "      <td>Céu Claro</td>\n",
       "      <td>Simples</td>\n",
       "      <td>Viaduto</td>\n",
       "      <td>Urbano</td>\n",
       "      <td>Automóvel</td>\n",
       "      <td>Condutor</td>\n",
       "      <td>Lesões Leves</td>\n",
       "      <td>Masculino</td>\n",
       "      <td>Homem</td>\n",
       "    </tr>\n",
       "  </tbody>\n",
       "</table>\n",
       "</div>"
      ],
      "text/plain": [
       "  dia_semana   br     km           causa_acidente                tipo_acidente classificacao_acidente     fase_dia condicao_metereologica tipo_pista tracado_via uso_solo tipo_veiculo tipo_envolvido estado_fisico       sexo elemento_transito\n",
       "0    domingo  381  605.0        Condutor Dormindo    Saída de leito carroçável    Com Vítimas Feridas    Amanhecer              Céu Claro      Dupla        Reta    Rural    Automóvel       Condutor  Lesões Leves  Masculino             Homem\n",
       "1    domingo  381  605.0        Condutor Dormindo    Saída de leito carroçável    Com Vítimas Feridas    Amanhecer              Céu Claro      Dupla        Reta    Rural    Automóvel     Passageiro  Lesões Leves  Masculino             Homem\n",
       "2    domingo  262  368.0  Velocidade Incompatível  Colisão com objeto estático    Com Vítimas Feridas  Plena Noite              Céu Claro    Simples     Viaduto   Urbano    Automóvel     Passageiro  Lesões Leves  Masculino             Homem\n",
       "3    domingo  262  368.0  Velocidade Incompatível  Colisão com objeto estático    Com Vítimas Feridas  Plena Noite              Céu Claro    Simples     Viaduto   Urbano    Automóvel     Passageiro  Lesões Leves   Feminino             Homem\n",
       "4    domingo  262  368.0  Velocidade Incompatível  Colisão com objeto estático    Com Vítimas Feridas  Plena Noite              Céu Claro    Simples     Viaduto   Urbano    Automóvel       Condutor  Lesões Leves  Masculino             Homem"
      ]
     },
     "execution_count": 11,
     "metadata": {},
     "output_type": "execute_result"
    }
   ],
   "source": [
    "#Escolha dos atributos para um novo dataset chamado 'fset'\n",
    "fset = acidentes_mg[['dia_semana','br','km','causa_acidente','tipo_acidente','classificacao_acidente','fase_dia', 'condicao_metereologica', 'tipo_pista','tracado_via','uso_solo', 'tipo_veiculo', 'tipo_envolvido', 'estado_fisico', 'sexo', 'elemento_transito']].copy()\n",
    "fset.head()"
   ]
  },
  {
   "cell_type": "code",
   "execution_count": 12,
   "metadata": {},
   "outputs": [],
   "source": [
    "#Tratamento dos registros que o estado_fisico está como Não Informado\n",
    "f = fset.loc[fset['estado_fisico'] == 'Não Informado'].index\n",
    "fset.drop(f, axis= 0, inplace = True)"
   ]
  },
  {
   "cell_type": "code",
   "execution_count": 13,
   "metadata": {},
   "outputs": [],
   "source": [
    "#Alocação de variáveis preditoras\n",
    "X = fset[['dia_semana','br','km','causa_acidente','tipo_acidente','classificacao_acidente','fase_dia', 'condicao_metereologica', 'tipo_pista','tracado_via','uso_solo', 'tipo_veiculo', 'tipo_envolvido', 'sexo', 'elemento_transito']].values\n",
    "\n",
    "#Alocação da variável target\n",
    "Y = fset['estado_fisico'].values"
   ]
  },
  {
   "cell_type": "code",
   "execution_count": 15,
   "metadata": {},
   "outputs": [],
   "source": [
    "#Transformação de dados não numéricos em dados numéricos - utilização da função LabelEncoder do módulo preprocessing da biblioteca Scikit-learn\n",
    "LE_Dia_Semana = preprocessing.LabelEncoder()\n",
    "LE_Dia_Semana.fit(fset.dia_semana.unique())\n",
    "X[:,0] = LE_Dia_Semana.transform(X[:,0])"
   ]
  },
  {
   "cell_type": "code",
   "execution_count": 16,
   "metadata": {},
   "outputs": [],
   "source": [
    "LE_Causa = preprocessing.LabelEncoder()\n",
    "LE_Causa.fit(fset.causa_acidente.unique())\n",
    "X[:,3] = LE_Causa.transform(X[:,3])"
   ]
  },
  {
   "cell_type": "code",
   "execution_count": 17,
   "metadata": {},
   "outputs": [],
   "source": [
    "LE_Tipo_Acidente = preprocessing.LabelEncoder()\n",
    "LE_Tipo_Acidente.fit(fset.tipo_acidente.unique())\n",
    "X[:,4] = LE_Tipo_Acidente.transform(X[:,4])"
   ]
  },
  {
   "cell_type": "code",
   "execution_count": 18,
   "metadata": {},
   "outputs": [],
   "source": [
    "LE_Class_acidente = preprocessing.LabelEncoder()\n",
    "LE_Class_acidente.fit(fset.classificacao_acidente.unique())\n",
    "X[:,5] = LE_Class_acidente.transform(X[:,5])"
   ]
  },
  {
   "cell_type": "code",
   "execution_count": 19,
   "metadata": {},
   "outputs": [],
   "source": [
    "LE_Fase_Dia = preprocessing.LabelEncoder()\n",
    "LE_Fase_Dia.fit(fset.fase_dia.unique())\n",
    "X[:,6] = LE_Fase_Dia.transform(X[:,6])"
   ]
  },
  {
   "cell_type": "code",
   "execution_count": 20,
   "metadata": {},
   "outputs": [],
   "source": [
    "LE_Condicao_Met = preprocessing.LabelEncoder()\n",
    "LE_Condicao_Met.fit(fset.condicao_metereologica.unique())\n",
    "X[:,7] = LE_Condicao_Met.transform(X[:,7])"
   ]
  },
  {
   "cell_type": "code",
   "execution_count": 21,
   "metadata": {},
   "outputs": [],
   "source": [
    "LE_Tipo_Pista = preprocessing.LabelEncoder()\n",
    "LE_Tipo_Pista.fit(fset.tipo_pista.unique())\n",
    "X[:,8] = LE_Tipo_Pista.transform(X[:,8])"
   ]
  },
  {
   "cell_type": "code",
   "execution_count": 22,
   "metadata": {},
   "outputs": [],
   "source": [
    "LE_Tracado_Via = preprocessing.LabelEncoder()\n",
    "LE_Tracado_Via.fit(fset.tracado_via.unique())\n",
    "X[:,9] = LE_Tracado_Via.transform(X[:,9])"
   ]
  },
  {
   "cell_type": "code",
   "execution_count": 23,
   "metadata": {},
   "outputs": [],
   "source": [
    "LE_Uso_Solo = preprocessing.LabelEncoder()\n",
    "LE_Uso_Solo.fit(fset.uso_solo.unique())\n",
    "X[:,10] = LE_Uso_Solo.transform(X[:,10])"
   ]
  },
  {
   "cell_type": "code",
   "execution_count": 24,
   "metadata": {},
   "outputs": [],
   "source": [
    "LE_Tipo_Veiculo = preprocessing.LabelEncoder()\n",
    "LE_Tipo_Veiculo.fit(fset.tipo_veiculo.unique())\n",
    "X[:,11] = LE_Tipo_Veiculo.transform(X[:,11])"
   ]
  },
  {
   "cell_type": "code",
   "execution_count": 25,
   "metadata": {},
   "outputs": [],
   "source": [
    "LE_Tipo_Envolvido = preprocessing.LabelEncoder()\n",
    "LE_Tipo_Envolvido.fit(fset.tipo_envolvido.unique())\n",
    "X[:,12] = LE_Tipo_Envolvido.transform(X[:,12])"
   ]
  },
  {
   "cell_type": "code",
   "execution_count": 26,
   "metadata": {},
   "outputs": [],
   "source": [
    "LE_Sexo = preprocessing.LabelEncoder()\n",
    "LE_Sexo.fit(fset.sexo.unique())\n",
    "X[:,13] = LE_Sexo.transform(X[:,13])"
   ]
  },
  {
   "cell_type": "code",
   "execution_count": 27,
   "metadata": {},
   "outputs": [],
   "source": [
    "LE_Elemento_Transito = preprocessing.LabelEncoder()\n",
    "LE_Elemento_Transito.fit(fset.elemento_transito.unique())\n",
    "X[:,14] = LE_Elemento_Transito.transform(X[:,14])"
   ]
  },
  {
   "cell_type": "code",
   "execution_count": 28,
   "metadata": {},
   "outputs": [
    {
     "name": "stdout",
     "output_type": "stream",
     "text": [
      "['Lesões Leves' 'Lesões Leves' 'Lesões Leves' ... 'Lesões Graves' 'Ileso'\n",
      " 'Ileso']\n"
     ]
    }
   ],
   "source": [
    "#Verificação de Y\n",
    "print(Y)"
   ]
  },
  {
   "cell_type": "code",
   "execution_count": 29,
   "metadata": {},
   "outputs": [
    {
     "name": "stdout",
     "output_type": "stream",
     "text": [
      "[[0 381 605.0 ... 1 2 0]\n",
      " [0 381 605.0 ... 2 2 0]\n",
      " [0 262 368.0 ... 2 2 0]\n",
      " ...\n",
      " [4 116 648.0 ... 1 0 0]\n",
      " [4 116 648.0 ... 1 2 0]\n",
      " [5 153 7.0 ... 1 2 2]]\n"
     ]
    }
   ],
   "source": [
    "#Verificação de X\n",
    "print(X)"
   ]
  },
  {
   "cell_type": "code",
   "execution_count": 193,
   "metadata": {},
   "outputs": [],
   "source": [
    "#Criação de um dataframe para a auxiliar na verificação de X e de sua distribuição de dados\n",
    "dfx = pd.DataFrame(X)"
   ]
  },
  {
   "cell_type": "code",
   "execution_count": 194,
   "metadata": {},
   "outputs": [
    {
     "name": "stdout",
     "output_type": "stream",
     "text": [
      "<class 'pandas.core.frame.DataFrame'>\n",
      "RangeIndex: 86952 entries, 0 to 86951\n",
      "Data columns (total 15 columns):\n",
      " #   Column  Non-Null Count  Dtype \n",
      "---  ------  --------------  ----- \n",
      " 0   0       86952 non-null  object\n",
      " 1   1       86952 non-null  object\n",
      " 2   2       86952 non-null  object\n",
      " 3   3       86952 non-null  object\n",
      " 4   4       86952 non-null  object\n",
      " 5   5       86952 non-null  object\n",
      " 6   6       86952 non-null  object\n",
      " 7   7       86952 non-null  object\n",
      " 8   8       86952 non-null  object\n",
      " 9   9       86952 non-null  object\n",
      " 10  10      86952 non-null  object\n",
      " 11  11      86952 non-null  object\n",
      " 12  12      86952 non-null  object\n",
      " 13  13      86952 non-null  object\n",
      " 14  14      86952 non-null  object\n",
      "dtypes: object(15)\n",
      "memory usage: 10.0+ MB\n"
     ]
    }
   ],
   "source": [
    "dfx.info()"
   ]
  },
  {
   "cell_type": "code",
   "execution_count": 195,
   "metadata": {},
   "outputs": [
    {
     "data": {
      "text/html": [
       "<div>\n",
       "<style scoped>\n",
       "    .dataframe tbody tr th:only-of-type {\n",
       "        vertical-align: middle;\n",
       "    }\n",
       "\n",
       "    .dataframe tbody tr th {\n",
       "        vertical-align: top;\n",
       "    }\n",
       "\n",
       "    .dataframe thead th {\n",
       "        text-align: right;\n",
       "    }\n",
       "</style>\n",
       "<table border=\"1\" class=\"dataframe\">\n",
       "  <thead>\n",
       "    <tr style=\"text-align: right;\">\n",
       "      <th></th>\n",
       "      <th>0</th>\n",
       "      <th>1</th>\n",
       "      <th>2</th>\n",
       "      <th>3</th>\n",
       "      <th>4</th>\n",
       "      <th>5</th>\n",
       "      <th>6</th>\n",
       "      <th>7</th>\n",
       "      <th>8</th>\n",
       "      <th>9</th>\n",
       "      <th>10</th>\n",
       "      <th>11</th>\n",
       "      <th>12</th>\n",
       "      <th>13</th>\n",
       "      <th>14</th>\n",
       "    </tr>\n",
       "  </thead>\n",
       "  <tbody>\n",
       "    <tr>\n",
       "      <th>0</th>\n",
       "      <td>0</td>\n",
       "      <td>381</td>\n",
       "      <td>605</td>\n",
       "      <td>7</td>\n",
       "      <td>15</td>\n",
       "      <td>1</td>\n",
       "      <td>0</td>\n",
       "      <td>1</td>\n",
       "      <td>0</td>\n",
       "      <td>5</td>\n",
       "      <td>0</td>\n",
       "      <td>0</td>\n",
       "      <td>1</td>\n",
       "      <td>2</td>\n",
       "      <td>0</td>\n",
       "    </tr>\n",
       "    <tr>\n",
       "      <th>1</th>\n",
       "      <td>0</td>\n",
       "      <td>381</td>\n",
       "      <td>605</td>\n",
       "      <td>7</td>\n",
       "      <td>15</td>\n",
       "      <td>1</td>\n",
       "      <td>0</td>\n",
       "      <td>1</td>\n",
       "      <td>0</td>\n",
       "      <td>5</td>\n",
       "      <td>0</td>\n",
       "      <td>0</td>\n",
       "      <td>2</td>\n",
       "      <td>2</td>\n",
       "      <td>0</td>\n",
       "    </tr>\n",
       "    <tr>\n",
       "      <th>2</th>\n",
       "      <td>0</td>\n",
       "      <td>262</td>\n",
       "      <td>368</td>\n",
       "      <td>32</td>\n",
       "      <td>5</td>\n",
       "      <td>1</td>\n",
       "      <td>2</td>\n",
       "      <td>1</td>\n",
       "      <td>2</td>\n",
       "      <td>9</td>\n",
       "      <td>1</td>\n",
       "      <td>0</td>\n",
       "      <td>2</td>\n",
       "      <td>2</td>\n",
       "      <td>0</td>\n",
       "    </tr>\n",
       "    <tr>\n",
       "      <th>3</th>\n",
       "      <td>0</td>\n",
       "      <td>262</td>\n",
       "      <td>368</td>\n",
       "      <td>32</td>\n",
       "      <td>5</td>\n",
       "      <td>1</td>\n",
       "      <td>2</td>\n",
       "      <td>1</td>\n",
       "      <td>2</td>\n",
       "      <td>9</td>\n",
       "      <td>1</td>\n",
       "      <td>0</td>\n",
       "      <td>2</td>\n",
       "      <td>0</td>\n",
       "      <td>0</td>\n",
       "    </tr>\n",
       "    <tr>\n",
       "      <th>4</th>\n",
       "      <td>0</td>\n",
       "      <td>262</td>\n",
       "      <td>368</td>\n",
       "      <td>32</td>\n",
       "      <td>5</td>\n",
       "      <td>1</td>\n",
       "      <td>2</td>\n",
       "      <td>1</td>\n",
       "      <td>2</td>\n",
       "      <td>9</td>\n",
       "      <td>1</td>\n",
       "      <td>0</td>\n",
       "      <td>1</td>\n",
       "      <td>2</td>\n",
       "      <td>0</td>\n",
       "    </tr>\n",
       "  </tbody>\n",
       "</table>\n",
       "</div>"
      ],
      "text/plain": [
       "  0    1    2   3   4  5  6  7  8  9  10 11 12 13 14\n",
       "0  0  381  605   7  15  1  0  1  0  5  0  0  1  2  0\n",
       "1  0  381  605   7  15  1  0  1  0  5  0  0  2  2  0\n",
       "2  0  262  368  32   5  1  2  1  2  9  1  0  2  2  0\n",
       "3  0  262  368  32   5  1  2  1  2  9  1  0  2  0  0\n",
       "4  0  262  368  32   5  1  2  1  2  9  1  0  1  2  0"
      ]
     },
     "execution_count": 195,
     "metadata": {},
     "output_type": "execute_result"
    }
   ],
   "source": [
    "dfx.head()"
   ]
  },
  {
   "cell_type": "code",
   "execution_count": 196,
   "metadata": {},
   "outputs": [
    {
     "data": {
      "text/plain": [
       "0     86952\n",
       "1     86952\n",
       "2     86952\n",
       "3     86952\n",
       "4     86952\n",
       "5     86952\n",
       "6     86952\n",
       "7     86952\n",
       "8     86952\n",
       "9     86952\n",
       "10    86952\n",
       "11    86952\n",
       "12    86952\n",
       "13    86952\n",
       "14    86952\n",
       "dtype: int64"
      ]
     },
     "execution_count": 196,
     "metadata": {},
     "output_type": "execute_result"
    }
   ],
   "source": [
    "dfx.count()"
   ]
  },
  {
   "cell_type": "code",
   "execution_count": 197,
   "metadata": {},
   "outputs": [
    {
     "data": {
      "text/plain": [
       "0       7\n",
       "1      21\n",
       "2     950\n",
       "3      33\n",
       "4      17\n",
       "5       3\n",
       "6       4\n",
       "7      10\n",
       "8       3\n",
       "9      10\n",
       "10      2\n",
       "11     21\n",
       "12      5\n",
       "13      4\n",
       "14      3\n",
       "dtype: int64"
      ]
     },
     "execution_count": 197,
     "metadata": {},
     "output_type": "execute_result"
    }
   ],
   "source": [
    "dfx.nunique()"
   ]
  },
  {
   "cell_type": "code",
   "execution_count": 198,
   "metadata": {},
   "outputs": [
    {
     "data": {
      "text/plain": [
       "0     0\n",
       "1     0\n",
       "2     0\n",
       "3     0\n",
       "4     0\n",
       "5     0\n",
       "6     0\n",
       "7     0\n",
       "8     0\n",
       "9     0\n",
       "10    0\n",
       "11    0\n",
       "12    0\n",
       "13    0\n",
       "14    0\n",
       "dtype: int64"
      ]
     },
     "execution_count": 198,
     "metadata": {},
     "output_type": "execute_result"
    }
   ],
   "source": [
    "dfx.isnull().sum()"
   ]
  },
  {
   "cell_type": "code",
   "execution_count": 199,
   "metadata": {},
   "outputs": [
    {
     "name": "stdout",
     "output_type": "stream",
     "text": [
      "           0      1        2      3      4      5      6      7      8      9      10     11     12     13     14\n",
      "count   86952  86952  86952.0  86952  86952  86952  86952  86952  86952  86952  86952  86952  86952  86952  86952\n",
      "unique      7     21    950.0     33     17      3      4     10      3     10      2     21      5      4      3\n",
      "top         5    381    510.0     16      9      1      3      1      2      5      0      0      1      2      0\n",
      "freq    15313  27617    491.0  28510  17467  65797  49861  46412  46598  43599  61919  40017  56996  65633  72826\n"
     ]
    }
   ],
   "source": [
    "print(dfx.describe())"
   ]
  },
  {
   "cell_type": "code",
   "execution_count": 200,
   "metadata": {},
   "outputs": [],
   "source": [
    "dfx.to_csv(r\"C:\\Users\\lilia\\Downloads\\TCC PUC\\csv\\dfx.csv\", index = False, header = True, sep=';', decimal='.', encoding = 'cp1252')"
   ]
  },
  {
   "cell_type": "code",
   "execution_count": 206,
   "metadata": {},
   "outputs": [],
   "source": [
    "dfx = pd.read_csv(r\"C:\\Users\\lilia\\Downloads\\TCC PUC\\csv\\dfx2.csv\", sep=';', decimal='.', encoding = 'cp1252')"
   ]
  },
  {
   "cell_type": "code",
   "execution_count": 207,
   "metadata": {},
   "outputs": [
    {
     "data": {
      "text/html": [
       "<div>\n",
       "<style scoped>\n",
       "    .dataframe tbody tr th:only-of-type {\n",
       "        vertical-align: middle;\n",
       "    }\n",
       "\n",
       "    .dataframe tbody tr th {\n",
       "        vertical-align: top;\n",
       "    }\n",
       "\n",
       "    .dataframe thead th {\n",
       "        text-align: right;\n",
       "    }\n",
       "</style>\n",
       "<table border=\"1\" class=\"dataframe\">\n",
       "  <thead>\n",
       "    <tr style=\"text-align: right;\">\n",
       "      <th></th>\n",
       "      <th>col0</th>\n",
       "      <th>col1</th>\n",
       "      <th>col2</th>\n",
       "      <th>col3</th>\n",
       "      <th>col4</th>\n",
       "      <th>col5</th>\n",
       "      <th>col6</th>\n",
       "      <th>col7</th>\n",
       "      <th>col8</th>\n",
       "      <th>col9</th>\n",
       "      <th>col10</th>\n",
       "      <th>col11</th>\n",
       "      <th>col12</th>\n",
       "      <th>col13</th>\n",
       "      <th>col14</th>\n",
       "    </tr>\n",
       "  </thead>\n",
       "  <tbody>\n",
       "    <tr>\n",
       "      <th>0</th>\n",
       "      <td>0</td>\n",
       "      <td>381</td>\n",
       "      <td>605.0</td>\n",
       "      <td>7</td>\n",
       "      <td>15</td>\n",
       "      <td>1</td>\n",
       "      <td>0</td>\n",
       "      <td>1</td>\n",
       "      <td>0</td>\n",
       "      <td>5</td>\n",
       "      <td>0</td>\n",
       "      <td>0</td>\n",
       "      <td>1</td>\n",
       "      <td>2</td>\n",
       "      <td>0</td>\n",
       "    </tr>\n",
       "    <tr>\n",
       "      <th>1</th>\n",
       "      <td>0</td>\n",
       "      <td>381</td>\n",
       "      <td>605.0</td>\n",
       "      <td>7</td>\n",
       "      <td>15</td>\n",
       "      <td>1</td>\n",
       "      <td>0</td>\n",
       "      <td>1</td>\n",
       "      <td>0</td>\n",
       "      <td>5</td>\n",
       "      <td>0</td>\n",
       "      <td>0</td>\n",
       "      <td>2</td>\n",
       "      <td>2</td>\n",
       "      <td>0</td>\n",
       "    </tr>\n",
       "    <tr>\n",
       "      <th>2</th>\n",
       "      <td>0</td>\n",
       "      <td>262</td>\n",
       "      <td>368.0</td>\n",
       "      <td>32</td>\n",
       "      <td>5</td>\n",
       "      <td>1</td>\n",
       "      <td>2</td>\n",
       "      <td>1</td>\n",
       "      <td>2</td>\n",
       "      <td>9</td>\n",
       "      <td>1</td>\n",
       "      <td>0</td>\n",
       "      <td>2</td>\n",
       "      <td>2</td>\n",
       "      <td>0</td>\n",
       "    </tr>\n",
       "    <tr>\n",
       "      <th>3</th>\n",
       "      <td>0</td>\n",
       "      <td>262</td>\n",
       "      <td>368.0</td>\n",
       "      <td>32</td>\n",
       "      <td>5</td>\n",
       "      <td>1</td>\n",
       "      <td>2</td>\n",
       "      <td>1</td>\n",
       "      <td>2</td>\n",
       "      <td>9</td>\n",
       "      <td>1</td>\n",
       "      <td>0</td>\n",
       "      <td>2</td>\n",
       "      <td>0</td>\n",
       "      <td>0</td>\n",
       "    </tr>\n",
       "    <tr>\n",
       "      <th>4</th>\n",
       "      <td>0</td>\n",
       "      <td>262</td>\n",
       "      <td>368.0</td>\n",
       "      <td>32</td>\n",
       "      <td>5</td>\n",
       "      <td>1</td>\n",
       "      <td>2</td>\n",
       "      <td>1</td>\n",
       "      <td>2</td>\n",
       "      <td>9</td>\n",
       "      <td>1</td>\n",
       "      <td>0</td>\n",
       "      <td>1</td>\n",
       "      <td>2</td>\n",
       "      <td>0</td>\n",
       "    </tr>\n",
       "  </tbody>\n",
       "</table>\n",
       "</div>"
      ],
      "text/plain": [
       "   col0  col1   col2  col3  col4  col5  col6  col7  col8  col9  col10  col11  col12  col13  col14\n",
       "0     0   381  605.0     7    15     1     0     1     0     5      0      0      1      2      0\n",
       "1     0   381  605.0     7    15     1     0     1     0     5      0      0      2      2      0\n",
       "2     0   262  368.0    32     5     1     2     1     2     9      1      0      2      2      0\n",
       "3     0   262  368.0    32     5     1     2     1     2     9      1      0      2      0      0\n",
       "4     0   262  368.0    32     5     1     2     1     2     9      1      0      1      2      0"
      ]
     },
     "execution_count": 207,
     "metadata": {},
     "output_type": "execute_result"
    }
   ],
   "source": [
    "dfx.head()"
   ]
  },
  {
   "cell_type": "code",
   "execution_count": 208,
   "metadata": {},
   "outputs": [
    {
     "name": "stdout",
     "output_type": "stream",
     "text": [
      "<class 'pandas.core.frame.DataFrame'>\n",
      "RangeIndex: 86952 entries, 0 to 86951\n",
      "Data columns (total 15 columns):\n",
      " #   Column  Non-Null Count  Dtype  \n",
      "---  ------  --------------  -----  \n",
      " 0   col0    86952 non-null  int64  \n",
      " 1   col1    86952 non-null  int64  \n",
      " 2   col2    86952 non-null  float64\n",
      " 3   col3    86952 non-null  int64  \n",
      " 4   col4    86952 non-null  int64  \n",
      " 5   col5    86952 non-null  int64  \n",
      " 6   col6    86952 non-null  int64  \n",
      " 7   col7    86952 non-null  int64  \n",
      " 8   col8    86952 non-null  int64  \n",
      " 9   col9    86952 non-null  int64  \n",
      " 10  col10   86952 non-null  int64  \n",
      " 11  col11   86952 non-null  int64  \n",
      " 12  col12   86952 non-null  int64  \n",
      " 13  col13   86952 non-null  int64  \n",
      " 14  col14   86952 non-null  int64  \n",
      "dtypes: float64(1), int64(14)\n",
      "memory usage: 10.0 MB\n"
     ]
    }
   ],
   "source": [
    "dfx.info()"
   ]
  },
  {
   "cell_type": "code",
   "execution_count": 209,
   "metadata": {},
   "outputs": [
    {
     "name": "stdout",
     "output_type": "stream",
     "text": [
      "             col0        col1        col2        col3        col4        col5        col6        col7        col8        col9       col10       col11       col12       col13       col14\n",
      "count  86952.0000  86952.0000  86952.0000  86952.0000  86952.0000  86952.0000  86952.0000  86952.0000  86952.0000  86952.0000  86952.0000  86952.0000  86952.0000  86952.0000  86952.0000\n",
      "mean       2.9618    234.3929    458.9134     19.0324      9.1285      1.0576      2.4139      2.4975      1.0995      3.2484      0.2879      3.9606      1.3626      1.5190      0.2558\n",
      "std        2.0172    142.9484    239.0857      8.5091      4.3668      0.4899      0.8180      2.8601      0.9810      2.2158      0.4528      5.5344      0.5187      0.8551      0.6139\n",
      "min        0.0000     40.0000      0.0000      0.0000      0.0000      0.0000      0.0000      0.0000      0.0000      0.0000      0.0000      0.0000      0.0000      0.0000      0.0000\n",
      "25%        1.0000    116.0000    289.0000     15.0000      6.0000      1.0000      2.0000      1.0000      0.0000      0.0000      0.0000      0.0000      1.0000      2.0000      0.0000\n",
      "50%        3.0000    262.0000    489.0000     16.0000      9.0000      1.0000      3.0000      1.0000      2.0000      5.0000      0.0000      2.0000      1.0000      2.0000      0.0000\n",
      "75%        5.0000    381.0000    621.0000     26.0000     14.0000      1.0000      3.0000      6.0000      2.0000      5.0000      1.0000      5.0000      2.0000      2.0000      0.0000\n",
      "max        6.0000    459.0000    949.0000     32.0000     16.0000      2.0000      3.0000      9.0000      2.0000      9.0000      1.0000     20.0000      4.0000      3.0000      2.0000\n"
     ]
    }
   ],
   "source": [
    "print(dfx.describe())"
   ]
  },
  {
   "cell_type": "code",
   "execution_count": 210,
   "metadata": {},
   "outputs": [
    {
     "data": {
      "image/png": "[encoded data removed]",
      "text/plain": [
       "<Figure size 432x288 with 16 Axes>"
      ]
     },
     "metadata": {
      "needs_background": "light"
     },
     "output_type": "display_data"
    }
   ],
   "source": [
    "dfx.hist()\n",
    "plt.show()"
   ]
  },
  {
   "cell_type": "code",
   "execution_count": 211,
   "metadata": {},
   "outputs": [
    {
     "data": {
      "image/png": "[encoded data removed]",
      "text/plain": [
       "<Figure size 432x288 with 1 Axes>"
      ]
     },
     "metadata": {
      "needs_background": "light"
     },
     "output_type": "display_data"
    }
   ],
   "source": [
    "plt.hist(dfx['col2'], bins, alpha=0.5, label='Col4')\n",
    "plt.legend(loc='upper right')\n",
    "plt.show()"
   ]
  },
  {
   "cell_type": "code",
   "execution_count": 212,
   "metadata": {},
   "outputs": [
    {
     "data": {
      "image/png": "[encoded data removed]",
      "text/plain": [
       "<Figure size 432x288 with 1 Axes>"
      ]
     },
     "metadata": {
      "needs_background": "light"
     },
     "output_type": "display_data"
    }
   ],
   "source": [
    "stats.probplot(dfx['col2'], dist=\"norm\", plot=pylab)\n",
    "pylab.show()"
   ]
  },
  {
   "cell_type": "code",
   "execution_count": null,
   "metadata": {},
   "outputs": [],
   "source": [
    "#Normalização dos valores para uma melhor performance do algoritmo de classificação\n",
    "#Foram efetuados testes com StandardScaler, MinMaxScaler e RobustScaler, mas optou-se pelo StandardScaler"
   ]
  },
  {
   "cell_type": "code",
   "execution_count": 30,
   "metadata": {},
   "outputs": [
    {
     "name": "stdout",
     "output_type": "stream",
     "text": [
      "Média antes da normalização: 49.48 \n",
      "Desvio padrão antes da normalização: 143.08\n",
      "\n",
      "Média depois da normalização: -0.00 \n",
      "Desvio padrão depois da normalização: 1.00\n"
     ]
    }
   ],
   "source": [
    "#Normalização dos valores com StandardScaler\n",
    "std = preprocessing.StandardScaler()\n",
    "std.fit(X)\n",
    "Xstd = std.transform(X)\n",
    "print ('Média antes da normalização: {:.2f}'.format(X.mean()),'\\nDesvio padrão antes da normalização: {:.2f}'.format(X.std()))\n",
    "print('')\n",
    "print ('Média depois da normalização: {:.2f}'.format(Xstd.mean()),'\\nDesvio padrão depois da normalização: {:.2f}'.format(Xstd.std()))"
   ]
  },
  {
   "cell_type": "code",
   "execution_count": null,
   "metadata": {},
   "outputs": [],
   "source": [
    "#Depois de normalizado, o array Xstd, que contém os valores para a predição, é dividido em 4 partes para treinamento e teste\n",
    "#X_trainset: uma de treinamento do modelo, onde o algoritmo irá 'apreender' a relação entre as variáveis preditoras;\n",
    "#Y_trainset: uma parte também de treinamento do modelo, mas somente com as variáveis alvo, ou os valores que queremos prever;\n",
    "#X_testset: uma parte para teste, onde o modelo irá exercer o aprendizado obtido com os arrays X_trainset e Y_trainset, ou irá testar o que foi observado com os arrays de treinamento; e\n",
    "#Y_testset: uma parte para avaliar o desempenho do modelo, em que Y_testset contém as saídas corretas que se deseja prever e é usado para comparar com as predições feitas pelo modelo."
   ]
  },
  {
   "cell_type": "code",
   "execution_count": 32,
   "metadata": {},
   "outputs": [],
   "source": [
    "#Divisão do dataset seguindo a proporção 70/30 (70% para treino e 30% para teste)\n",
    "X_trainset, X_testset, Y_trainset, Y_testset = train_test_split(Xstd, Y, test_size=0.3, random_state=3)"
   ]
  },
  {
   "cell_type": "code",
   "execution_count": 216,
   "metadata": {},
   "outputs": [],
   "source": [
    "#Teste com o algoritmo SGDClassifier\n",
    "from sklearn.linear_model import SGDClassifier"
   ]
  },
  {
   "cell_type": "code",
   "execution_count": 277,
   "metadata": {},
   "outputs": [
    {
     "name": "stdout",
     "output_type": "stream",
     "text": [
      "Tempo de treinamento para linear SVM com SGD: 3.3240966796875s\n",
      "Tempo de treinamento para linear SVM sem SGD: 953.1051347255707s\n"
     ]
    }
   ],
   "source": [
    "#Comparação de Linear SVM sem SGD com o SGDClassifier\n",
    "from sklearn.svm import SVC\n",
    "import time\n",
    "start = time.time()\n",
    "clf = SGDClassifier(loss=\"hinge\", penalty=\"l2\")\n",
    "clf.fit(X_trainset,Y_trainset)\n",
    "stop = time.time()\n",
    "print(f\"Tempo de treinamento para linear SVM com SGD: {stop - start}s\")\n",
    "\n",
    "start = time.time()\n",
    "clf = SVC(kernel='linear')\n",
    "clf.fit(X_trainset,Y_trainset)\n",
    "stop = time.time()\n",
    "print(f\"Tempo de treinamento para linear SVM sem SGD: {stop - start}s\")\n",
    "#SGD classifier executa bem mais rápido do que o Linear SVM"
   ]
  },
  {
   "cell_type": "code",
   "execution_count": 278,
   "metadata": {},
   "outputs": [
    {
     "data": {
      "text/plain": [
       "SGDClassifier(loss='log')"
      ]
     },
     "execution_count": 278,
     "metadata": {},
     "output_type": "execute_result"
    }
   ],
   "source": [
    "#Regressão Logística (loss='log') com treinamento SGD do modelo\n",
    "clf = SGDClassifier(loss=\"log\", penalty=\"l2\")\n",
    "clf.fit(X_trainset,Y_trainset)"
   ]
  },
  {
   "cell_type": "code",
   "execution_count": 279,
   "metadata": {},
   "outputs": [
    {
     "name": "stdout",
     "output_type": "stream",
     "text": [
      "Acurácia: 0.58\n"
     ]
    }
   ],
   "source": [
    "Y_Pred = clf.predict(X_testset)\n",
    "print('Acurácia: {:.2f}'.format(accuracy_score(Y_testset, Y_Pred)))"
   ]
  },
  {
   "cell_type": "code",
   "execution_count": null,
   "metadata": {},
   "outputs": [],
   "source": [
    "#Verificando a influência sob o número de iterações\n",
    "n_iters = [5, 10, 20, 50, 100, 1000]\n",
    "scores = []\n",
    "for n_iter in n_iters:\n",
    "    clf = SGDClassifier(loss=\"log\", penalty=\"l2\", max_iter=n_iter)\n",
    "    clf.fit(X_trainset,Y_trainset)\n",
    "    scores.append(clf.score(X_testset, Y_testset))"
   ]
  },
  {
   "cell_type": "code",
   "execution_count": 281,
   "metadata": {},
   "outputs": [
    {
     "data": {
      "text/plain": [
       "[<matplotlib.lines.Line2D at 0x1b54aec4ee0>]"
      ]
     },
     "execution_count": 281,
     "metadata": {},
     "output_type": "execute_result"
    },
    {
     "data": {
      "image/png": "[encoded data removed]",
      "text/plain": [
       "<Figure size 432x288 with 1 Axes>"
      ]
     },
     "metadata": {
      "needs_background": "light"
     },
     "output_type": "display_data"
    }
   ],
   "source": [
    "plt.title(\"Efeito de n_iter\")\n",
    "plt.xlabel(\"n_iter\")\n",
    "plt.ylabel(\"Score\")\n",
    "plt.plot(n_iters, scores) "
   ]
  },
  {
   "cell_type": "code",
   "execution_count": 282,
   "metadata": {},
   "outputs": [
    {
     "data": {
      "text/plain": [
       "SGDClassifier()"
      ]
     },
     "execution_count": 282,
     "metadata": {},
     "output_type": "execute_result"
    }
   ],
   "source": [
    "#Linear SVM (loss='hinge') com treinamento SGD do modelo\n",
    "clf = SGDClassifier(loss=\"hinge\", penalty=\"l2\")\n",
    "clf.fit(X_trainset,Y_trainset)"
   ]
  },
  {
   "cell_type": "code",
   "execution_count": 283,
   "metadata": {},
   "outputs": [
    {
     "name": "stdout",
     "output_type": "stream",
     "text": [
      "Acurácia: 0.59\n"
     ]
    }
   ],
   "source": [
    "Y_Pred = clf.predict(X_testset)\n",
    "print('Acurácia: {:.2f}'.format(accuracy_score(Y_testset, Y_Pred)))"
   ]
  },
  {
   "cell_type": "code",
   "execution_count": null,
   "metadata": {},
   "outputs": [],
   "source": [
    "#Verificando a influência sob o número de iterações\n",
    "n_iters = [5, 10, 20, 50, 100, 1000]\n",
    "scores = []\n",
    "for n_iter in n_iters:\n",
    "    clf = SGDClassifier(loss=\"hinge\", penalty=\"l2\", max_iter=n_iter)\n",
    "    clf.fit(X_trainset,Y_trainset)\n",
    "    scores.append(clf.score(X_testset, Y_testset))"
   ]
  },
  {
   "cell_type": "code",
   "execution_count": 285,
   "metadata": {},
   "outputs": [
    {
     "data": {
      "text/plain": [
       "[<matplotlib.lines.Line2D at 0x1b54ab2b700>]"
      ]
     },
     "execution_count": 285,
     "metadata": {},
     "output_type": "execute_result"
    },
    {
     "data": {
      "image/png": "[encoded data removed]",
      "text/plain": [
       "<Figure size 432x288 with 1 Axes>"
      ]
     },
     "metadata": {
      "needs_background": "light"
     },
     "output_type": "display_data"
    }
   ],
   "source": [
    "plt.title(\"Efeito de n_iter\")\n",
    "plt.xlabel(\"n_iter\")\n",
    "plt.ylabel(\"Score\")\n",
    "plt.plot(n_iters, scores)"
   ]
  },
  {
   "cell_type": "code",
   "execution_count": 264,
   "metadata": {},
   "outputs": [],
   "source": [
    "#Comparação de desempenho \"Performance\" entre diferentes modelos lineares\n",
    "losses = [\"hinge\", \"log\", \"modified_huber\", \"perceptron\", \"squared_hinge\"]\n",
    "scores = []\n",
    "for loss in losses:\n",
    "    clf = SGDClassifier(loss=loss, penalty=\"l2\", max_iter=1000)\n",
    "    clf.fit(X_trainset,Y_trainset)\n",
    "    scores.append(clf.score(X_testset,Y_testset))"
   ]
  },
  {
   "cell_type": "code",
   "execution_count": 265,
   "metadata": {},
   "outputs": [
    {
     "data": {
      "text/plain": [
       "[<matplotlib.lines.Line2D at 0x1b547873d30>]"
      ]
     },
     "execution_count": 265,
     "metadata": {},
     "output_type": "execute_result"
    },
    {
     "data": {
      "image/png": "[encoded data removed]",
      "text/plain": [
       "<Figure size 432x288 with 1 Axes>"
      ]
     },
     "metadata": {
      "needs_background": "light"
     },
     "output_type": "display_data"
    }
   ],
   "source": [
    "plt.title(\"Efeito de loss\")\n",
    "plt.xlabel(\"loss\")\n",
    "plt.ylabel(\"score\")\n",
    "x = np.arange(len(losses))\n",
    "plt.xticks(x, losses)\n",
    "plt.plot(x, scores) "
   ]
  },
  {
   "cell_type": "code",
   "execution_count": 270,
   "metadata": {},
   "outputs": [],
   "source": [
    "#Encontrando os hyper parâmetros mais adequados por meio do método GridSearch\n",
    "params = {\n",
    "    \"loss\" : [\"hinge\", \"log\", \"squared_hinge\", \"modified_huber\", \"perceptron\"],\n",
    "    \"alpha\" : [0.0001, 0.001, 0.01, 0.1],\n",
    "    \"penalty\" : [\"l2\", \"l1\", \"elasticnet\", \"none\"],\n",
    "}\n",
    "\n",
    "clf = SGDClassifier(max_iter=50)\n",
    "grid = GridSearchCV(clf, param_grid=params, cv=10)"
   ]
  },
  {
   "cell_type": "code",
   "execution_count": null,
   "metadata": {},
   "outputs": [],
   "source": [
    "grid.fit(X_trainset,Y_trainset)"
   ]
  },
  {
   "cell_type": "code",
   "execution_count": 273,
   "metadata": {},
   "outputs": [
    {
     "name": "stdout",
     "output_type": "stream",
     "text": [
      "{'alpha': 0.01, 'loss': 'log', 'penalty': 'l1'}\n"
     ]
    }
   ],
   "source": [
    "print(grid.best_params_)"
   ]
  },
  {
   "cell_type": "code",
   "execution_count": 274,
   "metadata": {},
   "outputs": [
    {
     "name": "stdout",
     "output_type": "stream",
     "text": [
      "Acurácia: 0.60\n"
     ]
    }
   ],
   "source": [
    "grid_predictions = grid.predict(X_testset) \n",
    "\n",
    "print('Acurácia: {:.2f}'.format(accuracy_score(Y_testset, grid_predictions)))"
   ]
  },
  {
   "cell_type": "code",
   "execution_count": 286,
   "metadata": {},
   "outputs": [
    {
     "data": {
      "text/plain": [
       "SGDClassifier(alpha=0.01, loss='log', max_iter=50, penalty='l1')"
      ]
     },
     "execution_count": 286,
     "metadata": {},
     "output_type": "execute_result"
    }
   ],
   "source": [
    "#Teste com o algoritmo SGDClassifier e os hyper parâmetros mais adequados\n",
    "clf = SGDClassifier(loss=\"log\", penalty=\"l1\", alpha=0.01, max_iter=50)\n",
    "clf.fit(X_trainset,Y_trainset)"
   ]
  },
  {
   "cell_type": "code",
   "execution_count": 287,
   "metadata": {},
   "outputs": [
    {
     "name": "stdout",
     "output_type": "stream",
     "text": [
      "Acurácia: 0.60\n"
     ]
    }
   ],
   "source": [
    "Y_Pred = clf.predict(X_testset)\n",
    "print('Acurácia: {:.2f}'.format(accuracy_score(Y_testset, Y_Pred)))"
   ]
  },
  {
   "cell_type": "code",
   "execution_count": 292,
   "metadata": {},
   "outputs": [],
   "source": [
    "#Armazenando as predições com dados de treino e dados de teste\n",
    "pTrain = clf.predict(X_trainset)\n",
    "pTest = clf.predict(X_testset)"
   ]
  },
  {
   "cell_type": "code",
   "execution_count": 327,
   "metadata": {},
   "outputs": [],
   "source": [
    "#Import do módulo metrics da biblioteca sklearn\n",
    "import sklearn.metrics as m"
   ]
  },
  {
   "cell_type": "code",
   "execution_count": 296,
   "metadata": {},
   "outputs": [
    {
     "name": "stdout",
     "output_type": "stream",
     "text": [
      "Indice Jaccard p/ dados de Treino loss = log: 0.427%\n",
      "Indice Jaccard p/ dados de Teste loss = log: 0.429%\n"
     ]
    }
   ],
   "source": [
    "#Obtendo o Índice Jaccard dos dados de treino e de teste\n",
    "print('Indice Jaccard p/ dados de Treino loss = log: {:.3f}%'.format(m.jaccard_score(Y_trainset, pTrain, average='micro')))\n",
    "print('Indice Jaccard p/ dados de Teste loss = log: {:.3f}%'.format(m.jaccard_score(Y_testset, pTest, average='micro')))"
   ]
  },
  {
   "cell_type": "code",
   "execution_count": 297,
   "metadata": {},
   "outputs": [
    {
     "name": "stdout",
     "output_type": "stream",
     "text": [
      "Erros de classificação das amostras Treino: 24427 \n",
      "Amostras de treino \"Y\": 60866\n",
      "Erros de classificação das amostras Teste: 10436 \n",
      "Amostras de teste \"Y\": 26086\n"
     ]
    }
   ],
   "source": [
    "#Verificando os erros de classificação nas amostras de treino e de teste\n",
    "print('Erros de classificação das amostras Treino: {}'.format((Y_trainset != pTrain).sum()),'\\nAmostras de treino \"Y\": {}'.format(Y_trainset.shape[0]))\n",
    "print('Erros de classificação das amostras Teste: {}'.format((Y_testset != pTest).sum()),'\\nAmostras de teste \"Y\": {}'.format(Y_testset.shape[0]))"
   ]
  },
  {
   "cell_type": "code",
   "execution_count": 6,
   "metadata": {},
   "outputs": [],
   "source": [
    "#Matriz de confusão\n",
    "import itertools\n",
    "def plot_confusion_matrix(cm, classes,\n",
    "                          normalize=False,\n",
    "                          title='Matriz de Confusão',\n",
    "                          cmap=plt.cm.Blues):\n",
    "    \"\"\"\n",
    "    This function prints and plots the confusion matrix.\n",
    "    Normalization can be applied by setting `normalize=True`.\n",
    "    \"\"\"\n",
    "    if normalize:\n",
    "        cm = cm.astype('float') / cm.sum(axis=1)[:, np.newaxis]\n",
    "        print(\"Matriz de confusão normalizada\")\n",
    "    else:\n",
    "        print('Matriz de confusão sem normalização')\n",
    "\n",
    "    print(cm)\n",
    "\n",
    "    plt.imshow(cm, interpolation='nearest', cmap=cmap)\n",
    "    plt.title(title)\n",
    "    plt.colorbar()\n",
    "    tick_marks = np.arange(len(classes))\n",
    "    plt.xticks(tick_marks, classes, rotation=45)\n",
    "    plt.yticks(tick_marks, classes)\n",
    "\n",
    "    fmt = '.2f' if normalize else 'd'\n",
    "    thresh = cm.max() / 2.\n",
    "    for i, j in itertools.product(range(cm.shape[0]), range(cm.shape[1])):\n",
    "        plt.text(j, i, format(cm[i, j], fmt),\n",
    "                 horizontalalignment=\"center\",\n",
    "                 color=\"white\" if cm[i, j] > thresh else \"black\")\n",
    "\n",
    "    plt.tight_layout()\n",
    "    plt.ylabel('Label verdadeira')\n",
    "    plt.xlabel('Label predita')\n",
    "\n",
    "#retirada de um dos notebooks do curso de Machine learning da Cognitiveclass, assim como o bloco logo em seguida, que faz a chamada a função"
   ]
  },
  {
   "cell_type": "code",
   "execution_count": 368,
   "metadata": {},
   "outputs": [],
   "source": [
    "#Cálculo da matriz de confusão\n",
    "cnf_matrix = m.confusion_matrix(Y_testset, pTest, labels = fset.estado_fisico.unique())\n",
    "np.set_printoptions(precision=2)"
   ]
  },
  {
   "cell_type": "code",
   "execution_count": 370,
   "metadata": {},
   "outputs": [
    {
     "name": "stdout",
     "output_type": "stream",
     "text": [
      "               precision    recall  f1-score   support\n",
      "\n",
      "        Ileso       0.65      0.73      0.68     11379\n",
      "Lesões Graves       0.00      0.00      0.00      3055\n",
      " Lesões Leves       0.55      0.69      0.61     10766\n",
      "        Óbito       0.00      0.00      0.00       886\n",
      "\n",
      "     accuracy                           0.60     26086\n",
      "    macro avg       0.30      0.35      0.32     26086\n",
      " weighted avg       0.51      0.60      0.55     26086\n",
      "\n",
      "Matriz de confusão sem normalização\n",
      "[[7383 3383    0    0]\n",
      " [3112 8267    0    0]\n",
      " [1942 1113    0    0]\n",
      " [ 886    0    0    0]]\n"
     ]
    },
    {
     "data": {
      "image/png": "[encoded data removed]",
      "text/plain": [
       "<Figure size 432x288 with 2 Axes>"
      ]
     },
     "metadata": {
      "needs_background": "light"
     },
     "output_type": "display_data"
    }
   ],
   "source": [
    "print (m.classification_report(Y_testset, pTest))\n",
    "\n",
    "# Gráfico da matriz de confusão sem normalização\n",
    "plt.figure()\n",
    "plot_confusion_matrix(cnf_matrix, classes= fset.estado_fisico.unique(), normalize= False,  title='Matriz de Confusão')"
   ]
  },
  {
   "cell_type": "code",
   "execution_count": 39,
   "metadata": {},
   "outputs": [],
   "source": [
    "#Importando biliotecas para trabalhar com o algoritmo Decision Tree\n",
    "from sklearn.tree import DecisionTreeClassifier"
   ]
  },
  {
   "cell_type": "code",
   "execution_count": 115,
   "metadata": {},
   "outputs": [
    {
     "data": {
      "text/plain": [
       "DecisionTreeClassifier()"
      ]
     },
     "execution_count": 115,
     "metadata": {},
     "output_type": "execute_result"
    }
   ],
   "source": [
    "#Teste com o algoritmo Decision Tree\n",
    "dtclf = DecisionTreeClassifier()\n",
    "dtclf.fit(X_trainset,Y_trainset)"
   ]
  },
  {
   "cell_type": "code",
   "execution_count": 116,
   "metadata": {},
   "outputs": [],
   "source": [
    "#Armazenamento de previões em duas variáveis: uma para os dados de treino e outra para os dados de teste\n",
    "Y_PredTE = dtclf.predict(X_testset)\n",
    "Y_PredTR = dtclf.predict(X_trainset)"
   ]
  },
  {
   "cell_type": "code",
   "execution_count": 117,
   "metadata": {},
   "outputs": [
    {
     "name": "stdout",
     "output_type": "stream",
     "text": [
      "Acurácia p/ dados de Teste: 0.64\n",
      "Acurácia p/ dados de Treino: 0.96\n"
     ]
    }
   ],
   "source": [
    "#Verificando a acurácia nos dados de teste e de treino\n",
    "print('Acurácia p/ dados de Teste: {:.2f}'.format(accuracy_score(Y_testset, Y_PredTE)))\n",
    "print('Acurácia p/ dados de Treino: {:.2f}'.format(accuracy_score(Y_trainset, Y_PredTR)))"
   ]
  },
  {
   "cell_type": "code",
   "execution_count": 118,
   "metadata": {},
   "outputs": [
    {
     "name": "stdout",
     "output_type": "stream",
     "text": [
      "Erros de classificação das amostras Teste: 9407 \n",
      "Amostras de teste \"y\": 26086\n",
      "Erros de classificação das amostras Treino: 2623 \n",
      "Amostras de treino \"y\": 60866\n"
     ]
    }
   ],
   "source": [
    "#Verificando erros de classificação nos dados de teste e de treino\n",
    "print('Erros de classificação das amostras Teste: {}'.format((Y_testset != Y_PredTE).sum()),'\\nAmostras de teste \"y\": {}'.format(Y_testset.shape[0]))\n",
    "print('Erros de classificação das amostras Treino: {}'.format((Y_trainset != Y_PredTR).sum()),'\\nAmostras de treino \"y\": {}'.format(Y_trainset.shape[0]))"
   ]
  },
  {
   "cell_type": "code",
   "execution_count": 119,
   "metadata": {},
   "outputs": [
    {
     "name": "stdout",
     "output_type": "stream",
     "text": [
      "Indice Jaccard p/ dados de Teste: 0.470%\n",
      "Indice Jaccard p/ dados de Treino: 0.917%\n"
     ]
    }
   ],
   "source": [
    "#Obtendo o Índice Jaccard dos dados de teste e treino\n",
    "print('Indice Jaccard p/ dados de Teste: {:.3f}%'.format(m.jaccard_score(Y_testset, Y_PredTE, average='micro')))\n",
    "print('Indice Jaccard p/ dados de Treino: {:.3f}%'.format(m.jaccard_score(Y_trainset, Y_PredTR, average='micro')))"
   ]
  },
  {
   "cell_type": "code",
   "execution_count": 120,
   "metadata": {},
   "outputs": [
    {
     "name": "stdout",
     "output_type": "stream",
     "text": [
      "Média Cross-Validation: 0.635 (std: 0.004)\n",
      "\n"
     ]
    }
   ],
   "source": [
    "#Avaliação do modelo com cross validation\n",
    "scores = cross_val_score(dtclf, X_trainset, Y_trainset, cv=10)\n",
    "print(\"Média Cross-Validation: {:.3f} (std: {:.3f})\".format(scores.mean(),\n",
    "                                          scores.std()),\n",
    "                                          end=\"\\n\\n\" )\n",
    "#a acurácia não aumentou"
   ]
  },
  {
   "cell_type": "code",
   "execution_count": 374,
   "metadata": {},
   "outputs": [
    {
     "data": {
      "text/plain": [
       "GridSearchCV(cv=10,\n",
       "             estimator=DecisionTreeClassifier(criterion='entropy',\n",
       "                                              min_samples_split=4),\n",
       "             param_grid={'criterion': ['gini', 'entropy'],\n",
       "                         'max_depth': [None, 2, 3, 5, 7, 10],\n",
       "                         'max_leaf_nodes': [None, 3, 5, 7, 10, 15, 20],\n",
       "                         'min_samples_leaf': [1, 3, 5, 7, 10],\n",
       "                         'min_samples_split': [2, 5, 10, 15, 20]},\n",
       "             scoring='accuracy')"
      ]
     },
     "execution_count": 374,
     "metadata": {},
     "output_type": "execute_result"
    }
   ],
   "source": [
    "#Encontrando os hyper parâmetros mais adequados por meio do método GridSearch\n",
    "param_grid = {\"criterion\": [\"gini\", \"entropy\"],\n",
    "              \"min_samples_split\": [2, 5, 10, 15, 20],\n",
    "              \"max_depth\": [None, 2, 3, 5, 7, 10],\n",
    "              \"min_samples_leaf\": [1, 3, 5, 7, 10],\n",
    "              \"max_leaf_nodes\": [None, 3, 5, 7, 10, 15, 20],\n",
    "              }\n",
    "\n",
    "grid = GridSearchCV(dtclf, param_grid, cv=10, scoring='accuracy')\n",
    "grid.fit(X_trainset, Y_trainset)"
   ]
  },
  {
   "cell_type": "code",
   "execution_count": 375,
   "metadata": {},
   "outputs": [
    {
     "name": "stdout",
     "output_type": "stream",
     "text": [
      "0.7130583616107357\n"
     ]
    }
   ],
   "source": [
    "#O melhor score obtido entre todos os parâmetros\n",
    "print(grid.best_score_)"
   ]
  },
  {
   "cell_type": "code",
   "execution_count": 376,
   "metadata": {},
   "outputs": [
    {
     "name": "stdout",
     "output_type": "stream",
     "text": [
      "{'criterion': 'gini', 'max_depth': 10, 'max_leaf_nodes': None, 'min_samples_leaf': 10, 'min_samples_split': 15}\n"
     ]
    }
   ],
   "source": [
    "#Relação dos hyper parâmetros usados para gerar o melhor score\n",
    "print(grid.best_params_)"
   ]
  },
  {
   "cell_type": "code",
   "execution_count": 121,
   "metadata": {},
   "outputs": [
    {
     "name": "stdout",
     "output_type": "stream",
     "text": [
      "Acurácia p/ dados de Teste: 0.71\n",
      "Acurácia p/ dados de Treino: 0.72\n",
      "Erros de classificação das amostras Teste: 7536 \n",
      "Amostras de teste \"y\": 26086\n",
      "Erros de classificação das amostras Treino: 16989 \n",
      "Amostras de treino \"y\": 60866\n",
      "Indice Jaccard p/ dados de Teste: 0.552%\n",
      "Indice Jaccard p/ dados de Treino: 0.564%\n"
     ]
    }
   ],
   "source": [
    "#Teste com o algoritmo DecisionTree e os hyper parâmetros mais adequados\n",
    "dtclf = DecisionTreeClassifier(criterion = 'gini', max_depth=10, max_leaf_nodes=None, min_samples_leaf=10, min_samples_split=15)\n",
    "dtclf.fit(X_trainset,Y_trainset)\n",
    "Y_PredTE = dtclf.predict(X_testset)\n",
    "Y_PredTR = dtclf.predict(X_trainset)\n",
    "print('Acurácia p/ dados de Teste: {:.2f}'.format(accuracy_score(Y_testset, Y_PredTE)))\n",
    "print('Acurácia p/ dados de Treino: {:.2f}'.format(accuracy_score(Y_trainset, Y_PredTR)))\n",
    "print('Erros de classificação das amostras Teste: {}'.format((Y_testset != Y_PredTE).sum()),'\\nAmostras de teste \"y\": {}'.format(Y_testset.shape[0]))\n",
    "print('Erros de classificação das amostras Treino: {}'.format((Y_trainset != Y_PredTR).sum()),'\\nAmostras de treino \"y\": {}'.format(Y_trainset.shape[0]))\n",
    "print('Indice Jaccard p/ dados de Teste: {:.3f}%'.format(m.jaccard_score(Y_testset, Y_PredTE, average='micro')))\n",
    "print('Indice Jaccard p/ dados de Treino: {:.3f}%'.format(m.jaccard_score(Y_trainset, Y_PredTR, average='micro')))"
   ]
  },
  {
   "cell_type": "code",
   "execution_count": 122,
   "metadata": {},
   "outputs": [],
   "source": [
    "#Cálculo da matriz de confusão\n",
    "cnf_matrix_dt = m.confusion_matrix(Y_testset, Y_PredTE, labels = fset.estado_fisico.unique())\n",
    "np.set_printoptions(precision=2)"
   ]
  },
  {
   "cell_type": "code",
   "execution_count": 123,
   "metadata": {},
   "outputs": [
    {
     "name": "stdout",
     "output_type": "stream",
     "text": [
      "               precision    recall  f1-score   support\n",
      "\n",
      "        Ileso       0.81      0.77      0.79     11379\n",
      "Lesões Graves       0.41      0.08      0.14      3055\n",
      " Lesões Leves       0.65      0.83      0.73     10766\n",
      "        Óbito       0.63      0.68      0.65       886\n",
      "\n",
      "     accuracy                           0.71     26086\n",
      "    macro avg       0.63      0.59      0.58     26086\n",
      " weighted avg       0.69      0.71      0.68     26086\n",
      "\n",
      "Matriz de confusão sem normalização\n",
      "[[8907 1551  192  116]\n",
      " [2453 8791   34  101]\n",
      " [2267  396  250  142]\n",
      " [  69   84  131  602]]\n"
     ]
    },
    {
     "data": {
      "image/png": "[encoded data removed]",
      "text/plain": [
       "<Figure size 432x288 with 2 Axes>"
      ]
     },
     "metadata": {
      "needs_background": "light"
     },
     "output_type": "display_data"
    }
   ],
   "source": [
    "print (m.classification_report(Y_testset, Y_PredTE))\n",
    "\n",
    "# Gráfico da matriz de confusão sem normalização\n",
    "plt.figure()\n",
    "plot_confusion_matrix(cnf_matrix_dt, classes= fset.estado_fisico.unique(), normalize= False,  title='Matriz de Confusão')"
   ]
  },
  {
   "cell_type": "code",
   "execution_count": 125,
   "metadata": {},
   "outputs": [
    {
     "data": {
      "text/plain": [
       "[Text(158.28592779503106, 207.55636363636364, 'X[5] <= 0.903\\ngini = 0.623\\nsamples = 60866\\nvalue = [26516, 6967, 25312, 2071]'),\n",
       " Text(157.5927600931677, 187.7890909090909, 'X[5] <= -1.138\\ngini = 0.628\\nsamples = 51708\\nvalue = [17358, 6967, 25312, 2071]'),\n",
       " Text(68.50446428571429, 168.0218181818182, 'X[11] <= 2.537\\ngini = 0.725\\nsamples = 5676\\nvalue = [1562, 857, 1186, 2071]'),\n",
       " Text(41.590062111801245, 148.25454545454545, 'X[12] <= 0.265\\ngini = 0.704\\nsamples = 4647\\nvalue = [1159, 752, 757, 1979]'),\n",
       " Text(24.82406832298137, 128.48727272727274, 'X[11] <= 1.001\\ngini = 0.66\\nsamples = 2735\\nvalue = [966, 241, 326, 1202]'),\n",
       " Text(15.336335403726709, 108.72, 'X[11] <= -0.264\\ngini = 0.671\\nsamples = 2375\\nvalue = [953, 220, 305, 897]'),\n",
       " Text(6.585093167701864, 88.95272727272729, 'X[4] <= -1.747\\ngini = 0.672\\nsamples = 1203\\nvalue = [277, 158, 187, 581]'),\n",
       " Text(2.0795031055900624, 69.18545454545455, 'X[3] <= -1.355\\ngini = 0.407\\nsamples = 126\\nvalue = [95, 4, 15, 12]'),\n",
       " Text(1.3863354037267082, 49.418181818181836, 'gini = 0.43\\nsamples = 11\\nvalue = [1, 2, 0, 8]'),\n",
       " Text(2.7726708074534163, 49.418181818181836, 'X[9] <= 0.114\\ngini = 0.313\\nsamples = 115\\nvalue = [94, 2, 15, 4]'),\n",
       " Text(1.3863354037267082, 29.650909090909096, 'X[2] <= 0.728\\ngini = 0.503\\nsamples = 37\\nvalue = [24, 1, 10, 2]'),\n",
       " Text(0.6931677018633541, 9.883636363636384, 'gini = 0.544\\nsamples = 26\\nvalue = [15, 1, 9, 1]'),\n",
       " Text(2.0795031055900624, 9.883636363636384, 'gini = 0.314\\nsamples = 11\\nvalue = [9, 0, 1, 1]'),\n",
       " Text(4.159006211180125, 29.650909090909096, 'X[3] <= -0.415\\ngini = 0.19\\nsamples = 78\\nvalue = [70, 1, 5, 2]'),\n",
       " Text(3.4658385093167703, 9.883636363636384, 'gini = 0.097\\nsamples = 59\\nvalue = [56, 0, 3, 0]'),\n",
       " Text(4.852173913043479, 9.883636363636384, 'gini = 0.432\\nsamples = 19\\nvalue = [14, 1, 2, 2]'),\n",
       " Text(11.090683229813665, 69.18545454545455, 'X[11] <= -0.445\\ngini = 0.646\\nsamples = 1077\\nvalue = [182, 154, 172, 569]'),\n",
       " Text(8.31801242236025, 49.418181818181836, 'X[11] <= -0.625\\ngini = 0.621\\nsamples = 865\\nvalue = [128, 130, 122, 485]'),\n",
       " Text(6.931677018633541, 29.650909090909096, 'X[4] <= -0.602\\ngini = 0.648\\nsamples = 796\\nvalue = [127, 129, 121, 419]'),\n",
       " Text(6.238509316770187, 9.883636363636384, 'gini = 0.594\\nsamples = 424\\nvalue = [36, 75, 64, 249]'),\n",
       " Text(7.6248447204968945, 9.883636363636384, 'gini = 0.687\\nsamples = 372\\nvalue = [91, 54, 57, 170]'),\n",
       " Text(9.704347826086957, 29.650909090909096, 'X[2] <= -0.897\\ngini = 0.084\\nsamples = 69\\nvalue = [1, 1, 1, 66]'),\n",
       " Text(9.011180124223603, 9.883636363636384, 'gini = 0.229\\nsamples = 24\\nvalue = [1, 1, 1, 21]'),\n",
       " Text(10.397515527950311, 9.883636363636384, 'gini = 0.0\\nsamples = 45\\nvalue = [0, 0, 0, 45]'),\n",
       " Text(13.863354037267081, 49.418181818181836, 'X[1] <= 0.532\\ngini = 0.71\\nsamples = 212\\nvalue = [54, 24, 50, 84]'),\n",
       " Text(12.477018633540373, 29.650909090909096, 'X[3] <= 0.172\\ngini = 0.656\\nsamples = 130\\nvalue = [30, 11, 24, 65]'),\n",
       " Text(11.78385093167702, 9.883636363636384, 'gini = 0.688\\nsamples = 74\\nvalue = [23, 4, 18, 29]'),\n",
       " Text(13.170186335403727, 9.883636363636384, 'gini = 0.544\\nsamples = 56\\nvalue = [7, 7, 6, 36]'),\n",
       " Text(15.249689440993789, 29.650909090909096, 'X[8] <= -0.611\\ngini = 0.735\\nsamples = 82\\nvalue = [24, 13, 26, 19]'),\n",
       " Text(14.556521739130435, 9.883636363636384, 'gini = 0.63\\nsamples = 29\\nvalue = [15, 1, 6, 7]'),\n",
       " Text(15.942857142857143, 9.883636363636384, 'gini = 0.726\\nsamples = 53\\nvalue = [9, 12, 20, 12]'),\n",
       " Text(24.087577639751554, 88.95272727272729, 'X[4] <= 1.23\\ngini = 0.582\\nsamples = 1172\\nvalue = [676, 62, 118, 316]'),\n",
       " Text(19.75527950310559, 69.18545454545455, 'X[4] <= -1.747\\ngini = 0.515\\nsamples = 984\\nvalue = [652, 51, 104, 177]'),\n",
       " Text(17.32919254658385, 49.418181818181836, 'X[2] <= 0.055\\ngini = 0.064\\nsamples = 91\\nvalue = [88, 0, 0, 3]'),\n",
       " Text(16.6360248447205, 29.650909090909096, 'gini = 0.0\\nsamples = 34\\nvalue = [34, 0, 0, 0]'),\n",
       " Text(18.022360248447207, 29.650909090909096, 'X[2] <= 0.193\\ngini = 0.1\\nsamples = 57\\nvalue = [54, 0, 0, 3]'),\n",
       " Text(17.32919254658385, 9.883636363636384, 'gini = 0.231\\nsamples = 15\\nvalue = [13, 0, 0, 2]'),\n",
       " Text(18.71552795031056, 9.883636363636384, 'gini = 0.046\\nsamples = 42\\nvalue = [41, 0, 0, 1]'),\n",
       " Text(22.18136645962733, 49.418181818181836, 'X[4] <= -0.831\\ngini = 0.546\\nsamples = 893\\nvalue = [564, 51, 104, 174]'),\n",
       " Text(20.795031055900623, 29.650909090909096, 'X[9] <= 0.565\\ngini = 0.559\\nsamples = 74\\nvalue = [18, 4, 7, 45]'),\n",
       " Text(20.101863354037267, 9.883636363636384, 'gini = 0.371\\nsamples = 46\\nvalue = [3, 3, 4, 36]'),\n",
       " Text(21.488198757763975, 9.883636363636384, 'gini = 0.597\\nsamples = 28\\nvalue = [15, 1, 3, 9]'),\n",
       " Text(23.56770186335404, 29.650909090909096, 'X[11] <= 0.097\\ngini = 0.513\\nsamples = 819\\nvalue = [546, 47, 97, 129]'),\n",
       " Text(22.874534161490686, 9.883636363636384, 'gini = 0.489\\nsamples = 765\\nvalue = [527, 40, 86, 112]'),\n",
       " Text(24.260869565217394, 9.883636363636384, 'gini = 0.719\\nsamples = 54\\nvalue = [19, 7, 11, 17]'),\n",
       " Text(28.419875776397518, 69.18545454545455, 'X[10] <= 0.468\\ngini = 0.428\\nsamples = 188\\nvalue = [24, 11, 14, 139]'),\n",
       " Text(27.726708074534162, 49.418181818181836, 'X[2] <= -1.277\\ngini = 0.418\\nsamples = 175\\nvalue = [19, 11, 14, 131]'),\n",
       " Text(26.340372670807454, 29.650909090909096, 'X[1] <= 0.211\\ngini = 0.184\\nsamples = 30\\nvalue = [2, 1, 0, 27]'),\n",
       " Text(25.647204968944102, 9.883636363636384, 'gini = 0.338\\nsamples = 15\\nvalue = [2, 1, 0, 12]'),\n",
       " Text(27.03354037267081, 9.883636363636384, 'gini = 0.0\\nsamples = 15\\nvalue = [0, 0, 0, 15]'),\n",
       " Text(29.11304347826087, 29.650909090909096, 'X[1] <= 0.155\\ngini = 0.458\\nsamples = 145\\nvalue = [17, 10, 14, 104]'),\n",
       " Text(28.419875776397518, 9.883636363636384, 'gini = 0.346\\nsamples = 60\\nvalue = [4, 3, 5, 48]'),\n",
       " Text(29.806211180124226, 9.883636363636384, 'gini = 0.525\\nsamples = 85\\nvalue = [13, 7, 9, 56]'),\n",
       " Text(29.11304347826087, 49.418181818181836, 'gini = 0.473\\nsamples = 13\\nvalue = [5, 0, 0, 8]'),\n",
       " Text(34.31180124223603, 108.72, 'X[11] <= 1.453\\ngini = 0.274\\nsamples = 360\\nvalue = [13, 21, 21, 305]'),\n",
       " Text(33.61863354037267, 88.95272727272729, 'X[4] <= -1.403\\ngini = 0.234\\nsamples = 349\\nvalue = [3, 21, 21, 304]'),\n",
       " Text(31.192546583850934, 69.18545454545455, 'X[1] <= 0.522\\ngini = 0.675\\nsamples = 26\\nvalue = [2, 4, 10, 10]'),\n",
       " Text(30.499378881987578, 49.418181818181836, 'gini = 0.656\\nsamples = 16\\nvalue = [2, 2, 4, 8]'),\n",
       " Text(31.885714285714286, 49.418181818181836, 'gini = 0.56\\nsamples = 10\\nvalue = [0, 2, 6, 2]'),\n",
       " Text(36.04472049689441, 69.18545454545455, 'X[4] <= -0.602\\ngini = 0.168\\nsamples = 323\\nvalue = [1, 17, 11, 294]'),\n",
       " Text(33.272049689441, 49.418181818181836, 'X[10] <= 0.468\\ngini = 0.06\\nsamples = 129\\nvalue = [0, 3, 1, 125]'),\n",
       " Text(31.885714285714286, 29.650909090909096, 'X[3] <= -0.533\\ngini = 0.019\\nsamples = 105\\nvalue = [0, 1, 0, 104]'),\n",
       " Text(31.192546583850934, 9.883636363636384, 'gini = 0.077\\nsamples = 25\\nvalue = [0, 1, 0, 24]'),\n",
       " Text(32.57888198757764, 9.883636363636384, 'gini = 0.0\\nsamples = 80\\nvalue = [0, 0, 0, 80]'),\n",
       " Text(34.6583850931677, 29.650909090909096, 'X[0] <= -0.725\\ngini = 0.226\\nsamples = 24\\nvalue = [0, 2, 1, 21]'),\n",
       " Text(33.96521739130435, 9.883636363636384, 'gini = 0.46\\nsamples = 10\\nvalue = [0, 2, 1, 7]'),\n",
       " Text(35.35155279503106, 9.883636363636384, 'gini = 0.0\\nsamples = 14\\nvalue = [0, 0, 0, 14]'),\n",
       " Text(38.81739130434783, 49.418181818181836, 'X[8] <= 0.408\\ngini = 0.233\\nsamples = 194\\nvalue = [1, 14, 10, 169]'),\n",
       " Text(37.43105590062112, 29.650909090909096, 'X[9] <= -1.24\\ngini = 0.123\\nsamples = 78\\nvalue = [1, 2, 2, 73]'),\n",
       " Text(36.737888198757766, 9.883636363636384, 'gini = 0.367\\nsamples = 14\\nvalue = [1, 1, 1, 11]'),\n",
       " Text(38.12422360248448, 9.883636363636384, 'gini = 0.061\\nsamples = 64\\nvalue = [0, 1, 1, 62]'),\n",
       " Text(40.203726708074534, 29.650909090909096, 'X[2] <= -0.228\\ngini = 0.3\\nsamples = 116\\nvalue = [0, 12, 8, 96]'),\n",
       " Text(39.51055900621118, 9.883636363636384, 'gini = 0.111\\nsamples = 51\\nvalue = [0, 3, 0, 48]'),\n",
       " Text(40.89689440993789, 9.883636363636384, 'gini = 0.42\\nsamples = 65\\nvalue = [0, 9, 8, 48]'),\n",
       " Text(35.00496894409938, 88.95272727272729, 'gini = 0.165\\nsamples = 11\\nvalue = [10, 0, 0, 1]'),\n",
       " Text(58.35605590062112, 128.48727272727274, 'X[12] <= 2.193\\ngini = 0.702\\nsamples = 1912\\nvalue = [193, 511, 431, 777]'),\n",
       " Text(48.08850931677019, 108.72, 'X[4] <= -1.747\\ngini = 0.725\\nsamples = 1628\\nvalue = [190, 499, 425, 514]'),\n",
       " Text(42.2832298136646, 88.95272727272729, 'X[3] <= -1.355\\ngini = 0.635\\nsamples = 68\\nvalue = [34, 8, 21, 5]'),\n",
       " Text(41.590062111801245, 69.18545454545455, 'gini = 0.586\\nsamples = 18\\nvalue = [0, 7, 9, 2]'),\n",
       " Text(42.97639751552795, 69.18545454545455, 'X[3] <= -0.415\\ngini = 0.476\\nsamples = 50\\nvalue = [34, 1, 12, 3]'),\n",
       " Text(42.2832298136646, 49.418181818181836, 'X[1] <= -1.059\\ngini = 0.33\\nsamples = 36\\nvalue = [29, 1, 5, 1]'),\n",
       " Text(41.590062111801245, 29.650909090909096, 'gini = 0.0\\nsamples = 13\\nvalue = [13, 0, 0, 0]'),\n",
       " Text(42.97639751552795, 29.650909090909096, 'X[13] <= -0.607\\ngini = 0.465\\nsamples = 23\\nvalue = [16, 1, 5, 1]'),\n",
       " Text(42.2832298136646, 9.883636363636384, 'gini = 0.272\\nsamples = 13\\nvalue = [11, 1, 1, 0]'),\n",
       " Text(43.66956521739131, 9.883636363636384, 'gini = 0.58\\nsamples = 10\\nvalue = [5, 0, 4, 1]'),\n",
       " Text(43.66956521739131, 49.418181818181836, 'gini = 0.602\\nsamples = 14\\nvalue = [5, 0, 7, 2]'),\n",
       " Text(53.89378881987578, 88.95272727272729, 'X[11] <= -0.264\\ngini = 0.717\\nsamples = 1560\\nvalue = [156, 491, 404, 509]'),\n",
       " Text(49.56149068322981, 69.18545454545455, 'X[4] <= 0.429\\ngini = 0.698\\nsamples = 1092\\nvalue = [78, 370, 253, 391]'),\n",
       " Text(47.13540372670808, 49.418181818181836, 'X[4] <= -0.373\\ngini = 0.701\\nsamples = 878\\nvalue = [67, 317, 203, 291]'),\n",
       " Text(45.74906832298137, 29.650909090909096, 'X[7] <= -0.698\\ngini = 0.68\\nsamples = 689\\nvalue = [34, 262, 147, 246]'),\n",
       " Text(45.05590062111801, 9.883636363636384, 'gini = 0.637\\nsamples = 172\\nvalue = [3, 60, 30, 79]'),\n",
       " Text(46.442236024844725, 9.883636363636384, 'gini = 0.688\\nsamples = 517\\nvalue = [31, 202, 117, 167]'),\n",
       " Text(48.52173913043479, 29.650909090909096, 'X[2] <= 1.565\\ngini = 0.74\\nsamples = 189\\nvalue = [33, 55, 56, 45]'),\n",
       " Text(47.82857142857143, 9.883636363636384, 'gini = 0.728\\nsamples = 175\\nvalue = [22, 54, 54, 45]'),\n",
       " Text(49.21490683229814, 9.883636363636384, 'gini = 0.357\\nsamples = 14\\nvalue = [11, 1, 2, 0]'),\n",
       " Text(51.98757763975156, 49.418181818181836, 'X[4] <= 1.459\\ngini = 0.663\\nsamples = 214\\nvalue = [11, 53, 50, 100]'),\n",
       " Text(51.294409937888204, 29.650909090909096, 'X[8] <= 0.408\\ngini = 0.654\\nsamples = 197\\nvalue = [5, 53, 48, 91]'),\n",
       " Text(50.601242236024845, 9.883636363636384, 'gini = 0.678\\nsamples = 61\\nvalue = [2, 15, 23, 21]'),\n",
       " Text(51.98757763975156, 9.883636363636384, 'gini = 0.623\\nsamples = 136\\nvalue = [3, 38, 25, 70]'),\n",
       " Text(52.68074534161491, 29.650909090909096, 'gini = 0.581\\nsamples = 17\\nvalue = [6, 0, 2, 9]'),\n",
       " Text(58.22608695652174, 69.18545454545455, 'X[11] <= 1.001\\ngini = 0.738\\nsamples = 468\\nvalue = [78, 121, 151, 118]'),\n",
       " Text(55.453416149068325, 49.418181818181836, 'X[2] <= 0.239\\ngini = 0.736\\nsamples = 403\\nvalue = [78, 96, 140, 89]'),\n",
       " Text(54.06708074534162, 29.650909090909096, 'X[11] <= 0.549\\ngini = 0.713\\nsamples = 275\\nvalue = [38, 70, 110, 57]'),\n",
       " Text(53.37391304347826, 9.883636363636384, 'gini = 0.743\\nsamples = 180\\nvalue = [38, 50, 55, 37]'),\n",
       " Text(54.76024844720497, 9.883636363636384, 'gini = 0.576\\nsamples = 95\\nvalue = [0, 20, 55, 20]'),\n",
       " Text(56.839751552795036, 29.650909090909096, 'X[4] <= -0.144\\ngini = 0.744\\nsamples = 128\\nvalue = [40, 26, 30, 32]'),\n",
       " Text(56.146583850931684, 9.883636363636384, 'gini = 0.69\\nsamples = 67\\nvalue = [30, 9, 17, 11]'),\n",
       " Text(57.53291925465839, 9.883636363636384, 'gini = 0.732\\nsamples = 61\\nvalue = [10, 17, 13, 21]'),\n",
       " Text(60.998757763975156, 49.418181818181836, 'X[10] <= 0.468\\ngini = 0.624\\nsamples = 65\\nvalue = [0, 25, 11, 29]'),\n",
       " Text(59.61242236024845, 29.650909090909096, 'X[0] <= -0.725\\ngini = 0.577\\nsamples = 45\\nvalue = [0, 21, 4, 20]'),\n",
       " Text(58.9192546583851, 9.883636363636384, 'gini = 0.43\\nsamples = 11\\nvalue = [0, 8, 1, 2]'),\n",
       " Text(60.305590062111804, 9.883636363636384, 'gini = 0.566\\nsamples = 34\\nvalue = [0, 13, 3, 18]'),\n",
       " Text(62.38509316770187, 29.650909090909096, 'X[0] <= -0.229\\ngini = 0.635\\nsamples = 20\\nvalue = [0, 4, 7, 9]'),\n",
       " Text(61.691925465838516, 9.883636363636384, 'gini = 0.54\\nsamples = 10\\nvalue = [0, 3, 1, 6]'),\n",
       " Text(63.07826086956522, 9.883636363636384, 'gini = 0.54\\nsamples = 10\\nvalue = [0, 1, 6, 3]'),\n",
       " Text(68.62360248447206, 108.72, 'X[3] <= 1.23\\ngini = 0.14\\nsamples = 284\\nvalue = [3, 12, 6, 263]'),\n",
       " Text(67.9304347826087, 88.95272727272729, 'X[14] <= 2.027\\ngini = 0.086\\nsamples = 270\\nvalue = [1, 9, 2, 258]'),\n",
       " Text(67.23726708074534, 69.18545454545455, 'X[2] <= 1.824\\ngini = 0.061\\nsamples = 256\\nvalue = [0, 7, 1, 248]'),\n",
       " Text(66.544099378882, 49.418181818181836, 'X[6] <= -2.34\\ngini = 0.049\\nsamples = 240\\nvalue = [0, 5, 1, 234]'),\n",
       " Text(65.15776397515528, 29.650909090909096, 'X[2] <= 0.111\\ngini = 0.18\\nsamples = 20\\nvalue = [0, 2, 0, 18]'),\n",
       " Text(64.46459627329193, 9.883636363636384, 'gini = 0.32\\nsamples = 10\\nvalue = [0, 2, 0, 8]'),\n",
       " Text(65.85093167701864, 9.883636363636384, 'gini = 0.0\\nsamples = 10\\nvalue = [0, 0, 0, 10]'),\n",
       " Text(67.9304347826087, 29.650909090909096, 'X[11] <= 1.001\\ngini = 0.036\\nsamples = 220\\nvalue = [0, 3, 1, 216]'),\n",
       " Text(67.23726708074534, 9.883636363636384, 'gini = 0.022\\nsamples = 177\\nvalue = [0, 1, 1, 175]'),\n",
       " Text(68.62360248447206, 9.883636363636384, 'gini = 0.089\\nsamples = 43\\nvalue = [0, 2, 0, 41]'),\n",
       " Text(67.9304347826087, 49.418181818181836, 'gini = 0.219\\nsamples = 16\\nvalue = [0, 2, 0, 14]'),\n",
       " Text(68.62360248447206, 69.18545454545455, 'gini = 0.459\\nsamples = 14\\nvalue = [1, 2, 1, 10]'),\n",
       " Text(69.3167701863354, 88.95272727272729, 'gini = 0.724\\nsamples = 14\\nvalue = [2, 3, 4, 5]'),\n",
       " Text(95.41886645962734, 148.25454545454545, 'X[7] <= 0.176\\ngini = 0.654\\nsamples = 1029\\nvalue = [403, 105, 429, 92]'),\n",
       " Text(88.4222049689441, 128.48727272727274, 'X[10] <= 0.468\\ngini = 0.656\\nsamples = 769\\nvalue = [340, 85, 276, 68]'),\n",
       " Text(83.2667701863354, 108.72, 'X[0] <= 0.763\\ngini = 0.666\\nsamples = 695\\nvalue = [276, 83, 273, 63]'),\n",
       " Text(76.76832298136647, 88.95272727272729, 'X[2] <= -0.202\\ngini = 0.672\\nsamples = 480\\nvalue = [145, 66, 218, 51]'),\n",
       " Text(71.74285714285715, 69.18545454545455, 'X[2] <= -1.694\\ngini = 0.736\\nsamples = 223\\nvalue = [66, 48, 71, 38]'),\n",
       " Text(70.00993788819876, 49.418181818181836, 'X[13] <= -0.022\\ngini = 0.288\\nsamples = 24\\nvalue = [20, 1, 3, 0]'),\n",
       " Text(69.3167701863354, 29.650909090909096, 'gini = 0.133\\nsamples = 14\\nvalue = [13, 1, 0, 0]'),\n",
       " Text(70.70310559006212, 29.650909090909096, 'gini = 0.42\\nsamples = 10\\nvalue = [7, 0, 3, 0]'),\n",
       " Text(73.47577639751553, 49.418181818181836, 'X[3] <= -0.944\\ngini = 0.738\\nsamples = 199\\nvalue = [46, 47, 68, 38]'),\n",
       " Text(72.08944099378883, 29.650909090909096, 'X[9] <= -0.789\\ngini = 0.721\\nsamples = 71\\nvalue = [19, 26, 9, 17]'),\n",
       " Text(71.39627329192547, 9.883636363636384, 'gini = 0.0\\nsamples = 16\\nvalue = [16, 0, 0, 0]'),\n",
       " Text(72.78260869565217, 9.883636363636384, 'gini = 0.651\\nsamples = 55\\nvalue = [3, 26, 9, 17]'),\n",
       " Text(74.86211180124224, 29.650909090909096, 'X[4] <= -0.831\\ngini = 0.689\\nsamples = 128\\nvalue = [27, 21, 59, 21]'),\n",
       " Text(74.16894409937889, 9.883636363636384, 'gini = 0.62\\nsamples = 10\\nvalue = [2, 5, 0, 3]'),\n",
       " Text(75.5552795031056, 9.883636363636384, 'gini = 0.663\\nsamples = 118\\nvalue = [25, 16, 59, 18]'),\n",
       " Text(81.79378881987579, 69.18545454545455, 'X[4] <= -0.602\\ngini = 0.571\\nsamples = 257\\nvalue = [79, 18, 147, 13]'),\n",
       " Text(79.02111801242236, 49.418181818181836, 'X[2] <= 0.406\\ngini = 0.567\\nsamples = 92\\nvalue = [46, 3, 39, 4]'),\n",
       " Text(77.63478260869566, 29.650909090909096, 'X[9] <= -0.563\\ngini = 0.374\\nsamples = 43\\nvalue = [33, 0, 8, 2]'),\n",
       " Text(76.9416149068323, 9.883636363636384, 'gini = 0.0\\nsamples = 13\\nvalue = [13, 0, 0, 0]'),\n",
       " Text(78.32795031055902, 9.883636363636384, 'gini = 0.48\\nsamples = 30\\nvalue = [20, 0, 8, 2]'),\n",
       " Text(80.40745341614907, 29.650909090909096, 'X[9] <= -0.563\\ngini = 0.524\\nsamples = 49\\nvalue = [13, 3, 31, 2]'),\n",
       " Text(79.71428571428572, 9.883636363636384, 'gini = 0.255\\nsamples = 14\\nvalue = [0, 1, 12, 1]'),\n",
       " Text(81.10062111801243, 9.883636363636384, 'gini = 0.563\\nsamples = 35\\nvalue = [13, 2, 19, 1]'),\n",
       " Text(84.5664596273292, 49.418181818181836, 'X[2] <= 0.818\\ngini = 0.52\\nsamples = 165\\nvalue = [33, 15, 108, 9]'),\n",
       " Text(83.18012422360249, 29.650909090909096, 'X[1] <= -1.094\\ngini = 0.411\\nsamples = 133\\nvalue = [17, 9, 100, 7]'),\n",
       " Text(82.48695652173913, 9.883636363636384, 'gini = 0.597\\nsamples = 23\\nvalue = [12, 2, 8, 1]'),\n",
       " Text(83.87329192546585, 9.883636363636384, 'gini = 0.291\\nsamples = 110\\nvalue = [5, 7, 92, 6]'),\n",
       " Text(85.9527950310559, 29.650909090909096, 'X[3] <= -0.885\\ngini = 0.648\\nsamples = 32\\nvalue = [16, 6, 8, 2]'),\n",
       " Text(85.25962732919255, 9.883636363636384, 'gini = 0.525\\nsamples = 22\\nvalue = [14, 3, 5, 0]'),\n",
       " Text(86.64596273291926, 9.883636363636384, 'gini = 0.74\\nsamples = 10\\nvalue = [2, 3, 3, 2]'),\n",
       " Text(89.76521739130435, 88.95272727272729, 'X[4] <= -0.831\\ngini = 0.554\\nsamples = 215\\nvalue = [131, 17, 55, 12]'),\n",
       " Text(87.33913043478262, 69.18545454545455, 'X[3] <= 0.172\\ngini = 0.651\\nsamples = 43\\nvalue = [5, 10, 22, 6]'),\n",
       " Text(86.64596273291926, 49.418181818181836, 'gini = 0.661\\nsamples = 11\\nvalue = [3, 0, 4, 4]'),\n",
       " Text(88.03229813664596, 49.418181818181836, 'X[13] <= -1.192\\ngini = 0.578\\nsamples = 32\\nvalue = [2, 10, 18, 2]'),\n",
       " Text(87.33913043478262, 29.650909090909096, 'gini = 0.663\\nsamples = 14\\nvalue = [2, 5, 6, 1]'),\n",
       " Text(88.72546583850932, 29.650909090909096, 'gini = 0.475\\nsamples = 18\\nvalue = [0, 5, 12, 1]'),\n",
       " Text(92.19130434782609, 69.18545454545455, 'X[2] <= 0.711\\ngini = 0.424\\nsamples = 172\\nvalue = [126, 7, 33, 6]'),\n",
       " Text(91.49813664596275, 49.418181818181836, 'X[2] <= 0.143\\ngini = 0.559\\nsamples = 112\\nvalue = [66, 7, 33, 6]'),\n",
       " Text(90.11180124223603, 29.650909090909096, 'X[3] <= -1.062\\ngini = 0.479\\nsamples = 88\\nvalue = [61, 6, 16, 5]'),\n",
       " Text(89.41863354037268, 9.883636363636384, 'gini = 0.638\\nsamples = 37\\nvalue = [19, 3, 10, 5]'),\n",
       " Text(90.80496894409939, 9.883636363636384, 'gini = 0.304\\nsamples = 51\\nvalue = [42, 3, 6, 0]'),\n",
       " Text(92.88447204968945, 29.650909090909096, 'X[7] <= -0.698\\ngini = 0.451\\nsamples = 24\\nvalue = [5, 1, 17, 1]'),\n",
       " Text(92.19130434782609, 9.883636363636384, 'gini = 0.298\\nsamples = 11\\nvalue = [2, 0, 9, 0]'),\n",
       " Text(93.5776397515528, 9.883636363636384, 'gini = 0.556\\nsamples = 13\\nvalue = [3, 1, 8, 1]'),\n",
       " Text(92.88447204968945, 49.418181818181836, 'gini = 0.0\\nsamples = 60\\nvalue = [60, 0, 0, 0]'),\n",
       " Text(93.5776397515528, 108.72, 'X[1] <= 0.522\\ngini = 0.245\\nsamples = 74\\nvalue = [64, 2, 3, 5]'),\n",
       " Text(92.88447204968945, 88.95272727272729, 'gini = 0.567\\nsamples = 17\\nvalue = [10, 0, 3, 4]'),\n",
       " Text(94.27080745341615, 88.95272727272729, 'X[4] <= -0.602\\ngini = 0.101\\nsamples = 57\\nvalue = [54, 2, 0, 1]'),\n",
       " Text(93.5776397515528, 69.18545454545455, 'gini = 0.153\\nsamples = 12\\nvalue = [11, 0, 0, 1]'),\n",
       " Text(94.96397515527951, 69.18545454545455, 'X[13] <= -0.607\\ngini = 0.085\\nsamples = 45\\nvalue = [43, 2, 0, 0]'),\n",
       " Text(94.27080745341615, 49.418181818181836, 'gini = 0.165\\nsamples = 11\\nvalue = [10, 1, 0, 0]'),\n",
       " Text(95.65714285714286, 49.418181818181836, 'gini = 0.057\\nsamples = 34\\nvalue = [33, 1, 0, 0]'),\n",
       " Text(102.41552795031056, 128.48727272727274, 'X[4] <= 0.085\\ngini = 0.581\\nsamples = 260\\nvalue = [63, 20, 153, 24]'),\n",
       " Text(98.77639751552796, 108.72, 'X[12] <= 0.265\\ngini = 0.496\\nsamples = 173\\nvalue = [28, 12, 118, 15]'),\n",
       " Text(97.04347826086958, 88.95272727272729, 'X[1] <= -0.227\\ngini = 0.63\\nsamples = 35\\nvalue = [18, 2, 10, 5]'),\n",
       " Text(96.35031055900622, 69.18545454545455, 'gini = 0.18\\nsamples = 10\\nvalue = [9, 0, 0, 1]'),\n",
       " Text(97.73664596273292, 69.18545454545455, 'X[1] <= 0.97\\ngini = 0.678\\nsamples = 25\\nvalue = [9, 2, 10, 4]'),\n",
       " Text(97.04347826086958, 49.418181818181836, 'gini = 0.604\\nsamples = 15\\nvalue = [4, 0, 8, 3]'),\n",
       " Text(98.42981366459628, 49.418181818181836, 'gini = 0.66\\nsamples = 10\\nvalue = [5, 2, 2, 1]'),\n",
       " Text(100.50931677018635, 88.95272727272729, 'X[3] <= -1.297\\ngini = 0.372\\nsamples = 138\\nvalue = [10, 10, 108, 10]'),\n",
       " Text(99.81614906832299, 69.18545454545455, 'gini = 0.554\\nsamples = 17\\nvalue = [5, 0, 10, 2]'),\n",
       " Text(101.20248447204969, 69.18545454545455, 'X[2] <= -0.353\\ngini = 0.331\\nsamples = 121\\nvalue = [5, 10, 98, 8]'),\n",
       " Text(99.81614906832299, 49.418181818181836, 'X[3] <= -0.18\\ngini = 0.558\\nsamples = 21\\nvalue = [4, 1, 13, 3]'),\n",
       " Text(99.12298136645963, 29.650909090909096, 'gini = 0.678\\nsamples = 11\\nvalue = [2, 1, 5, 3]'),\n",
       " Text(100.50931677018635, 29.650909090909096, 'gini = 0.32\\nsamples = 10\\nvalue = [2, 0, 8, 0]'),\n",
       " Text(102.58881987577641, 49.418181818181836, 'X[6] <= -1.729\\ngini = 0.267\\nsamples = 100\\nvalue = [1, 9, 85, 5]'),\n",
       " Text(101.89565217391305, 29.650909090909096, 'gini = 0.54\\nsamples = 10\\nvalue = [1, 3, 6, 0]'),\n",
       " Text(103.28198757763975, 29.650909090909096, 'X[10] <= 0.468\\ngini = 0.222\\nsamples = 90\\nvalue = [0, 6, 79, 5]'),\n",
       " Text(102.58881987577641, 9.883636363636384, 'gini = 0.094\\nsamples = 41\\nvalue = [0, 1, 39, 1]'),\n",
       " Text(103.97515527950311, 9.883636363636384, 'gini = 0.317\\nsamples = 49\\nvalue = [0, 5, 40, 4]'),\n",
       " Text(106.05465838509318, 108.72, 'X[7] <= 1.749\\ngini = 0.657\\nsamples = 87\\nvalue = [35, 8, 35, 9]'),\n",
       " Text(105.36149068322982, 88.95272727272729, 'X[6] <= 0.105\\ngini = 0.65\\nsamples = 70\\nvalue = [19, 8, 35, 8]'),\n",
       " Text(104.66832298136647, 69.18545454545455, 'X[13] <= -0.607\\ngini = 0.611\\nsamples = 50\\nvalue = [16, 6, 26, 2]'),\n",
       " Text(103.97515527950311, 49.418181818181836, 'gini = 0.641\\nsamples = 33\\nvalue = [13, 5, 14, 1]'),\n",
       " Text(105.36149068322982, 49.418181818181836, 'gini = 0.464\\nsamples = 17\\nvalue = [3, 1, 12, 1]'),\n",
       " Text(106.05465838509318, 69.18545454545455, 'gini = 0.675\\nsamples = 20\\nvalue = [3, 2, 9, 6]'),\n",
       " Text(106.74782608695652, 88.95272727272729, 'gini = 0.111\\nsamples = 17\\nvalue = [16, 0, 0, 1]'),\n",
       " Text(246.68105590062115, 168.0218181818182, 'X[4] <= 1.001\\ngini = 0.59\\nsamples = 46032\\nvalue = [15796, 6110, 24126, 0]'),\n",
       " Text(186.39712732919256, 148.25454545454545, 'X[12] <= 0.265\\ngini = 0.603\\nsamples = 33009\\nvalue = [13590, 4283, 15136, 0]'),\n",
       " Text(147.29813664596273, 128.48727272727274, 'X[11] <= 1.001\\ngini = 0.597\\nsamples = 21738\\nvalue = [10614, 2744, 8380, 0]'),\n",
       " Text(126.4164596273292, 108.72, 'X[4] <= -0.602\\ngini = 0.534\\nsamples = 16539\\nvalue = [9868, 1369, 5302, 0]'),\n",
       " Text(115.75900621118014, 88.95272727272729, 'X[4] <= -1.747\\ngini = 0.604\\nsamples = 5408\\nvalue = [2184, 717, 2507, 0]'),\n",
       " Text(110.2136645962733, 69.18545454545455, 'X[4] <= -1.976\\ngini = 0.404\\nsamples = 684\\nvalue = [509, 41, 134, 0]'),\n",
       " Text(107.44099378881988, 49.418181818181836, 'X[11] <= -0.083\\ngini = 0.564\\nsamples = 205\\nvalue = [66, 23, 116, 0]'),\n",
       " Text(106.05465838509318, 29.650909090909096, 'X[1] <= 0.882\\ngini = 0.544\\nsamples = 180\\nvalue = [49, 22, 109, 0]'),\n",
       " Text(105.36149068322982, 9.883636363636384, 'gini = 0.491\\nsamples = 120\\nvalue = [28, 12, 80, 0]'),\n",
       " Text(106.74782608695652, 9.883636363636384, 'gini = 0.616\\nsamples = 60\\nvalue = [21, 10, 29, 0]'),\n",
       " Text(108.82732919254659, 29.650909090909096, 'X[11] <= 0.097\\ngini = 0.458\\nsamples = 25\\nvalue = [17, 1, 7, 0]'),\n",
       " Text(108.13416149068324, 9.883636363636384, 'gini = 0.255\\nsamples = 14\\nvalue = [12, 1, 1, 0]'),\n",
       " Text(109.52049689440994, 9.883636363636384, 'gini = 0.496\\nsamples = 11\\nvalue = [5, 0, 6, 0]'),\n",
       " Text(112.98633540372671, 49.418181818181836, 'X[14] <= 0.398\\ngini = 0.142\\nsamples = 479\\nvalue = [443, 18, 18, 0]'),\n",
       " Text(111.60000000000001, 29.650909090909096, 'X[11] <= -0.625\\ngini = 0.127\\nsamples = 449\\nvalue = [419, 14, 16, 0]'),\n",
       " Text(110.90683229813665, 9.883636363636384, 'gini = 0.09\\nsamples = 257\\nvalue = [245, 6, 6, 0]'),\n",
       " Text(112.29316770186337, 9.883636363636384, 'gini = 0.174\\nsamples = 192\\nvalue = [174, 8, 10, 0]'),\n",
       " Text(114.37267080745342, 29.650909090909096, 'X[2] <= -0.209\\ngini = 0.338\\nsamples = 30\\nvalue = [24, 4, 2, 0]'),\n",
       " Text(113.67950310559007, 9.883636363636384, 'gini = 0.5\\nsamples = 12\\nvalue = [8, 2, 2, 0]'),\n",
       " Text(115.06583850931678, 9.883636363636384, 'gini = 0.198\\nsamples = 18\\nvalue = [16, 2, 0, 0]'),\n",
       " Text(121.30434782608697, 69.18545454545455, 'X[4] <= -0.831\\ngini = 0.601\\nsamples = 4724\\nvalue = [1675, 676, 2373, 0]'),\n",
       " Text(118.53167701863354, 49.418181818181836, 'X[4] <= -1.518\\ngini = 0.53\\nsamples = 2566\\nvalue = [716, 266, 1584, 0]'),\n",
       " Text(117.14534161490684, 29.650909090909096, 'X[1] <= -0.227\\ngini = 0.467\\nsamples = 1092\\nvalue = [202, 130, 760, 0]'),\n",
       " Text(116.45217391304348, 9.883636363636384, 'gini = 0.538\\nsamples = 363\\nvalue = [61, 75, 227, 0]'),\n",
       " Text(117.8385093167702, 9.883636363636384, 'gini = 0.422\\nsamples = 729\\nvalue = [141, 55, 533, 0]'),\n",
       " Text(119.91801242236025, 29.650909090909096, 'X[4] <= -1.06\\ngini = 0.557\\nsamples = 1474\\nvalue = [514, 136, 824, 0]'),\n",
       " Text(119.2248447204969, 9.883636363636384, 'gini = 0.487\\nsamples = 130\\nvalue = [83, 5, 42, 0]'),\n",
       " Text(120.61118012422361, 9.883636363636384, 'gini = 0.549\\nsamples = 1344\\nvalue = [431, 131, 782, 0]'),\n",
       " Text(124.07701863354038, 49.418181818181836, 'X[11] <= -0.264\\ngini = 0.633\\nsamples = 2158\\nvalue = [959, 410, 789, 0]'),\n",
       " Text(122.69068322981367, 29.650909090909096, 'X[10] <= 0.468\\ngini = 0.647\\nsamples = 1498\\nvalue = [507, 346, 645, 0]'),\n",
       " Text(121.99751552795031, 9.883636363636384, 'gini = 0.645\\nsamples = 1177\\nvalue = [362, 287, 528, 0]'),\n",
       " Text(123.38385093167703, 9.883636363636384, 'gini = 0.629\\nsamples = 321\\nvalue = [145, 59, 117, 0]'),\n",
       " Text(125.4633540372671, 29.650909090909096, 'X[11] <= 0.097\\ngini = 0.474\\nsamples = 660\\nvalue = [452, 64, 144, 0]'),\n",
       " Text(124.77018633540374, 9.883636363636384, 'gini = 0.445\\nsamples = 602\\nvalue = [429, 53, 120, 0]'),\n",
       " Text(126.15652173913044, 9.883636363636384, 'gini = 0.636\\nsamples = 58\\nvalue = [23, 11, 24, 0]'),\n",
       " Text(137.07391304347826, 88.95272727272729, 'X[11] <= -0.264\\ngini = 0.457\\nsamples = 11131\\nvalue = [7684, 652, 2795, 0]'),\n",
       " Text(132.39503105590063, 69.18545454545455, 'X[10] <= 0.468\\ngini = 0.491\\nsamples = 7594\\nvalue = [4923, 462, 2209, 0]'),\n",
       " Text(129.62236024844722, 49.418181818181836, 'X[4] <= -0.144\\ngini = 0.541\\nsamples = 3952\\nvalue = [2298, 318, 1336, 0]'),\n",
       " Text(128.2360248447205, 29.650909090909096, 'X[3] <= 0.643\\ngini = 0.576\\nsamples = 1985\\nvalue = [1038, 206, 741, 0]'),\n",
       " Text(127.54285714285714, 9.883636363636384, 'gini = 0.566\\nsamples = 1687\\nvalue = [914, 163, 610, 0]'),\n",
       " Text(128.92919254658386, 9.883636363636384, 'gini = 0.613\\nsamples = 298\\nvalue = [124, 43, 131, 0]'),\n",
       " Text(131.0086956521739, 29.650909090909096, 'X[3] <= -1.297\\ngini = 0.495\\nsamples = 1967\\nvalue = [1260, 112, 595, 0]'),\n",
       " Text(130.31552795031055, 9.883636363636384, 'gini = 0.602\\nsamples = 89\\nvalue = [34, 12, 43, 0]'),\n",
       " Text(131.70186335403727, 9.883636363636384, 'gini = 0.485\\nsamples = 1878\\nvalue = [1226, 100, 552, 0]'),\n",
       " Text(135.16770186335404, 49.418181818181836, 'X[11] <= -0.625\\ngini = 0.421\\nsamples = 3642\\nvalue = [2625, 144, 873, 0]'),\n",
       " Text(133.78136645962735, 29.650909090909096, 'X[3] <= -1.12\\ngini = 0.377\\nsamples = 2890\\nvalue = [2193, 77, 620, 0]'),\n",
       " Text(133.088198757764, 9.883636363636384, 'gini = 0.535\\nsamples = 89\\nvalue = [50, 5, 34, 0]'),\n",
       " Text(134.47453416149068, 9.883636363636384, 'gini = 0.37\\nsamples = 2801\\nvalue = [2143, 72, 586, 0]'),\n",
       " Text(136.55403726708076, 29.650909090909096, 'X[11] <= -0.445\\ngini = 0.549\\nsamples = 752\\nvalue = [432, 67, 253, 0]'),\n",
       " Text(135.8608695652174, 9.883636363636384, 'gini = 0.428\\nsamples = 201\\nvalue = [5, 54, 142, 0]'),\n",
       " Text(137.24720496894412, 9.883636363636384, 'gini = 0.358\\nsamples = 551\\nvalue = [427, 13, 111, 0]'),\n",
       " Text(141.7527950310559, 69.18545454545455, 'X[3] <= -1.12\\ngini = 0.36\\nsamples = 3537\\nvalue = [2761, 190, 586, 0]'),\n",
       " Text(140.01987577639753, 49.418181818181836, 'X[4] <= 0.772\\ngini = 0.512\\nsamples = 515\\nvalue = [329, 49, 137, 0]'),\n",
       " Text(139.32670807453417, 29.650909090909096, 'X[11] <= -0.083\\ngini = 0.496\\nsamples = 496\\nvalue = [327, 48, 121, 0]'),\n",
       " Text(138.6335403726708, 9.883636363636384, 'gini = 0.579\\nsamples = 214\\nvalue = [119, 30, 65, 0]'),\n",
       " Text(140.01987577639753, 9.883636363636384, 'gini = 0.412\\nsamples = 282\\nvalue = [208, 18, 56, 0]'),\n",
       " Text(140.7130434782609, 29.650909090909096, 'gini = 0.277\\nsamples = 19\\nvalue = [2, 1, 16, 0]'),\n",
       " Text(143.4857142857143, 49.418181818181836, 'X[11] <= 0.278\\ngini = 0.328\\nsamples = 3022\\nvalue = [2432, 141, 449, 0]'),\n",
       " Text(142.09937888198758, 29.650909090909096, 'X[10] <= 0.468\\ngini = 0.314\\nsamples = 2921\\nvalue = [2379, 124, 418, 0]'),\n",
       " Text(141.40621118012425, 9.883636363636384, 'gini = 0.36\\nsamples = 2014\\nvalue = [1572, 102, 340, 0]'),\n",
       " Text(142.79254658385094, 9.883636363636384, 'gini = 0.2\\nsamples = 907\\nvalue = [807, 22, 78, 0]'),\n",
       " Text(144.872049689441, 29.650909090909096, 'X[11] <= 0.82\\ngini = 0.602\\nsamples = 101\\nvalue = [53, 17, 31, 0]'),\n",
       " Text(144.17888198757765, 9.883636363636384, 'gini = 0.508\\nsamples = 36\\nvalue = [3, 10, 23, 0]'),\n",
       " Text(145.56521739130434, 9.883636363636384, 'gini = 0.382\\nsamples = 65\\nvalue = [50, 7, 8, 0]'),\n",
       " Text(168.17981366459628, 108.72, 'X[11] <= 1.453\\ngini = 0.559\\nsamples = 5199\\nvalue = [746, 1375, 3078, 0]'),\n",
       " Text(157.34906832298137, 88.95272727272729, 'X[10] <= 0.468\\ngini = 0.497\\nsamples = 4613\\nvalue = [300, 1346, 2967, 0]'),\n",
       " Text(151.80372670807455, 69.18545454545455, 'X[8] <= 0.408\\ngini = 0.526\\nsamples = 1803\\nvalue = [87, 682, 1034, 0]'),\n",
       " Text(149.03105590062114, 49.418181818181836, 'X[1] <= 0.553\\ngini = 0.473\\nsamples = 622\\nvalue = [32, 175, 415, 0]'),\n",
       " Text(147.64472049689442, 29.650909090909096, 'X[4] <= -0.602\\ngini = 0.507\\nsamples = 357\\nvalue = [19, 117, 221, 0]'),\n",
       " Text(146.95155279503106, 9.883636363636384, 'gini = 0.533\\nsamples = 80\\nvalue = [3, 36, 41, 0]'),\n",
       " Text(148.33788819875778, 9.883636363636384, 'gini = 0.489\\nsamples = 277\\nvalue = [16, 81, 180, 0]'),\n",
       " Text(150.41739130434783, 29.650909090909096, 'X[0] <= -0.725\\ngini = 0.414\\nsamples = 265\\nvalue = [13, 58, 194, 0]'),\n",
       " Text(149.72422360248447, 9.883636363636384, 'gini = 0.517\\nsamples = 75\\nvalue = [4, 26, 45, 0]'),\n",
       " Text(151.1105590062112, 9.883636363636384, 'gini = 0.354\\nsamples = 190\\nvalue = [9, 32, 149, 0]'),\n",
       " Text(154.57639751552796, 49.418181818181836, 'X[4] <= -0.602\\ngini = 0.539\\nsamples = 1181\\nvalue = [55, 507, 619, 0]'),\n",
       " Text(153.19006211180124, 29.650909090909096, 'X[4] <= -0.831\\ngini = 0.52\\nsamples = 338\\nvalue = [9, 183, 146, 0]'),\n",
       " Text(152.4968944099379, 9.883636363636384, 'gini = 0.536\\nsamples = 199\\nvalue = [8, 89, 102, 0]'),\n",
       " Text(153.8832298136646, 9.883636363636384, 'gini = 0.442\\nsamples = 139\\nvalue = [1, 94, 44, 0]'),\n",
       " Text(155.96273291925468, 29.650909090909096, 'X[2] <= -1.704\\ngini = 0.534\\nsamples = 843\\nvalue = [46, 324, 473, 0]'),\n",
       " Text(155.26956521739132, 9.883636363636384, 'gini = 0.469\\nsamples = 106\\nvalue = [7, 27, 72, 0]'),\n",
       " Text(156.65590062111804, 9.883636363636384, 'gini = 0.539\\nsamples = 737\\nvalue = [39, 297, 401, 0]'),\n",
       " Text(162.8944099378882, 69.18545454545455, 'X[4] <= -1.747\\ngini = 0.465\\nsamples = 2810\\nvalue = [213, 664, 1933, 0]'),\n",
       " Text(160.1217391304348, 49.418181818181836, 'X[3] <= -1.649\\ngini = 0.586\\nsamples = 217\\nvalue = [59, 37, 121, 0]'),\n",
       " Text(158.73540372670809, 29.650909090909096, 'X[0] <= -1.22\\ngini = 0.42\\nsamples = 62\\nvalue = [3, 14, 45, 0]'),\n",
       " Text(158.04223602484473, 9.883636363636384, 'gini = 0.486\\nsamples = 12\\nvalue = [0, 7, 5, 0]'),\n",
       " Text(159.42857142857144, 9.883636363636384, 'gini = 0.337\\nsamples = 50\\nvalue = [3, 7, 40, 0]'),\n",
       " Text(161.5080745341615, 29.650909090909096, 'X[8] <= -0.611\\ngini = 0.607\\nsamples = 155\\nvalue = [56, 23, 76, 0]'),\n",
       " Text(160.81490683229813, 9.883636363636384, 'gini = 0.647\\nsamples = 64\\nvalue = [25, 14, 25, 0]'),\n",
       " Text(162.20124223602485, 9.883636363636384, 'gini = 0.56\\nsamples = 91\\nvalue = [31, 9, 51, 0]'),\n",
       " Text(165.66708074534162, 49.418181818181836, 'X[6] <= 0.105\\ngini = 0.45\\nsamples = 2593\\nvalue = [154, 627, 1812, 0]'),\n",
       " Text(164.2807453416149, 29.650909090909096, 'X[4] <= -0.602\\ngini = 0.498\\nsamples = 902\\nvalue = [61, 261, 580, 0]'),\n",
       " Text(163.58757763975157, 9.883636363636384, 'gini = 0.531\\nsamples = 149\\nvalue = [6, 63, 80, 0]'),\n",
       " Text(164.97391304347826, 9.883636363636384, 'gini = 0.485\\nsamples = 753\\nvalue = [55, 198, 500, 0]'),\n",
       " Text(167.05341614906834, 29.650909090909096, 'X[2] <= 0.195\\ngini = 0.419\\nsamples = 1691\\nvalue = [93, 366, 1232, 0]'),\n",
       " Text(166.36024844720498, 9.883636363636384, 'gini = 0.379\\nsamples = 1045\\nvalue = [51, 196, 798, 0]'),\n",
       " Text(167.7465838509317, 9.883636363636384, 'gini = 0.475\\nsamples = 646\\nvalue = [42, 170, 434, 0]'),\n",
       " Text(179.0105590062112, 88.95272727272729, 'X[10] <= 0.468\\ngini = 0.382\\nsamples = 586\\nvalue = [446, 29, 111, 0]'),\n",
       " Text(173.98509316770188, 69.18545454545455, 'X[11] <= 2.808\\ngini = 0.457\\nsamples = 376\\nvalue = [259, 21, 96, 0]'),\n",
       " Text(171.21242236024847, 49.418181818181836, 'X[4] <= -0.831\\ngini = 0.53\\nsamples = 140\\nvalue = [79, 7, 54, 0]'),\n",
       " Text(169.82608695652175, 29.650909090909096, 'X[9] <= 0.339\\ngini = 0.46\\nsamples = 39\\nvalue = [12, 1, 26, 0]'),\n",
       " Text(169.1329192546584, 9.883636363636384, 'gini = 0.236\\nsamples = 22\\nvalue = [3, 0, 19, 0]'),\n",
       " Text(170.5192546583851, 9.883636363636384, 'gini = 0.547\\nsamples = 17\\nvalue = [9, 1, 7, 0]'),\n",
       " Text(172.59875776397516, 29.650909090909096, 'X[3] <= -0.063\\ngini = 0.48\\nsamples = 101\\nvalue = [67, 6, 28, 0]'),\n",
       " Text(171.9055900621118, 9.883636363636384, 'gini = 0.403\\nsamples = 68\\nvalue = [50, 2, 16, 0]'),\n",
       " Text(173.29192546583852, 9.883636363636384, 'gini = 0.588\\nsamples = 33\\nvalue = [17, 4, 12, 0]'),\n",
       " Text(176.75776397515529, 49.418181818181836, 'X[2] <= 0.325\\ngini = 0.383\\nsamples = 236\\nvalue = [180, 14, 42, 0]'),\n",
       " Text(175.3714285714286, 29.650909090909096, 'X[9] <= -0.789\\ngini = 0.317\\nsamples = 161\\nvalue = [131, 8, 22, 0]'),\n",
       " Text(174.67826086956524, 9.883636363636384, 'gini = 0.188\\nsamples = 49\\nvalue = [44, 3, 2, 0]'),\n",
       " Text(176.06459627329193, 9.883636363636384, 'gini = 0.363\\nsamples = 112\\nvalue = [87, 5, 20, 0]'),\n",
       " Text(178.144099378882, 29.650909090909096, 'X[6] <= 0.105\\ngini = 0.496\\nsamples = 75\\nvalue = [49, 6, 20, 0]'),\n",
       " Text(177.45093167701864, 9.883636363636384, 'gini = 0.61\\nsamples = 39\\nvalue = [19, 6, 14, 0]'),\n",
       " Text(178.83726708074536, 9.883636363636384, 'gini = 0.278\\nsamples = 36\\nvalue = [30, 0, 6, 0]'),\n",
       " Text(184.03602484472052, 69.18545454545455, 'X[0] <= 0.763\\ngini = 0.2\\nsamples = 210\\nvalue = [187, 8, 15, 0]'),\n",
       " Text(182.30310559006213, 49.418181818181836, 'X[8] <= -0.611\\ngini = 0.231\\nsamples = 163\\nvalue = [142, 6, 15, 0]'),\n",
       " Text(180.9167701863354, 29.650909090909096, 'X[3] <= 0.466\\ngini = 0.311\\nsamples = 83\\nvalue = [68, 5, 10, 0]'),\n",
       " Text(180.22360248447205, 9.883636363636384, 'gini = 0.38\\nsamples = 60\\nvalue = [46, 4, 10, 0]'),\n",
       " Text(181.60993788819877, 9.883636363636384, 'gini = 0.083\\nsamples = 23\\nvalue = [22, 1, 0, 0]'),\n",
       " Text(183.68944099378882, 29.650909090909096, 'X[2] <= -0.031\\ngini = 0.14\\nsamples = 80\\nvalue = [74, 1, 5, 0]'),\n",
       " Text(182.9962732919255, 9.883636363636384, 'gini = 0.251\\nsamples = 34\\nvalue = [29, 0, 5, 0]'),\n",
       " Text(184.38260869565218, 9.883636363636384, 'gini = 0.043\\nsamples = 46\\nvalue = [45, 1, 0, 0]'),\n",
       " Text(185.7689440993789, 49.418181818181836, 'X[4] <= -0.373\\ngini = 0.081\\nsamples = 47\\nvalue = [45, 2, 0, 0]'),\n",
       " Text(185.07577639751554, 29.650909090909096, 'gini = 0.26\\nsamples = 13\\nvalue = [11, 2, 0, 0]'),\n",
       " Text(186.46211180124226, 29.650909090909096, 'gini = 0.0\\nsamples = 34\\nvalue = [34, 0, 0, 0]'),\n",
       " Text(225.4961180124224, 128.48727272727274, 'X[12] <= 2.193\\ngini = 0.552\\nsamples = 11271\\nvalue = [2976, 1539, 6756, 0]'),\n",
       " Text(208.64347826086959, 108.72, 'X[11] <= 2.808\\ngini = 0.538\\nsamples = 10487\\nvalue = [2969, 1134, 6384, 0]'),\n",
       " Text(197.55279503105592, 88.95272727272729, 'X[11] <= 1.001\\ngini = 0.523\\nsamples = 9206\\nvalue = [2277, 1090, 5839, 0]'),\n",
       " Text(192.00745341614908, 69.18545454545455, 'X[13] <= -0.022\\ngini = 0.526\\nsamples = 8174\\nvalue = [2200, 867, 5107, 0]'),\n",
       " Text(189.23478260869567, 49.418181818181836, 'X[4] <= -1.747\\ngini = 0.493\\nsamples = 4658\\nvalue = [1069, 487, 3102, 0]'),\n",
       " Text(187.84844720496895, 29.650909090909096, 'X[4] <= -1.976\\ngini = 0.521\\nsamples = 133\\nvalue = [67, 3, 63, 0]'),\n",
       " Text(187.1552795031056, 9.883636363636384, 'gini = 0.463\\nsamples = 85\\nvalue = [25, 3, 57, 0]'),\n",
       " Text(188.5416149068323, 9.883636363636384, 'gini = 0.219\\nsamples = 48\\nvalue = [42, 0, 6, 0]'),\n",
       " Text(190.6211180124224, 29.650909090909096, 'X[4] <= -0.831\\ngini = 0.488\\nsamples = 4525\\nvalue = [1002, 484, 3039, 0]'),\n",
       " Text(189.92795031055903, 9.883636363636384, 'gini = 0.412\\nsamples = 1232\\nvalue = [203, 113, 916, 0]'),\n",
       " Text(191.31428571428572, 9.883636363636384, 'gini = 0.513\\nsamples = 3293\\nvalue = [799, 371, 2123, 0]'),\n",
       " Text(194.78012422360248, 49.418181818181836, 'X[4] <= -0.602\\ngini = 0.56\\nsamples = 3516\\nvalue = [1131, 380, 2005, 0]'),\n",
       " Text(193.3937888198758, 29.650909090909096, 'X[11] <= 0.64\\ngini = 0.542\\nsamples = 1695\\nvalue = [447, 213, 1035, 0]'),\n",
       " Text(192.70062111801244, 9.883636363636384, 'gini = 0.538\\nsamples = 1655\\nvalue = [424, 211, 1020, 0]'),\n",
       " Text(194.08695652173915, 9.883636363636384, 'gini = 0.526\\nsamples = 40\\nvalue = [23, 2, 15, 0]'),\n",
       " Text(196.1664596273292, 29.650909090909096, 'X[11] <= -0.445\\ngini = 0.567\\nsamples = 1821\\nvalue = [684, 167, 970, 0]'),\n",
       " Text(195.47329192546584, 9.883636363636384, 'gini = 0.545\\nsamples = 1304\\nvalue = [447, 107, 750, 0]'),\n",
       " Text(196.85962732919256, 9.883636363636384, 'gini = 0.595\\nsamples = 517\\nvalue = [237, 60, 220, 0]'),\n",
       " Text(203.09813664596274, 69.18545454545455, 'X[11] <= 2.627\\ngini = 0.445\\nsamples = 1032\\nvalue = [77, 223, 732, 0]'),\n",
       " Text(200.32546583850933, 49.418181818181836, 'X[10] <= 0.468\\ngini = 0.424\\nsamples = 925\\nvalue = [43, 215, 667, 0]'),\n",
       " Text(198.9391304347826, 29.650909090909096, 'X[4] <= -0.602\\ngini = 0.478\\nsamples = 391\\nvalue = [21, 111, 259, 0]'),\n",
       " Text(198.24596273291925, 9.883636363636384, 'gini = 0.532\\nsamples = 96\\nvalue = [5, 37, 54, 0]'),\n",
       " Text(199.63229813664597, 9.883636363636384, 'gini = 0.451\\nsamples = 295\\nvalue = [16, 74, 205, 0]'),\n",
       " Text(201.71180124223605, 29.650909090909096, 'X[2] <= 0.153\\ngini = 0.377\\nsamples = 534\\nvalue = [22, 104, 408, 0]'),\n",
       " Text(201.0186335403727, 9.883636363636384, 'gini = 0.294\\nsamples = 326\\nvalue = [11, 45, 270, 0]'),\n",
       " Text(202.40496894409938, 9.883636363636384, 'gini = 0.477\\nsamples = 208\\nvalue = [11, 59, 138, 0]'),\n",
       " Text(205.87080745341615, 49.418181818181836, 'X[2] <= -0.466\\ngini = 0.524\\nsamples = 107\\nvalue = [34, 8, 65, 0]'),\n",
       " Text(204.48447204968946, 29.650909090909096, 'X[2] <= -1.386\\ngini = 0.515\\nsamples = 20\\nvalue = [12, 1, 7, 0]'),\n",
       " Text(203.7913043478261, 9.883636363636384, 'gini = 0.58\\nsamples = 10\\nvalue = [4, 1, 5, 0]'),\n",
       " Text(205.17763975155282, 9.883636363636384, 'gini = 0.32\\nsamples = 10\\nvalue = [8, 0, 2, 0]'),\n",
       " Text(207.25714285714287, 29.650909090909096, 'X[6] <= 0.105\\ngini = 0.485\\nsamples = 87\\nvalue = [22, 7, 58, 0]'),\n",
       " Text(206.5639751552795, 9.883636363636384, 'gini = 0.56\\nsamples = 30\\nvalue = [14, 2, 14, 0]'),\n",
       " Text(207.95031055900623, 9.883636363636384, 'gini = 0.377\\nsamples = 57\\nvalue = [8, 5, 44, 0]'),\n",
       " Text(219.73416149068325, 88.95272727272729, 'X[3] <= 0.172\\ngini = 0.526\\nsamples = 1281\\nvalue = [692, 44, 545, 0]'),\n",
       " Text(214.1888198757764, 69.18545454545455, 'X[10] <= 0.468\\ngini = 0.487\\nsamples = 803\\nvalue = [508, 27, 268, 0]'),\n",
       " Text(211.416149068323, 49.418181818181836, 'X[6] <= -1.117\\ngini = 0.437\\nsamples = 667\\nvalue = [467, 21, 179, 0]'),\n",
       " Text(210.02981366459628, 29.650909090909096, 'X[1] <= 0.515\\ngini = 0.544\\nsamples = 127\\nvalue = [61, 6, 60, 0]'),\n",
       " Text(209.33664596273294, 9.883636363636384, 'gini = 0.275\\nsamples = 62\\nvalue = [52, 1, 9, 0]'),\n",
       " Text(210.72298136645963, 9.883636363636384, 'gini = 0.359\\nsamples = 65\\nvalue = [9, 5, 51, 0]'),\n",
       " Text(212.8024844720497, 29.650909090909096, 'X[3] <= -0.533\\ngini = 0.385\\nsamples = 540\\nvalue = [406, 15, 119, 0]'),\n",
       " Text(212.10931677018635, 9.883636363636384, 'gini = 0.488\\nsamples = 130\\nvalue = [79, 2, 49, 0]'),\n",
       " Text(213.49565217391304, 9.883636363636384, 'gini = 0.334\\nsamples = 410\\nvalue = [327, 13, 70, 0]'),\n",
       " Text(216.96149068322984, 49.418181818181836, 'X[1] <= 0.609\\ngini = 0.479\\nsamples = 136\\nvalue = [41, 6, 89, 0]'),\n",
       " Text(215.57515527950312, 29.650909090909096, 'X[2] <= 0.186\\ngini = 0.464\\nsamples = 55\\nvalue = [36, 1, 18, 0]'),\n",
       " Text(214.88198757763976, 9.883636363636384, 'gini = 0.258\\nsamples = 34\\nvalue = [29, 1, 4, 0]'),\n",
       " Text(216.26832298136648, 9.883636363636384, 'gini = 0.444\\nsamples = 21\\nvalue = [7, 0, 14, 0]'),\n",
       " Text(218.34782608695653, 29.650909090909096, 'X[0] <= -0.229\\ngini = 0.224\\nsamples = 81\\nvalue = [5, 5, 71, 0]'),\n",
       " Text(217.65465838509317, 9.883636363636384, 'gini = 0.163\\nsamples = 68\\nvalue = [1, 5, 62, 0]'),\n",
       " Text(219.0409937888199, 9.883636363636384, 'gini = 0.426\\nsamples = 13\\nvalue = [4, 0, 9, 0]'),\n",
       " Text(225.27950310559007, 69.18545454545455, 'X[1] <= -0.762\\ngini = 0.515\\nsamples = 478\\nvalue = [184, 17, 277, 0]'),\n",
       " Text(222.50683229813666, 49.418181818181836, 'X[4] <= -0.831\\ngini = 0.374\\nsamples = 175\\nvalue = [34, 7, 134, 0]'),\n",
       " Text(221.12049689440994, 29.650909090909096, 'X[13] <= -0.607\\ngini = 0.463\\nsamples = 22\\nvalue = [14, 0, 8, 0]'),\n",
       " Text(220.4273291925466, 9.883636363636384, 'gini = 0.496\\nsamples = 11\\nvalue = [6, 0, 5, 0]'),\n",
       " Text(221.8136645962733, 9.883636363636384, 'gini = 0.397\\nsamples = 11\\nvalue = [8, 0, 3, 0]'),\n",
       " Text(223.89316770186338, 29.650909090909096, 'X[6] <= -1.117\\ngini = 0.303\\nsamples = 153\\nvalue = [20, 7, 126, 0]'),\n",
       " Text(223.20000000000002, 9.883636363636384, 'gini = 0.491\\nsamples = 23\\nvalue = [10, 0, 13, 0]'),\n",
       " Text(224.58633540372674, 9.883636363636384, 'gini = 0.236\\nsamples = 130\\nvalue = [10, 7, 113, 0]'),\n",
       " Text(228.0521739130435, 49.418181818181836, 'X[1] <= 0.155\\ngini = 0.531\\nsamples = 303\\nvalue = [150, 10, 143, 0]'),\n",
       " Text(226.66583850931679, 29.650909090909096, 'X[7] <= -0.349\\ngini = 0.454\\nsamples = 116\\nvalue = [79, 4, 33, 0]'),\n",
       " Text(225.97267080745343, 9.883636363636384, 'gini = 0.52\\nsamples = 81\\nvalue = [46, 3, 32, 0]'),\n",
       " Text(227.35900621118014, 9.883636363636384, 'gini = 0.109\\nsamples = 35\\nvalue = [33, 1, 1, 0]'),\n",
       " Text(229.4385093167702, 29.650909090909096, 'X[4] <= -0.258\\ngini = 0.509\\nsamples = 187\\nvalue = [71, 6, 110, 0]'),\n",
       " Text(228.74534161490683, 9.883636363636384, 'gini = 0.209\\nsamples = 60\\nvalue = [6, 1, 53, 0]'),\n",
       " Text(230.13167701863355, 9.883636363636384, 'gini = 0.535\\nsamples = 127\\nvalue = [65, 5, 57, 0]'),\n",
       " Text(242.34875776397516, 108.72, 'X[6] <= 0.105\\ngini = 0.508\\nsamples = 784\\nvalue = [7, 405, 372, 0]'),\n",
       " Text(237.0633540372671, 88.95272727272729, 'X[4] <= -1.518\\ngini = 0.501\\nsamples = 470\\nvalue = [5, 264, 201, 0]'),\n",
       " Text(236.37018633540373, 69.18545454545455, 'X[2] <= -0.407\\ngini = 0.495\\nsamples = 460\\nvalue = [3, 263, 194, 0]'),\n",
       " Text(233.59751552795032, 49.418181818181836, 'X[2] <= -1.169\\ngini = 0.507\\nsamples = 146\\nvalue = [1, 71, 74, 0]'),\n",
       " Text(232.2111801242236, 29.650909090909096, 'X[11] <= 0.911\\ngini = 0.501\\nsamples = 83\\nvalue = [1, 47, 35, 0]'),\n",
       " Text(231.51801242236027, 9.883636363636384, 'gini = 0.453\\nsamples = 52\\nvalue = [0, 34, 18, 0]'),\n",
       " Text(232.90434782608696, 9.883636363636384, 'gini = 0.522\\nsamples = 31\\nvalue = [1, 13, 17, 0]'),\n",
       " Text(234.98385093167704, 29.650909090909096, 'X[0] <= 1.258\\ngini = 0.472\\nsamples = 63\\nvalue = [0, 24, 39, 0]'),\n",
       " Text(234.29068322981368, 9.883636363636384, 'gini = 0.493\\nsamples = 52\\nvalue = [0, 23, 29, 0]'),\n",
       " Text(235.6770186335404, 9.883636363636384, 'gini = 0.165\\nsamples = 11\\nvalue = [0, 1, 10, 0]'),\n",
       " Text(239.14285714285717, 49.418181818181836, 'X[0] <= -0.229\\ngini = 0.48\\nsamples = 314\\nvalue = [2, 192, 120, 0]'),\n",
       " Text(237.75652173913045, 29.650909090909096, 'X[2] <= 0.866\\ngini = 0.428\\nsamples = 128\\nvalue = [1, 89, 38, 0]'),\n",
       " Text(237.0633540372671, 9.883636363636384, 'gini = 0.367\\nsamples = 101\\nvalue = [1, 77, 23, 0]'),\n",
       " Text(238.4496894409938, 9.883636363636384, 'gini = 0.494\\nsamples = 27\\nvalue = [0, 12, 15, 0]'),\n",
       " Text(240.52919254658386, 29.650909090909096, 'X[6] <= -2.34\\ngini = 0.499\\nsamples = 186\\nvalue = [1, 103, 82, 0]'),\n",
       " Text(239.8360248447205, 9.883636363636384, 'gini = 0.42\\nsamples = 10\\nvalue = [0, 3, 7, 0]'),\n",
       " Text(241.22236024844722, 9.883636363636384, 'gini = 0.496\\nsamples = 176\\nvalue = [1, 100, 75, 0]'),\n",
       " Text(237.75652173913045, 69.18545454545455, 'gini = 0.46\\nsamples = 10\\nvalue = [2, 1, 7, 0]'),\n",
       " Text(247.63416149068325, 88.95272727272729, 'X[2] <= -0.056\\ngini = 0.502\\nsamples = 314\\nvalue = [2, 141, 171, 0]'),\n",
       " Text(244.34161490683232, 69.18545454545455, 'X[3] <= -0.533\\ngini = 0.457\\nsamples = 113\\nvalue = [0, 40, 73, 0]'),\n",
       " Text(242.60869565217394, 49.418181818181836, 'X[11] <= -0.535\\ngini = 0.499\\nsamples = 21\\nvalue = [0, 11, 10, 0]'),\n",
       " Text(241.91552795031058, 29.650909090909096, 'gini = 0.496\\nsamples = 11\\nvalue = [0, 5, 6, 0]'),\n",
       " Text(243.3018633540373, 29.650909090909096, 'gini = 0.48\\nsamples = 10\\nvalue = [0, 6, 4, 0]'),\n",
       " Text(246.0745341614907, 49.418181818181836, 'X[9] <= 0.565\\ngini = 0.432\\nsamples = 92\\nvalue = [0, 29, 63, 0]'),\n",
       " Text(244.68819875776398, 29.650909090909096, 'X[2] <= -0.47\\ngini = 0.49\\nsamples = 21\\nvalue = [0, 12, 9, 0]'),\n",
       " Text(243.99503105590063, 9.883636363636384, 'gini = 0.397\\nsamples = 11\\nvalue = [0, 8, 3, 0]'),\n",
       " Text(245.38136645962734, 9.883636363636384, 'gini = 0.48\\nsamples = 10\\nvalue = [0, 4, 6, 0]'),\n",
       " Text(247.4608695652174, 29.650909090909096, 'X[10] <= 0.468\\ngini = 0.364\\nsamples = 71\\nvalue = [0, 17, 54, 0]'),\n",
       " Text(246.76770186335406, 9.883636363636384, 'gini = 0.48\\nsamples = 25\\nvalue = [0, 10, 15, 0]'),\n",
       " Text(248.15403726708075, 9.883636363636384, 'gini = 0.258\\nsamples = 46\\nvalue = [0, 7, 39, 0]'),\n",
       " Text(250.9267080745342, 69.18545454545455, 'X[2] <= -0.018\\ngini = 0.51\\nsamples = 201\\nvalue = [2, 101, 98, 0]'),\n",
       " Text(250.23354037267083, 49.418181818181836, 'gini = 0.337\\nsamples = 14\\nvalue = [0, 11, 3, 0]'),\n",
       " Text(251.61987577639752, 49.418181818181836, 'X[2] <= 1.067\\ngini = 0.51\\nsamples = 187\\nvalue = [2, 90, 95, 0]'),\n",
       " Text(250.23354037267083, 29.650909090909096, 'X[2] <= 0.716\\ngini = 0.508\\nsamples = 143\\nvalue = [2, 63, 78, 0]'),\n",
       " Text(249.54037267080747, 9.883636363636384, 'gini = 0.515\\nsamples = 124\\nvalue = [2, 58, 64, 0]'),\n",
       " Text(250.9267080745342, 9.883636363636384, 'gini = 0.388\\nsamples = 19\\nvalue = [0, 5, 14, 0]'),\n",
       " Text(253.00621118012424, 29.650909090909096, 'X[2] <= 1.732\\ngini = 0.474\\nsamples = 44\\nvalue = [0, 27, 17, 0]'),\n",
       " Text(252.31304347826088, 9.883636363636384, 'gini = 0.404\\nsamples = 32\\nvalue = [0, 23, 9, 0]'),\n",
       " Text(253.6993788819876, 9.883636363636384, 'gini = 0.444\\nsamples = 12\\nvalue = [0, 4, 8, 0]'),\n",
       " Text(306.9649844720497, 148.25454545454545, 'X[11] <= 2.808\\ngini = 0.475\\nsamples = 13023\\nvalue = [2206, 1827, 8990, 0]'),\n",
       " Text(286.6248447204969, 128.48727272727274, 'X[11] <= 1.001\\ngini = 0.466\\nsamples = 12584\\nvalue = [2001, 1792, 8791, 0]'),\n",
       " Text(267.9959627329193, 108.72, 'X[4] <= 1.23\\ngini = 0.482\\nsamples = 9333\\nvalue = [1831, 1138, 6364, 0]'),\n",
       " Text(260.804347826087, 88.95272727272729, 'X[11] <= -0.445\\ngini = 0.56\\nsamples = 152\\nvalue = [78, 11, 63, 0]'),\n",
       " Text(258.8981366459627, 69.18545454545455, 'X[11] <= -0.625\\ngini = 0.563\\nsamples = 99\\nvalue = [34, 10, 55, 0]'),\n",
       " Text(257.16521739130434, 49.418181818181836, 'X[2] <= 0.149\\ngini = 0.346\\nsamples = 43\\nvalue = [34, 2, 7, 0]'),\n",
       " Text(255.77888198757765, 29.650909090909096, 'X[0] <= 0.267\\ngini = 0.172\\nsamples = 21\\nvalue = [19, 2, 0, 0]'),\n",
       " Text(255.0857142857143, 9.883636363636384, 'gini = 0.32\\nsamples = 10\\nvalue = [8, 2, 0, 0]'),\n",
       " Text(256.472049689441, 9.883636363636384, 'gini = 0.0\\nsamples = 11\\nvalue = [11, 0, 0, 0]'),\n",
       " Text(258.55155279503106, 29.650909090909096, 'X[0] <= 0.763\\ngini = 0.434\\nsamples = 22\\nvalue = [15, 0, 7, 0]'),\n",
       " Text(257.8583850931677, 9.883636363636384, 'gini = 0.48\\nsamples = 10\\nvalue = [6, 0, 4, 0]'),\n",
       " Text(259.24472049689444, 9.883636363636384, 'gini = 0.375\\nsamples = 12\\nvalue = [9, 0, 3, 0]'),\n",
       " Text(260.6310559006211, 49.418181818181836, 'X[0] <= -0.229\\ngini = 0.245\\nsamples = 56\\nvalue = [0, 8, 48, 0]'),\n",
       " Text(259.9378881987578, 29.650909090909096, 'gini = 0.0\\nsamples = 22\\nvalue = [0, 0, 22, 0]'),\n",
       " Text(261.3242236024845, 29.650909090909096, 'X[2] <= -1.225\\ngini = 0.36\\nsamples = 34\\nvalue = [0, 8, 26, 0]'),\n",
       " Text(260.6310559006211, 9.883636363636384, 'gini = 0.48\\nsamples = 10\\nvalue = [0, 4, 6, 0]'),\n",
       " Text(262.0173913043478, 9.883636363636384, 'gini = 0.278\\nsamples = 24\\nvalue = [0, 4, 20, 0]'),\n",
       " Text(262.7105590062112, 69.18545454545455, 'X[3] <= -0.474\\ngini = 0.288\\nsamples = 53\\nvalue = [44, 1, 8, 0]'),\n",
       " Text(262.0173913043478, 49.418181818181836, 'gini = 0.43\\nsamples = 16\\nvalue = [11, 0, 5, 0]'),\n",
       " Text(263.40372670807454, 49.418181818181836, 'X[8] <= 0.408\\ngini = 0.197\\nsamples = 37\\nvalue = [33, 1, 3, 0]'),\n",
       " Text(262.7105590062112, 29.650909090909096, 'gini = 0.1\\nsamples = 19\\nvalue = [18, 1, 0, 0]'),\n",
       " Text(264.09689440993793, 29.650909090909096, 'gini = 0.278\\nsamples = 18\\nvalue = [15, 0, 3, 0]'),\n",
       " Text(275.18757763975157, 88.95272727272729, 'X[13] <= -1.192\\ngini = 0.477\\nsamples = 9181\\nvalue = [1753, 1127, 6301, 0]'),\n",
       " Text(269.64223602484475, 69.18545454545455, 'X[1] <= 0.97\\ngini = 0.417\\nsamples = 2628\\nvalue = [389, 293, 1946, 0]'),\n",
       " Text(266.8695652173913, 49.418181818181836, 'X[2] <= -1.892\\ngini = 0.403\\nsamples = 1789\\nvalue = [221, 221, 1347, 0]'),\n",
       " Text(265.4832298136646, 29.650909090909096, 'X[9] <= 0.339\\ngini = 0.51\\nsamples = 34\\nvalue = [2, 11, 21, 0]'),\n",
       " Text(264.79006211180126, 9.883636363636384, 'gini = 0.427\\nsamples = 15\\nvalue = [2, 2, 11, 0]'),\n",
       " Text(266.176397515528, 9.883636363636384, 'gini = 0.499\\nsamples = 19\\nvalue = [0, 9, 10, 0]'),\n",
       " Text(268.25590062111803, 29.650909090909096, 'X[7] <= -0.698\\ngini = 0.399\\nsamples = 1755\\nvalue = [219, 210, 1326, 0]'),\n",
       " Text(267.5627329192547, 9.883636363636384, 'gini = 0.368\\nsamples = 489\\nvalue = [73, 36, 380, 0]'),\n",
       " Text(268.94906832298136, 9.883636363636384, 'gini = 0.409\\nsamples = 1266\\nvalue = [146, 174, 946, 0]'),\n",
       " Text(272.41490683229813, 49.418181818181836, 'X[2] <= -0.021\\ngini = 0.443\\nsamples = 839\\nvalue = [168, 72, 599, 0]'),\n",
       " Text(271.02857142857147, 29.650909090909096, 'X[2] <= -0.169\\ngini = 0.46\\nsamples = 196\\nvalue = [25, 33, 138, 0]'),\n",
       " Text(270.3354037267081, 9.883636363636384, 'gini = 0.449\\nsamples = 175\\nvalue = [25, 25, 125, 0]'),\n",
       " Text(271.7217391304348, 9.883636363636384, 'gini = 0.472\\nsamples = 21\\nvalue = [0, 8, 13, 0]'),\n",
       " Text(273.80124223602485, 29.650909090909096, 'X[6] <= 0.105\\ngini = 0.433\\nsamples = 643\\nvalue = [143, 39, 461, 0]'),\n",
       " Text(273.1080745341615, 9.883636363636384, 'gini = 0.363\\nsamples = 168\\nvalue = [27, 10, 131, 0]'),\n",
       " Text(274.49440993788824, 9.883636363636384, 'gini = 0.454\\nsamples = 475\\nvalue = [116, 29, 330, 0]'),\n",
       " Text(280.7329192546584, 69.18545454545455, 'X[11] <= -0.264\\ngini = 0.499\\nsamples = 6553\\nvalue = [1364, 834, 4355, 0]'),\n",
       " Text(277.960248447205, 49.418181818181836, 'X[1] <= 0.97\\ngini = 0.522\\nsamples = 4052\\nvalue = [984, 490, 2578, 0]'),\n",
       " Text(276.5739130434783, 29.650909090909096, 'X[1] <= -1.325\\ngini = 0.517\\nsamples = 2745\\nvalue = [589, 382, 1774, 0]'),\n",
       " Text(275.8807453416149, 9.883636363636384, 'gini = 0.563\\nsamples = 833\\nvalue = [224, 121, 488, 0]'),\n",
       " Text(277.2670807453416, 9.883636363636384, 'gini = 0.493\\nsamples = 1912\\nvalue = [365, 261, 1286, 0]'),\n",
       " Text(279.3465838509317, 29.650909090909096, 'X[2] <= 0.174\\ngini = 0.523\\nsamples = 1307\\nvalue = [395, 108, 804, 0]'),\n",
       " Text(278.65341614906833, 9.883636363636384, 'gini = 0.513\\nsamples = 370\\nvalue = [82, 48, 240, 0]'),\n",
       " Text(280.03975155279505, 9.883636363636384, 'gini = 0.522\\nsamples = 937\\nvalue = [313, 60, 564, 0]'),\n",
       " Text(283.5055900621118, 49.418181818181836, 'X[11] <= 0.097\\ngini = 0.453\\nsamples = 2501\\nvalue = [380, 344, 1777, 0]'),\n",
       " Text(282.1192546583851, 29.650909090909096, 'X[2] <= 1.788\\ngini = 0.44\\nsamples = 2197\\nvalue = [297, 314, 1586, 0]'),\n",
       " Text(281.4260869565218, 9.883636363636384, 'gini = 0.449\\nsamples = 2089\\nvalue = [290, 307, 1492, 0]'),\n",
       " Text(282.8124223602485, 9.883636363636384, 'gini = 0.234\\nsamples = 108\\nvalue = [7, 7, 94, 0]'),\n",
       " Text(284.89192546583854, 29.650909090909096, 'X[12] <= 0.265\\ngini = 0.521\\nsamples = 304\\nvalue = [83, 30, 191, 0]'),\n",
       " Text(284.19875776397515, 9.883636363636384, 'gini = 0.55\\nsamples = 137\\nvalue = [49, 11, 77, 0]'),\n",
       " Text(285.58509316770187, 9.883636363636384, 'gini = 0.48\\nsamples = 167\\nvalue = [34, 19, 114, 0]'),\n",
       " Text(305.25372670807457, 108.72, 'X[8] <= 0.408\\ngini = 0.399\\nsamples = 3251\\nvalue = [170, 654, 2427, 0]'),\n",
       " Text(296.8490683229814, 88.95272727272729, 'X[1] <= 0.97\\ngini = 0.358\\nsamples = 1967\\nvalue = [115, 312, 1540, 0]'),\n",
       " Text(291.8236024844721, 69.18545454545455, 'X[4] <= 1.459\\ngini = 0.394\\nsamples = 1202\\nvalue = [68, 229, 905, 0]'),\n",
       " Text(289.05093167701864, 49.418181818181836, 'X[3] <= -1.12\\ngini = 0.439\\nsamples = 709\\nvalue = [49, 154, 506, 0]'),\n",
       " Text(287.6645962732919, 29.650909090909096, 'X[12] <= 0.265\\ngini = 0.379\\nsamples = 226\\nvalue = [19, 33, 174, 0]'),\n",
       " Text(286.9714285714286, 9.883636363636384, 'gini = 0.45\\nsamples = 136\\nvalue = [17, 22, 97, 0]'),\n",
       " Text(288.3577639751553, 9.883636363636384, 'gini = 0.253\\nsamples = 90\\nvalue = [2, 11, 77, 0]'),\n",
       " Text(290.43726708074536, 29.650909090909096, 'X[11] <= 1.182\\ngini = 0.461\\nsamples = 483\\nvalue = [30, 121, 332, 0]'),\n",
       " Text(289.744099378882, 9.883636363636384, 'gini = 0.467\\nsamples = 447\\nvalue = [26, 118, 303, 0]'),\n",
       " Text(291.1304347826087, 9.883636363636384, 'gini = 0.332\\nsamples = 36\\nvalue = [4, 3, 29, 0]'),\n",
       " Text(294.59627329192546, 49.418181818181836, 'X[2] <= -1.748\\ngini = 0.32\\nsamples = 493\\nvalue = [19, 75, 399, 0]'),\n",
       " Text(293.2099378881988, 29.650909090909096, 'X[0] <= -0.973\\ngini = 0.476\\nsamples = 23\\nvalue = [0, 9, 14, 0]'),\n",
       " Text(292.5167701863354, 9.883636363636384, 'gini = 0.32\\nsamples = 10\\nvalue = [0, 8, 2, 0]'),\n",
       " Text(293.9031055900621, 9.883636363636384, 'gini = 0.142\\nsamples = 13\\nvalue = [0, 1, 12, 0]'),\n",
       " Text(295.9826086956522, 29.650909090909096, 'X[1] <= -1.325\\ngini = 0.308\\nsamples = 470\\nvalue = [19, 66, 385, 0]'),\n",
       " Text(295.28944099378884, 9.883636363636384, 'gini = 0.384\\nsamples = 166\\nvalue = [8, 32, 126, 0]'),\n",
       " Text(296.67577639751556, 9.883636363636384, 'gini = 0.26\\nsamples = 304\\nvalue = [11, 34, 259, 0]'),\n",
       " Text(301.8745341614907, 69.18545454545455, 'X[11] <= 1.995\\ngini = 0.295\\nsamples = 765\\nvalue = [47, 83, 635, 0]'),\n",
       " Text(300.14161490683233, 49.418181818181836, 'X[12] <= 0.265\\ngini = 0.282\\nsamples = 737\\nvalue = [36, 83, 618, 0]'),\n",
       " Text(298.7552795031056, 29.650909090909096, 'X[3] <= 1.465\\ngini = 0.312\\nsamples = 560\\nvalue = [32, 70, 458, 0]'),\n",
       " Text(298.0621118012423, 9.883636363636384, 'gini = 0.299\\nsamples = 476\\nvalue = [30, 52, 394, 0]'),\n",
       " Text(299.44844720496894, 9.883636363636384, 'gini = 0.373\\nsamples = 84\\nvalue = [2, 18, 64, 0]'),\n",
       " Text(301.52795031055905, 29.650909090909096, 'X[3] <= -1.297\\ngini = 0.177\\nsamples = 177\\nvalue = [4, 13, 160, 0]'),\n",
       " Text(300.83478260869566, 9.883636363636384, 'gini = 0.39\\nsamples = 21\\nvalue = [2, 3, 16, 0]'),\n",
       " Text(302.2211180124224, 9.883636363636384, 'gini = 0.144\\nsamples = 156\\nvalue = [2, 10, 144, 0]'),\n",
       " Text(303.6074534161491, 49.418181818181836, 'X[2] <= 0.571\\ngini = 0.477\\nsamples = 28\\nvalue = [11, 0, 17, 0]'),\n",
       " Text(302.9142857142857, 29.650909090909096, 'gini = 0.337\\nsamples = 14\\nvalue = [3, 0, 11, 0]'),\n",
       " Text(304.30062111801243, 29.650909090909096, 'gini = 0.49\\nsamples = 14\\nvalue = [8, 0, 6, 0]'),\n",
       " Text(313.65838509316774, 88.95272727272729, 'X[11] <= 1.453\\ngini = 0.45\\nsamples = 1284\\nvalue = [55, 342, 887, 0]'),\n",
       " Text(309.84596273291925, 69.18545454545455, 'X[7] <= -0.698\\ngini = 0.442\\nsamples = 1226\\nvalue = [38, 338, 850, 0]'),\n",
       " Text(307.07329192546587, 49.418181818181836, 'X[1] <= -0.594\\ngini = 0.281\\nsamples = 109\\nvalue = [2, 16, 91, 0]'),\n",
       " Text(305.68695652173915, 29.650909090909096, 'X[2] <= 0.703\\ngini = 0.419\\nsamples = 54\\nvalue = [2, 13, 39, 0]'),\n",
       " Text(304.9937888198758, 9.883636363636384, 'gini = 0.518\\nsamples = 26\\nvalue = [1, 10, 15, 0]'),\n",
       " Text(306.3801242236025, 9.883636363636384, 'gini = 0.253\\nsamples = 28\\nvalue = [1, 3, 24, 0]'),\n",
       " Text(308.4596273291926, 29.650909090909096, 'X[9] <= 0.339\\ngini = 0.103\\nsamples = 55\\nvalue = [0, 3, 52, 0]'),\n",
       " Text(307.7664596273292, 9.883636363636384, 'gini = 0.0\\nsamples = 25\\nvalue = [0, 0, 25, 0]'),\n",
       " Text(309.1527950310559, 9.883636363636384, 'gini = 0.18\\nsamples = 30\\nvalue = [0, 3, 27, 0]'),\n",
       " Text(312.6186335403727, 49.418181818181836, 'X[14] <= 0.398\\ngini = 0.454\\nsamples = 1117\\nvalue = [36, 322, 759, 0]'),\n",
       " Text(311.23229813664597, 29.650909090909096, 'X[7] <= 0.875\\ngini = 0.462\\nsamples = 764\\nvalue = [16, 244, 504, 0]'),\n",
       " Text(310.53913043478263, 9.883636363636384, 'gini = 0.48\\nsamples = 546\\nvalue = [12, 189, 345, 0]'),\n",
       " Text(311.92546583850935, 9.883636363636384, 'gini = 0.404\\nsamples = 218\\nvalue = [4, 55, 159, 0]'),\n",
       " Text(314.0049689440994, 29.650909090909096, 'X[3] <= 1.113\\ngini = 0.426\\nsamples = 353\\nvalue = [20, 78, 255, 0]'),\n",
       " Text(313.3118012422361, 9.883636363636384, 'gini = 0.414\\nsamples = 342\\nvalue = [19, 72, 251, 0]'),\n",
       " Text(314.69813664596273, 9.883636363636384, 'gini = 0.562\\nsamples = 11\\nvalue = [1, 6, 4, 0]'),\n",
       " Text(317.47080745341617, 69.18545454545455, 'X[9] <= -0.563\\ngini = 0.502\\nsamples = 58\\nvalue = [17, 4, 37, 0]'),\n",
       " Text(316.08447204968945, 49.418181818181836, 'X[7] <= 0.525\\ngini = 0.458\\nsamples = 27\\nvalue = [5, 3, 19, 0]'),\n",
       " Text(315.3913043478261, 29.650909090909096, 'gini = 0.375\\nsamples = 16\\nvalue = [4, 0, 12, 0]'),\n",
       " Text(316.77763975155284, 29.650909090909096, 'gini = 0.512\\nsamples = 11\\nvalue = [1, 3, 7, 0]'),\n",
       " Text(318.8571428571429, 49.418181818181836, 'X[0] <= -0.725\\ngini = 0.512\\nsamples = 31\\nvalue = [12, 1, 18, 0]'),\n",
       " Text(318.1639751552795, 29.650909090909096, 'gini = 0.555\\nsamples = 16\\nvalue = [8, 1, 7, 0]'),\n",
       " Text(319.5503105590062, 29.650909090909096, 'gini = 0.391\\nsamples = 15\\nvalue = [4, 0, 11, 0]'),\n",
       " Text(327.3051242236025, 128.48727272727274, 'X[0] <= 1.258\\ngini = 0.57\\nsamples = 439\\nvalue = [205, 35, 199, 0]'),\n",
       " Text(322.5829192546584, 108.72, 'X[6] <= -1.117\\ngini = 0.546\\nsamples = 378\\nvalue = [197, 21, 160, 0]'),\n",
       " Text(319.5503105590062, 88.95272727272729, 'X[13] <= -0.607\\ngini = 0.461\\nsamples = 49\\nvalue = [11, 4, 34, 0]'),\n",
       " Text(318.8571428571429, 69.18545454545455, 'gini = 0.313\\nsamples = 27\\nvalue = [1, 4, 22, 0]'),\n",
       " Text(320.2434782608696, 69.18545454545455, 'gini = 0.496\\nsamples = 22\\nvalue = [10, 0, 12, 0]'),\n",
       " Text(325.6155279503106, 88.95272727272729, 'X[0] <= 0.267\\ngini = 0.531\\nsamples = 329\\nvalue = [186, 17, 126, 0]'),\n",
       " Text(321.62981366459627, 69.18545454545455, 'X[3] <= -1.59\\ngini = 0.441\\nsamples = 184\\nvalue = [126, 3, 55, 0]'),\n",
       " Text(320.93664596273294, 49.418181818181836, 'gini = 0.278\\nsamples = 12\\nvalue = [2, 0, 10, 0]'),\n",
       " Text(322.32298136645966, 49.418181818181836, 'X[13] <= -0.607\\ngini = 0.412\\nsamples = 172\\nvalue = [124, 3, 45, 0]'),\n",
       " Text(320.93664596273294, 29.650909090909096, 'X[10] <= 0.468\\ngini = 0.487\\nsamples = 74\\nvalue = [45, 1, 28, 0]'),\n",
       " Text(320.2434782608696, 9.883636363636384, 'gini = 0.443\\nsamples = 63\\nvalue = [43, 1, 19, 0]'),\n",
       " Text(321.62981366459627, 9.883636363636384, 'gini = 0.298\\nsamples = 11\\nvalue = [2, 0, 9, 0]'),\n",
       " Text(323.7093167701864, 29.650909090909096, 'X[3] <= 0.584\\ngini = 0.32\\nsamples = 98\\nvalue = [79, 2, 17, 0]'),\n",
       " Text(323.016149068323, 9.883636363636384, 'gini = 0.369\\nsamples = 77\\nvalue = [59, 2, 16, 0]'),\n",
       " Text(324.4024844720497, 9.883636363636384, 'gini = 0.091\\nsamples = 21\\nvalue = [20, 0, 1, 0]'),\n",
       " Text(329.60124223602486, 69.18545454545455, 'X[4] <= 1.459\\ngini = 0.58\\nsamples = 145\\nvalue = [60, 14, 71, 0]'),\n",
       " Text(327.8683229813665, 49.418181818181836, 'X[9] <= -0.338\\ngini = 0.54\\nsamples = 109\\nvalue = [31, 12, 66, 0]'),\n",
       " Text(326.48198757763976, 29.650909090909096, 'X[1] <= 0.571\\ngini = 0.456\\nsamples = 58\\nvalue = [7, 10, 41, 0]'),\n",
       " Text(325.7888198757764, 9.883636363636384, 'gini = 0.124\\nsamples = 30\\nvalue = [0, 2, 28, 0]'),\n",
       " Text(327.17515527950314, 9.883636363636384, 'gini = 0.64\\nsamples = 28\\nvalue = [7, 8, 13, 0]'),\n",
       " Text(329.2546583850932, 29.650909090909096, 'X[13] <= -1.192\\ngini = 0.537\\nsamples = 51\\nvalue = [24, 2, 25, 0]'),\n",
       " Text(328.5614906832298, 9.883636363636384, 'gini = 0.54\\nsamples = 30\\nvalue = [11, 2, 17, 0]'),\n",
       " Text(329.9478260869565, 9.883636363636384, 'gini = 0.472\\nsamples = 21\\nvalue = [13, 0, 8, 0]'),\n",
       " Text(331.33416149068324, 49.418181818181836, 'X[13] <= -0.607\\ngini = 0.329\\nsamples = 36\\nvalue = [29, 2, 5, 0]'),\n",
       " Text(330.6409937888199, 29.650909090909096, 'gini = 0.288\\nsamples = 24\\nvalue = [20, 1, 3, 0]'),\n",
       " Text(332.02732919254663, 29.650909090909096, 'gini = 0.403\\nsamples = 12\\nvalue = [9, 1, 2, 0]'),\n",
       " Text(332.02732919254663, 108.72, 'X[3] <= -1.062\\ngini = 0.521\\nsamples = 61\\nvalue = [8, 14, 39, 0]'),\n",
       " Text(331.33416149068324, 88.95272727272729, 'gini = 0.087\\nsamples = 22\\nvalue = [1, 0, 21, 0]'),\n",
       " Text(332.72049689440996, 88.95272727272729, 'X[3] <= 1.171\\ngini = 0.626\\nsamples = 39\\nvalue = [7, 14, 18, 0]'),\n",
       " Text(332.02732919254663, 69.18545454545455, 'gini = 0.556\\nsamples = 13\\nvalue = [7, 1, 5, 0]'),\n",
       " Text(333.4136645962733, 69.18545454545455, 'X[13] <= -0.607\\ngini = 0.5\\nsamples = 26\\nvalue = [0, 13, 13, 0]'),\n",
       " Text(332.72049689440996, 49.418181818181836, 'gini = 0.473\\nsamples = 13\\nvalue = [0, 8, 5, 0]'),\n",
       " Text(334.1068322981367, 49.418181818181836, 'gini = 0.473\\nsamples = 13\\nvalue = [0, 5, 8, 0]'),\n",
       " Text(158.97909549689442, 187.7890909090909, 'gini = 0.0\\nsamples = 9158\\nvalue = [9158, 0, 0, 0]')]"
      ]
     },
     "execution_count": 125,
     "metadata": {},
     "output_type": "execute_result"
    },
    {
     "data": {
      "image/png": "[encoded data removed]",
      "text/plain": [
       "<Figure size 432x288 with 1 Axes>"
      ]
     },
     "metadata": {
      "needs_background": "light"
     },
     "output_type": "display_data"
    }
   ],
   "source": [
    "tree.plot_tree(dtclf)"
   ]
  },
  {
   "cell_type": "code",
   "execution_count": 33,
   "metadata": {},
   "outputs": [],
   "source": [
    "#Importando biliotecas para trabalhar com o algoritmo Random Forest Classifier\n",
    "from sklearn.ensemble import RandomForestClassifier"
   ]
  },
  {
   "cell_type": "code",
   "execution_count": 34,
   "metadata": {},
   "outputs": [
    {
     "data": {
      "text/plain": [
       "RandomForestClassifier()"
      ]
     },
     "execution_count": 34,
     "metadata": {},
     "output_type": "execute_result"
    }
   ],
   "source": [
    "#Teste com o algoritmo Random Forest Classifier\n",
    "rfclf = RandomForestClassifier()\n",
    "rfclf.fit(X_trainset,Y_trainset)"
   ]
  },
  {
   "cell_type": "code",
   "execution_count": 99,
   "metadata": {},
   "outputs": [],
   "source": [
    "#Armazenamento de previões em duas variáveis: uma para os dados de treino e outra para os dados de teste\n",
    "Y_PredTE2 = fclf.predict(X_testset)\n",
    "Y_PredTR2 = fclf.predict(X_trainset)"
   ]
  },
  {
   "cell_type": "code",
   "execution_count": 100,
   "metadata": {},
   "outputs": [
    {
     "name": "stdout",
     "output_type": "stream",
     "text": [
      "Acurácia p/ dados de Teste: 0.71\n",
      "Acurácia p/ dados de Treino: 0.96\n"
     ]
    }
   ],
   "source": [
    "#Verificando a acurácia nos dados de teste e de treino\n",
    "print('Acurácia p/ dados de Teste: {:.2f}'.format(accuracy_score(Y_testset, Y_PredTE2)))\n",
    "print('Acurácia p/ dados de Treino: {:.2f}'.format(accuracy_score(Y_trainset, Y_PredTR2)))"
   ]
  },
  {
   "cell_type": "code",
   "execution_count": 101,
   "metadata": {},
   "outputs": [
    {
     "name": "stdout",
     "output_type": "stream",
     "text": [
      "Erros de classificação das amostras Teste: 7601 \n",
      "Amostras de teste \"y\": 26086\n",
      "Erros de classificação das amostras Treino: 2623 \n",
      "Amostras de treino \"y\": 60866\n"
     ]
    }
   ],
   "source": [
    "#Verificando erros de classificação nos dados de teste e de treino\n",
    "print('Erros de classificação das amostras Teste: {}'.format((Y_testset != Y_PredTE2).sum()),'\\nAmostras de teste \"y\": {}'.format(Y_testset.shape[0]))\n",
    "print('Erros de classificação das amostras Treino: {}'.format((Y_trainset != Y_PredTR2).sum()),'\\nAmostras de treino \"y\": {}'.format(Y_trainset.shape[0]))"
   ]
  },
  {
   "cell_type": "code",
   "execution_count": 102,
   "metadata": {},
   "outputs": [
    {
     "name": "stdout",
     "output_type": "stream",
     "text": [
      "Indice Jaccard p/ dados de Teste: 0.549%\n",
      "Indice Jaccard p/ dados de Treino: 0.917%\n"
     ]
    }
   ],
   "source": [
    "#Obtendo o Índice Jaccard dos dados de teste e treino\n",
    "print('Indice Jaccard p/ dados de Teste: {:.3f}%'.format(m.jaccard_score(Y_testset, Y_PredTE2, average='micro')))\n",
    "print('Indice Jaccard p/ dados de Treino: {:.3f}%'.format(m.jaccard_score(Y_trainset, Y_PredTR2, average='micro')))"
   ]
  },
  {
   "cell_type": "code",
   "execution_count": 103,
   "metadata": {},
   "outputs": [
    {
     "data": {
      "text/plain": [
       "array([0.7 , 0.71, 0.7 , 0.71, 0.7 ])"
      ]
     },
     "execution_count": 103,
     "metadata": {},
     "output_type": "execute_result"
    }
   ],
   "source": [
    "#Avaliação do modelo com cross validation\n",
    "scores = cross_val_score(fclf, X_trainset,Y_trainset, cv=5)\n",
    "scores"
   ]
  },
  {
   "cell_type": "code",
   "execution_count": 104,
   "metadata": {},
   "outputs": [
    {
     "name": "stdout",
     "output_type": "stream",
     "text": [
      "KFold: Score Médio da Acurácia = 0.7043669673169584\n"
     ]
    }
   ],
   "source": [
    "print('KFold: Score Médio da Acurácia = {}'.format(np.mean(scores)))"
   ]
  },
  {
   "cell_type": "code",
   "execution_count": 105,
   "metadata": {},
   "outputs": [],
   "source": [
    "#Encontrando os hyper parâmetros mais adequados por meio do método GridSearch\n",
    "param_dist = {\"n_estimators\": list(range(10,210,10)),\n",
    "              \"max_depth\": list(range(3,20)),\n",
    "              \"max_features\": list(range(1, 10)),\n",
    "              \"min_samples_split\": list(range(2, 11)),\n",
    "              \"bootstrap\": [True, False],\n",
    "              \"criterion\": [\"gini\", \"entropy\"]}"
   ]
  },
  {
   "cell_type": "code",
   "execution_count": 106,
   "metadata": {},
   "outputs": [
    {
     "data": {
      "text/plain": [
       "RandomizedSearchCV(estimator=RandomForestClassifier(), n_iter=50,\n",
       "                   param_distributions={'bootstrap': [True, False],\n",
       "                                        'criterion': ['gini', 'entropy'],\n",
       "                                        'max_depth': [3, 4, 5, 6, 7, 8, 9, 10,\n",
       "                                                      11, 12, 13, 14, 15, 16,\n",
       "                                                      17, 18, 19],\n",
       "                                        'max_features': [1, 2, 3, 4, 5, 6, 7, 8,\n",
       "                                                         9],\n",
       "                                        'min_samples_split': [2, 3, 4, 5, 6, 7,\n",
       "                                                              8, 9, 10],\n",
       "                                        'n_estimators': [10, 20, 30, 40, 50, 60,\n",
       "                                                         70, 80, 90, 100, 110,\n",
       "                                                         120, 130, 140, 150,\n",
       "                                                         160, 170, 180, 190,\n",
       "                                                         200]},\n",
       "                   scoring='accuracy')"
      ]
     },
     "execution_count": 106,
     "metadata": {},
     "output_type": "execute_result"
    }
   ],
   "source": [
    "n_iter_search = 50\n",
    "\n",
    "random_search = RandomizedSearchCV(rfclf, param_distributions=param_dist, scoring='accuracy',\n",
    "                                   n_iter=n_iter_search)\n",
    "random_search.fit(X_trainset,Y_trainset)"
   ]
  },
  {
   "cell_type": "code",
   "execution_count": 107,
   "metadata": {},
   "outputs": [
    {
     "name": "stdout",
     "output_type": "stream",
     "text": [
      "Melhor número de estimadores: 140\n",
      "Melhor min_samples_split: 14\n"
     ]
    }
   ],
   "source": [
    "#Identificando os melhores hiper parâmetros\n",
    "print('Melhor número de estimadores:', random_search.best_estimator_.get_params()['n_estimators'])\n",
    "print('Melhor min_samples_split:', random_search.best_estimator_.get_params()['max_depth'])"
   ]
  },
  {
   "cell_type": "code",
   "execution_count": 108,
   "metadata": {},
   "outputs": [
    {
     "data": {
      "text/plain": [
       "{'n_estimators': 140,\n",
       " 'min_samples_split': 9,\n",
       " 'max_features': 8,\n",
       " 'max_depth': 14,\n",
       " 'criterion': 'entropy',\n",
       " 'bootstrap': True}"
      ]
     },
     "execution_count": 108,
     "metadata": {},
     "output_type": "execute_result"
    }
   ],
   "source": [
    "#Relação dos hyper parâmetros usados para gerar o melhor score\n",
    "random_search.best_params_"
   ]
  },
  {
   "cell_type": "code",
   "execution_count": 109,
   "metadata": {},
   "outputs": [
    {
     "name": "stdout",
     "output_type": "stream",
     "text": [
      "Rank do modelo: 1\n",
      "Score médio de validação: 0.723 (std: 0.004)\n",
      "Modelo de hiper parâmetros: {'n_estimators': 140, 'min_samples_split': 9, 'max_features': 8, 'max_depth': 14, 'criterion': 'entropy', 'bootstrap': True}\n",
      "\n",
      "Rank do modelo: 2\n",
      "Score médio de validação: 0.723 (std: 0.003)\n",
      "Modelo de hiper parâmetros: {'n_estimators': 90, 'min_samples_split': 4, 'max_features': 9, 'max_depth': 13, 'criterion': 'gini', 'bootstrap': True}\n",
      "\n",
      "Rank do modelo: 3\n",
      "Score médio de validação: 0.722 (std: 0.004)\n",
      "Modelo de hiper parâmetros: {'n_estimators': 100, 'min_samples_split': 4, 'max_features': 6, 'max_depth': 15, 'criterion': 'gini', 'bootstrap': False}\n",
      "\n",
      "Rank do modelo: 4\n",
      "Score médio de validação: 0.722 (std: 0.003)\n",
      "Modelo de hiper parâmetros: {'n_estimators': 120, 'min_samples_split': 3, 'max_features': 8, 'max_depth': 13, 'criterion': 'entropy', 'bootstrap': False}\n",
      "\n",
      "Rank do modelo: 5\n",
      "Score médio de validação: 0.722 (std: 0.004)\n",
      "Modelo de hiper parâmetros: {'n_estimators': 50, 'min_samples_split': 4, 'max_features': 9, 'max_depth': 16, 'criterion': 'gini', 'bootstrap': True}\n",
      "\n"
     ]
    }
   ],
   "source": [
    "#Rank de modelos de acordo com a configuração de hyper parâmetros\n",
    "results = pd.DataFrame(random_search.cv_results_).sort_values('rank_test_score')\n",
    "for i, row in results.head().iterrows():\n",
    "    print(\"Rank do modelo: {}\".format(row.rank_test_score))\n",
    "    print(\"Score médio de validação: {:.3f} (std: {:.3f})\".format(row.mean_test_score, row.std_test_score))\n",
    "    print(\"Modelo de hiper parâmetros: {}\\n\".format(row.params))"
   ]
  },
  {
   "cell_type": "code",
   "execution_count": 110,
   "metadata": {},
   "outputs": [],
   "source": [
    "#Determinação de atributo (feature) de importância\n",
    "feat_imps = pd.DataFrame({'importance': fclf.feature_importances_}, index=fset.columns[:-1])\n",
    "feat_imps.sort_values(by='importance', ascending=False, inplace=True)"
   ]
  },
  {
   "cell_type": "code",
   "execution_count": 111,
   "metadata": {},
   "outputs": [
    {
     "data": {
      "image/png": "[encoded data removed]",
      "text/plain": [
       "<Figure size 720x504 with 1 Axes>"
      ]
     },
     "metadata": {
      "needs_background": "light"
     },
     "output_type": "display_data"
    }
   ],
   "source": [
    "feat_imps.plot(kind='bar', figsize=(10,7))\n",
    "\n",
    "plt.legend()\n",
    "plt.show()"
   ]
  },
  {
   "cell_type": "code",
   "execution_count": 42,
   "metadata": {},
   "outputs": [
    {
     "name": "stdout",
     "output_type": "stream",
     "text": [
      "Acurácia p/ dados de Teste: 0.72\n",
      "Acurácia p/ dados de Treino: 0.75\n",
      "Erros de classificação das amostras Teste: 7283 \n",
      "Amostras de teste \"y\": 26086\n",
      "Erros de classificação das amostras Treino: 15029 \n",
      "Amostras de treino \"y\": 60866\n",
      "Indice Jaccard p/ dados de Teste: 0.563%\n",
      "Indice Jaccard p/ dados de Treino: 0.604%\n"
     ]
    }
   ],
   "source": [
    "#Teste com o algoritmo RandomForest e os hyper parâmetros mais adequados\n",
    "rfclf = RandomForestClassifier(n_estimators=140, min_samples_split=9, max_features=9, max_depth=13, criterion='gini', bootstrap=True)\n",
    "rfclf.fit(X_trainset,Y_trainset)\n",
    "Y_PredTE2 = rfclf.predict(X_testset)\n",
    "Y_PredTR2 = rfclf.predict(X_trainset)\n",
    "print('Acurácia p/ dados de Teste: {:.2f}'.format(accuracy_score(Y_testset, Y_PredTE2)))\n",
    "print('Acurácia p/ dados de Treino: {:.2f}'.format(accuracy_score(Y_trainset, Y_PredTR2)))\n",
    "print('Erros de classificação das amostras Teste: {}'.format((Y_testset != Y_PredTE2).sum()),'\\nAmostras de teste \"y\": {}'.format(Y_testset.shape[0]))\n",
    "print('Erros de classificação das amostras Treino: {}'.format((Y_trainset != Y_PredTR2).sum()),'\\nAmostras de treino \"y\": {}'.format(Y_trainset.shape[0]))\n",
    "print('Indice Jaccard p/ dados de Teste: {:.3f}%'.format(m.jaccard_score(Y_testset, Y_PredTE2, average='micro')))\n",
    "print('Indice Jaccard p/ dados de Treino: {:.3f}%'.format(m.jaccard_score(Y_trainset, Y_PredTR2, average='micro')))"
   ]
  },
  {
   "cell_type": "code",
   "execution_count": 43,
   "metadata": {},
   "outputs": [],
   "source": [
    "#Cálculo da matriz de confusão\n",
    "cnf_matrix_rf = m.confusion_matrix(Y_testset, Y_PredTE2, labels = fset.estado_fisico.unique())\n",
    "np.set_printoptions(precision=2)"
   ]
  },
  {
   "cell_type": "code",
   "execution_count": 44,
   "metadata": {},
   "outputs": [
    {
     "name": "stdout",
     "output_type": "stream",
     "text": [
      "               precision    recall  f1-score   support\n",
      "\n",
      "        Ileso       0.83      0.78      0.80     11379\n",
      "Lesões Graves       0.47      0.10      0.16      3055\n",
      " Lesões Leves       0.66      0.84      0.74     10766\n",
      "        Óbito       0.61      0.73      0.66       886\n",
      "\n",
      "     accuracy                           0.72     26086\n",
      "    macro avg       0.64      0.61      0.59     26086\n",
      " weighted avg       0.71      0.72      0.69     26086\n",
      "\n",
      "Matriz de confusão sem normalização\n",
      "[[9016 1419  184  147]\n",
      " [2390 8851   31  107]\n",
      " [2251  352  291  161]\n",
      " [  51   76  114  645]]\n"
     ]
    },
    {
     "data": {
      "image/png": "[encoded data removed]",
      "text/plain": [
       "<Figure size 432x288 with 2 Axes>"
      ]
     },
     "metadata": {
      "needs_background": "light"
     },
     "output_type": "display_data"
    }
   ],
   "source": [
    "print (m.classification_report(Y_testset, Y_PredTE2))\n",
    "\n",
    "# Gráfico da matriz de confusão sem normalização\n",
    "plt.figure()\n",
    "plot_confusion_matrix(cnf_matrix_rf, classes= fset.estado_fisico.unique(), normalize= False,  title='Matriz de Confusão')"
   ]
  },
  {
   "cell_type": "code",
   "execution_count": 45,
   "metadata": {},
   "outputs": [
    {
     "data": {
      "text/html": [
       "<div>\n",
       "<style scoped>\n",
       "    .dataframe tbody tr th:only-of-type {\n",
       "        vertical-align: middle;\n",
       "    }\n",
       "\n",
       "    .dataframe tbody tr th {\n",
       "        vertical-align: top;\n",
       "    }\n",
       "\n",
       "    .dataframe thead th {\n",
       "        text-align: right;\n",
       "    }\n",
       "</style>\n",
       "<table border=\"1\" class=\"dataframe\">\n",
       "  <thead>\n",
       "    <tr style=\"text-align: right;\">\n",
       "      <th></th>\n",
       "      <th>dia_semana</th>\n",
       "      <th>br</th>\n",
       "      <th>km</th>\n",
       "      <th>causa_acidente</th>\n",
       "      <th>tipo_acidente</th>\n",
       "      <th>classificacao_acidente</th>\n",
       "      <th>fase_dia</th>\n",
       "      <th>condicao_metereologica</th>\n",
       "      <th>tipo_pista</th>\n",
       "      <th>tracado_via</th>\n",
       "      <th>uso_solo</th>\n",
       "      <th>tipo_veiculo</th>\n",
       "      <th>tipo_envolvido</th>\n",
       "      <th>estado_fisico</th>\n",
       "      <th>sexo</th>\n",
       "      <th>elemento_transito</th>\n",
       "    </tr>\n",
       "  </thead>\n",
       "  <tbody>\n",
       "    <tr>\n",
       "      <th>0</th>\n",
       "      <td>domingo</td>\n",
       "      <td>381</td>\n",
       "      <td>605.0</td>\n",
       "      <td>Condutor Dormindo</td>\n",
       "      <td>Saída de leito carroçável</td>\n",
       "      <td>Com Vítimas Feridas</td>\n",
       "      <td>Amanhecer</td>\n",
       "      <td>Céu Claro</td>\n",
       "      <td>Dupla</td>\n",
       "      <td>Reta</td>\n",
       "      <td>Rural</td>\n",
       "      <td>Automóvel</td>\n",
       "      <td>Condutor</td>\n",
       "      <td>Lesões Leves</td>\n",
       "      <td>Masculino</td>\n",
       "      <td>Homem</td>\n",
       "    </tr>\n",
       "    <tr>\n",
       "      <th>1</th>\n",
       "      <td>domingo</td>\n",
       "      <td>381</td>\n",
       "      <td>605.0</td>\n",
       "      <td>Condutor Dormindo</td>\n",
       "      <td>Saída de leito carroçável</td>\n",
       "      <td>Com Vítimas Feridas</td>\n",
       "      <td>Amanhecer</td>\n",
       "      <td>Céu Claro</td>\n",
       "      <td>Dupla</td>\n",
       "      <td>Reta</td>\n",
       "      <td>Rural</td>\n",
       "      <td>Automóvel</td>\n",
       "      <td>Passageiro</td>\n",
       "      <td>Lesões Leves</td>\n",
       "      <td>Masculino</td>\n",
       "      <td>Homem</td>\n",
       "    </tr>\n",
       "    <tr>\n",
       "      <th>2</th>\n",
       "      <td>domingo</td>\n",
       "      <td>262</td>\n",
       "      <td>368.0</td>\n",
       "      <td>Velocidade Incompatível</td>\n",
       "      <td>Colisão com objeto estático</td>\n",
       "      <td>Com Vítimas Feridas</td>\n",
       "      <td>Plena Noite</td>\n",
       "      <td>Céu Claro</td>\n",
       "      <td>Simples</td>\n",
       "      <td>Viaduto</td>\n",
       "      <td>Urbano</td>\n",
       "      <td>Automóvel</td>\n",
       "      <td>Passageiro</td>\n",
       "      <td>Lesões Leves</td>\n",
       "      <td>Masculino</td>\n",
       "      <td>Homem</td>\n",
       "    </tr>\n",
       "    <tr>\n",
       "      <th>3</th>\n",
       "      <td>domingo</td>\n",
       "      <td>262</td>\n",
       "      <td>368.0</td>\n",
       "      <td>Velocidade Incompatível</td>\n",
       "      <td>Colisão com objeto estático</td>\n",
       "      <td>Com Vítimas Feridas</td>\n",
       "      <td>Plena Noite</td>\n",
       "      <td>Céu Claro</td>\n",
       "      <td>Simples</td>\n",
       "      <td>Viaduto</td>\n",
       "      <td>Urbano</td>\n",
       "      <td>Automóvel</td>\n",
       "      <td>Passageiro</td>\n",
       "      <td>Lesões Leves</td>\n",
       "      <td>Feminino</td>\n",
       "      <td>Homem</td>\n",
       "    </tr>\n",
       "    <tr>\n",
       "      <th>4</th>\n",
       "      <td>domingo</td>\n",
       "      <td>262</td>\n",
       "      <td>368.0</td>\n",
       "      <td>Velocidade Incompatível</td>\n",
       "      <td>Colisão com objeto estático</td>\n",
       "      <td>Com Vítimas Feridas</td>\n",
       "      <td>Plena Noite</td>\n",
       "      <td>Céu Claro</td>\n",
       "      <td>Simples</td>\n",
       "      <td>Viaduto</td>\n",
       "      <td>Urbano</td>\n",
       "      <td>Automóvel</td>\n",
       "      <td>Condutor</td>\n",
       "      <td>Lesões Leves</td>\n",
       "      <td>Masculino</td>\n",
       "      <td>Homem</td>\n",
       "    </tr>\n",
       "  </tbody>\n",
       "</table>\n",
       "</div>"
      ],
      "text/plain": [
       "  dia_semana   br     km           causa_acidente                tipo_acidente classificacao_acidente     fase_dia condicao_metereologica tipo_pista tracado_via uso_solo tipo_veiculo tipo_envolvido estado_fisico       sexo elemento_transito\n",
       "0    domingo  381  605.0        Condutor Dormindo    Saída de leito carroçável    Com Vítimas Feridas    Amanhecer              Céu Claro      Dupla        Reta    Rural    Automóvel       Condutor  Lesões Leves  Masculino             Homem\n",
       "1    domingo  381  605.0        Condutor Dormindo    Saída de leito carroçável    Com Vítimas Feridas    Amanhecer              Céu Claro      Dupla        Reta    Rural    Automóvel     Passageiro  Lesões Leves  Masculino             Homem\n",
       "2    domingo  262  368.0  Velocidade Incompatível  Colisão com objeto estático    Com Vítimas Feridas  Plena Noite              Céu Claro    Simples     Viaduto   Urbano    Automóvel     Passageiro  Lesões Leves  Masculino             Homem\n",
       "3    domingo  262  368.0  Velocidade Incompatível  Colisão com objeto estático    Com Vítimas Feridas  Plena Noite              Céu Claro    Simples     Viaduto   Urbano    Automóvel     Passageiro  Lesões Leves   Feminino             Homem\n",
       "4    domingo  262  368.0  Velocidade Incompatível  Colisão com objeto estático    Com Vítimas Feridas  Plena Noite              Céu Claro    Simples     Viaduto   Urbano    Automóvel       Condutor  Lesões Leves  Masculino             Homem"
      ]
     },
     "execution_count": 45,
     "metadata": {},
     "output_type": "execute_result"
    }
   ],
   "source": [
    "#Montagem de um novo dataset para implementar o modelo escolhido de ML, o do RandomForest\n",
    "acidentes_mg.reset_index(inplace = True)\n",
    "fset2 = acidentes_mg[['dia_semana','br','km','causa_acidente','tipo_acidente','classificacao_acidente','fase_dia', 'condicao_metereologica', 'tipo_pista','tracado_via','uso_solo', 'tipo_veiculo', 'tipo_envolvido', 'estado_fisico', 'sexo', 'elemento_transito']].copy()\n",
    "fset2.head()"
   ]
  },
  {
   "cell_type": "code",
   "execution_count": 46,
   "metadata": {},
   "outputs": [],
   "source": [
    "#Juntando os indices dos registros de 'estado_fisico' = 'Não Informado' na variável f1\n",
    "f1 = fset2.loc[fset2['estado_fisico'] == 'Não Informado'].index"
   ]
  },
  {
   "cell_type": "code",
   "execution_count": 47,
   "metadata": {},
   "outputs": [
    {
     "data": {
      "text/plain": [
       "Int64Index([   22,    45,    62,   102,   163,   164,   165,   180,   242,   243,\n",
       "            ...\n",
       "            91643, 91644, 91654, 91655, 91701, 91702, 91711, 91729, 91775, 91784], dtype='int64', length=4837)"
      ]
     },
     "execution_count": 47,
     "metadata": {},
     "output_type": "execute_result"
    }
   ],
   "source": [
    "#Verificando a variável f1\n",
    "f1"
   ]
  },
  {
   "cell_type": "code",
   "execution_count": 48,
   "metadata": {},
   "outputs": [],
   "source": [
    "#Tratamento dos registros que o estado_fisico está como Não Informado - retirando a coluna alvo (target)\n",
    "fset2.drop(labels= 'estado_fisico', axis= 1, inplace= True)"
   ]
  },
  {
   "cell_type": "code",
   "execution_count": 49,
   "metadata": {},
   "outputs": [
    {
     "data": {
      "text/plain": [
       "Index(['dia_semana', 'br', 'km', 'causa_acidente', 'tipo_acidente', 'classificacao_acidente', 'fase_dia', 'condicao_metereologica', 'tipo_pista', 'tracado_via', 'uso_solo', 'tipo_veiculo', 'tipo_envolvido', 'sexo', 'elemento_transito'], dtype='object')"
      ]
     },
     "execution_count": 49,
     "metadata": {},
     "output_type": "execute_result"
    }
   ],
   "source": [
    "#Verificando as colunas de fset2\n",
    "fset2.columns"
   ]
  },
  {
   "cell_type": "code",
   "execution_count": 51,
   "metadata": {},
   "outputs": [
    {
     "data": {
      "text/plain": [
       "array([['domingo', 381, 605.0, ..., 'Condutor', 'Masculino', 'Homem'],\n",
       "       ['domingo', 381, 605.0, ..., 'Passageiro', 'Masculino', 'Homem'],\n",
       "       ['domingo', 262, 368.0, ..., 'Passageiro', 'Masculino', 'Homem'],\n",
       "       ...,\n",
       "       ['sexta-feira', 116, 648.0, ..., 'Condutor', 'Feminino', 'Homem'],\n",
       "       ['sexta-feira', 116, 648.0, ..., 'Condutor', 'Masculino', 'Homem'],\n",
       "       ['sábado', 153, 7.0, ..., 'Condutor', 'Masculino', 'Via']],\n",
       "      dtype=object)"
      ]
     },
     "execution_count": 51,
     "metadata": {},
     "output_type": "execute_result"
    }
   ],
   "source": [
    "#Verificando os valores de fset2\n",
    "fset2.values"
   ]
  },
  {
   "cell_type": "code",
   "execution_count": 52,
   "metadata": {},
   "outputs": [],
   "source": [
    "#Transformando os valores de X2 em numéricos e normalizando os dados (X2std)\n",
    "X2 = fset2.values\n",
    "X2[:,0] = LE_Dia_Semana.transform(X2[:,0])\n",
    "X2[:,3] = LE_Causa.transform(X2[:,3])\n",
    "X2[:,4] = LE_Tipo_Acidente.transform(X2[:,4])\n",
    "X2[:,5] = LE_Class_acidente.transform(X2[:,5])\n",
    "X2[:,6] = LE_Fase_Dia.transform(X2[:,6])\n",
    "X2[:,7] = LE_Condicao_Met.transform(X2[:,7])\n",
    "X2[:,8] = LE_Tipo_Pista.transform(X2[:,8])\n",
    "X2[:,9] = LE_Tracado_Via.transform(X2[:,9])\n",
    "X2[:,10] = LE_Uso_Solo.transform(X2[:,10])\n",
    "X2[:,11] = LE_Tipo_Veiculo.transform(X2[:,11])\n",
    "X2[:,12] = LE_Tipo_Envolvido.transform(X2[:,12])\n",
    "X2[:,13] = LE_Sexo.transform(X2[:,13])\n",
    "X2[:,14] = LE_Elemento_Transito.transform(X2[:,14])\n",
    "X2std = std.transform(X2)"
   ]
  },
  {
   "cell_type": "code",
   "execution_count": 53,
   "metadata": {},
   "outputs": [],
   "source": [
    "#O novo dataset (fset2) recebe uma nova coluna 'estado_fisico' apenas com as previsões do modelo escolhido de ML, o do RandomForest\n",
    "fset2['estado_fisico'] = rfclf.predict(X2std)"
   ]
  },
  {
   "cell_type": "code",
   "execution_count": 54,
   "metadata": {},
   "outputs": [
    {
     "data": {
      "text/plain": [
       "Index(['dia_semana', 'br', 'km', 'causa_acidente', 'tipo_acidente', 'classificacao_acidente', 'fase_dia', 'condicao_metereologica', 'tipo_pista', 'tracado_via', 'uso_solo', 'tipo_veiculo', 'tipo_envolvido', 'sexo', 'elemento_transito', 'estado_fisico'], dtype='object')"
      ]
     },
     "execution_count": 54,
     "metadata": {},
     "output_type": "execute_result"
    }
   ],
   "source": [
    "#Verificando as colunas fset2 com a inclusão de 'estado_fisico'\n",
    "fset2.columns"
   ]
  },
  {
   "cell_type": "code",
   "execution_count": 55,
   "metadata": {},
   "outputs": [
    {
     "data": {
      "text/plain": [
       "array([['domingo', 381, 605.0, ..., 'Masculino', 'Homem', 'Lesões Leves'],\n",
       "       ['domingo', 381, 605.0, ..., 'Masculino', 'Homem', 'Lesões Leves'],\n",
       "       ['domingo', 262, 368.0, ..., 'Masculino', 'Homem', 'Lesões Leves'],\n",
       "       ...,\n",
       "       ['sexta-feira', 116, 648.0, ..., 'Feminino', 'Homem',\n",
       "        'Lesões Leves'],\n",
       "       ['sexta-feira', 116, 648.0, ..., 'Masculino', 'Homem', 'Ileso'],\n",
       "       ['sábado', 153, 7.0, ..., 'Masculino', 'Via', 'Ileso']],\n",
       "      dtype=object)"
      ]
     },
     "execution_count": 55,
     "metadata": {},
     "output_type": "execute_result"
    }
   ],
   "source": [
    "#Verificando os valores de fset2 com a inclusão de 'estado_fisico'\n",
    "fset2.values"
   ]
  },
  {
   "cell_type": "code",
   "execution_count": 56,
   "metadata": {},
   "outputs": [
    {
     "data": {
      "text/plain": [
       "Index(['index', 'id', 'pesid', 'data_inversa', 'dia_semana', 'horario', 'uf', 'br', 'km', 'municipio', 'causa_acidente', 'tipo_acidente', 'classificacao_acidente', 'fase_dia', 'condicao_metereologica', 'tipo_pista', 'tracado_via', 'uso_solo', 'tipo_veiculo', 'tipo_envolvido', 'estado_fisico', 'sexo', 'ilesos', 'feridos_leves', 'feridos_graves', 'mortos', 'latitude', 'longitude', 'elemento_transito'], dtype='object')"
      ]
     },
     "execution_count": 56,
     "metadata": {},
     "output_type": "execute_result"
    }
   ],
   "source": [
    "#Verificando as colunas de acidentes_mg\n",
    "acidentes_mg.columns"
   ]
  },
  {
   "cell_type": "code",
   "execution_count": 58,
   "metadata": {},
   "outputs": [
    {
     "data": {
      "text/plain": [
       "0    Lesões Leves\n",
       "1    Lesões Leves\n",
       "2    Lesões Leves\n",
       "3    Lesões Leves\n",
       "4    Lesões Leves\n",
       "5           Ileso\n",
       "6    Lesões Leves\n",
       "7           Ileso\n",
       "8           Ileso\n",
       "9    Lesões Leves\n",
       "Name: estado_fisico, dtype: object"
      ]
     },
     "execution_count": 58,
     "metadata": {},
     "output_type": "execute_result"
    }
   ],
   "source": [
    "acidentes_mg.iloc[:10,20]"
   ]
  },
  {
   "cell_type": "code",
   "execution_count": 59,
   "metadata": {},
   "outputs": [
    {
     "data": {
      "text/plain": [
       "0    Lesões Leves\n",
       "1    Lesões Leves\n",
       "2    Lesões Leves\n",
       "3    Lesões Leves\n",
       "4    Lesões Leves\n",
       "5           Ileso\n",
       "6    Lesões Leves\n",
       "7    Lesões Leves\n",
       "8    Lesões Leves\n",
       "9    Lesões Leves\n",
       "Name: estado_fisico, dtype: object"
      ]
     },
     "execution_count": 59,
     "metadata": {},
     "output_type": "execute_result"
    }
   ],
   "source": [
    "fset2.iloc[:10,15]"
   ]
  },
  {
   "cell_type": "code",
   "execution_count": 60,
   "metadata": {},
   "outputs": [],
   "source": [
    "#Atualização das informações em um novo \"dataset\" acidentes_mg - parte 1\n",
    "with pd.option_context('max_column',45): #Usado na construção do loop para ver cada registro\n",
    "    for i in f1:\n",
    "        acidentes_mg.iloc[i,20] = fset2.iloc[i,15]"
   ]
  },
  {
   "cell_type": "code",
   "execution_count": 61,
   "metadata": {},
   "outputs": [],
   "source": [
    "#Atualização das informações em um novo \"dataset\" acidentes_mg - parte 2\n",
    "for i in f1:\n",
    "    acidentes_mg.at[i,'estado_fisico'] = fset2.at[i,'estado_fisico']"
   ]
  },
  {
   "cell_type": "code",
   "execution_count": 63,
   "metadata": {},
   "outputs": [],
   "source": [
    "#Salvando as modificações feitas do novo \"dataset\" acidentes_mg\n",
    "acidentes_mg.to_csv(r\"C:\\Users\\lilia\\Downloads\\TCC PUC\\csv\\acidentes_mg4.csv\", index = False, header = True, sep=';', decimal=',', encoding = 'cp1252')"
   ]
  },
  {
   "cell_type": "code",
   "execution_count": 68,
   "metadata": {},
   "outputs": [],
   "source": [
    "#Verificação e ajuste dos dados em acidentes com as predições\n",
    "acidentes_mg = pd.read_csv(r\"C:\\Users\\lilia\\Downloads\\TCC PUC\\csv\\acidentes_mg4.csv\", sep=';', decimal=',', encoding = 'cp1252', parse_dates = ['data_inversa'])\n",
    "acidentes_mg.drop(labels=['index'],axis= 1, inplace= True)"
   ]
  },
  {
   "cell_type": "code",
   "execution_count": 69,
   "metadata": {},
   "outputs": [
    {
     "name": "stdout",
     "output_type": "stream",
     "text": [
      "<class 'pandas.core.frame.DataFrame'>\n",
      "RangeIndex: 91789 entries, 0 to 91788\n",
      "Data columns (total 28 columns):\n",
      " #   Column                  Non-Null Count  Dtype         \n",
      "---  ------                  --------------  -----         \n",
      " 0   id                      91789 non-null  int64         \n",
      " 1   pesid                   91789 non-null  int64         \n",
      " 2   data_inversa            91789 non-null  datetime64[ns]\n",
      " 3   dia_semana              91789 non-null  object        \n",
      " 4   horario                 91789 non-null  object        \n",
      " 5   uf                      91789 non-null  object        \n",
      " 6   br                      91789 non-null  int64         \n",
      " 7   km                      91789 non-null  float64       \n",
      " 8   municipio               91789 non-null  object        \n",
      " 9   causa_acidente          91789 non-null  object        \n",
      " 10  tipo_acidente           91789 non-null  object        \n",
      " 11  classificacao_acidente  91789 non-null  object        \n",
      " 12  fase_dia                91789 non-null  object        \n",
      " 13  condicao_metereologica  91789 non-null  object        \n",
      " 14  tipo_pista              91789 non-null  object        \n",
      " 15  tracado_via             91789 non-null  object        \n",
      " 16  uso_solo                91789 non-null  object        \n",
      " 17  tipo_veiculo            91789 non-null  object        \n",
      " 18  tipo_envolvido          91789 non-null  object        \n",
      " 19  estado_fisico           91789 non-null  object        \n",
      " 20  sexo                    91789 non-null  object        \n",
      " 21  ilesos                  91789 non-null  int64         \n",
      " 22  feridos_leves           91789 non-null  int64         \n",
      " 23  feridos_graves          91789 non-null  int64         \n",
      " 24  mortos                  91789 non-null  int64         \n",
      " 25  latitude                91789 non-null  float64       \n",
      " 26  longitude               91789 non-null  float64       \n",
      " 27  elemento_transito       91789 non-null  object        \n",
      "dtypes: datetime64[ns](1), float64(3), int64(7), object(17)\n",
      "memory usage: 19.6+ MB\n"
     ]
    }
   ],
   "source": [
    "#Verificando o dataset modificado de acidentes\n",
    "acidentes_mg.info()"
   ]
  },
  {
   "cell_type": "code",
   "execution_count": 71,
   "metadata": {},
   "outputs": [
    {
     "data": {
      "text/plain": [
       "Int64Index([   22,    45,    62,   102,   163,   164,   165,   180,   242,   243,\n",
       "            ...\n",
       "            91643, 91644, 91654, 91655, 91701, 91702, 91711, 91729, 91775, 91784], dtype='int64', length=4837)"
      ]
     },
     "execution_count": 71,
     "metadata": {},
     "output_type": "execute_result"
    }
   ],
   "source": [
    "#Verificando a f1 para que seja comparada com acidentes_mg\n",
    "f1"
   ]
  },
  {
   "cell_type": "code",
   "execution_count": 73,
   "metadata": {},
   "outputs": [
    {
     "data": {
      "text/html": [
       "<div>\n",
       "<style scoped>\n",
       "    .dataframe tbody tr th:only-of-type {\n",
       "        vertical-align: middle;\n",
       "    }\n",
       "\n",
       "    .dataframe tbody tr th {\n",
       "        vertical-align: top;\n",
       "    }\n",
       "\n",
       "    .dataframe thead th {\n",
       "        text-align: right;\n",
       "    }\n",
       "</style>\n",
       "<table border=\"1\" class=\"dataframe\">\n",
       "  <thead>\n",
       "    <tr style=\"text-align: right;\">\n",
       "      <th></th>\n",
       "      <th>id</th>\n",
       "      <th>pesid</th>\n",
       "      <th>data_inversa</th>\n",
       "      <th>dia_semana</th>\n",
       "      <th>horario</th>\n",
       "      <th>uf</th>\n",
       "      <th>br</th>\n",
       "      <th>km</th>\n",
       "      <th>municipio</th>\n",
       "      <th>causa_acidente</th>\n",
       "      <th>tipo_acidente</th>\n",
       "      <th>classificacao_acidente</th>\n",
       "      <th>fase_dia</th>\n",
       "      <th>condicao_metereologica</th>\n",
       "      <th>tipo_pista</th>\n",
       "      <th>tracado_via</th>\n",
       "      <th>uso_solo</th>\n",
       "      <th>tipo_veiculo</th>\n",
       "      <th>tipo_envolvido</th>\n",
       "      <th>estado_fisico</th>\n",
       "      <th>sexo</th>\n",
       "      <th>ilesos</th>\n",
       "      <th>feridos_leves</th>\n",
       "      <th>feridos_graves</th>\n",
       "      <th>mortos</th>\n",
       "      <th>latitude</th>\n",
       "      <th>longitude</th>\n",
       "      <th>elemento_transito</th>\n",
       "    </tr>\n",
       "  </thead>\n",
       "  <tbody>\n",
       "    <tr>\n",
       "      <th>0</th>\n",
       "      <td>47</td>\n",
       "      <td>44</td>\n",
       "      <td>2017-01-01</td>\n",
       "      <td>domingo</td>\n",
       "      <td>04:50:00</td>\n",
       "      <td>MG</td>\n",
       "      <td>381</td>\n",
       "      <td>605.0</td>\n",
       "      <td>OLIVEIRA</td>\n",
       "      <td>Condutor Dormindo</td>\n",
       "      <td>Saída de leito carroçável</td>\n",
       "      <td>Com Vítimas Feridas</td>\n",
       "      <td>Amanhecer</td>\n",
       "      <td>Céu Claro</td>\n",
       "      <td>Dupla</td>\n",
       "      <td>Reta</td>\n",
       "      <td>Rural</td>\n",
       "      <td>Automóvel</td>\n",
       "      <td>Condutor</td>\n",
       "      <td>Lesões Leves</td>\n",
       "      <td>Masculino</td>\n",
       "      <td>0</td>\n",
       "      <td>1</td>\n",
       "      <td>0</td>\n",
       "      <td>0</td>\n",
       "      <td>-20.6370</td>\n",
       "      <td>-44.7357</td>\n",
       "      <td>Homem</td>\n",
       "    </tr>\n",
       "    <tr>\n",
       "      <th>1</th>\n",
       "      <td>47</td>\n",
       "      <td>45</td>\n",
       "      <td>2017-01-01</td>\n",
       "      <td>domingo</td>\n",
       "      <td>04:50:00</td>\n",
       "      <td>MG</td>\n",
       "      <td>381</td>\n",
       "      <td>605.0</td>\n",
       "      <td>OLIVEIRA</td>\n",
       "      <td>Condutor Dormindo</td>\n",
       "      <td>Saída de leito carroçável</td>\n",
       "      <td>Com Vítimas Feridas</td>\n",
       "      <td>Amanhecer</td>\n",
       "      <td>Céu Claro</td>\n",
       "      <td>Dupla</td>\n",
       "      <td>Reta</td>\n",
       "      <td>Rural</td>\n",
       "      <td>Automóvel</td>\n",
       "      <td>Passageiro</td>\n",
       "      <td>Lesões Leves</td>\n",
       "      <td>Masculino</td>\n",
       "      <td>0</td>\n",
       "      <td>1</td>\n",
       "      <td>0</td>\n",
       "      <td>0</td>\n",
       "      <td>-20.6370</td>\n",
       "      <td>-44.7357</td>\n",
       "      <td>Homem</td>\n",
       "    </tr>\n",
       "    <tr>\n",
       "      <th>2</th>\n",
       "      <td>52</td>\n",
       "      <td>1528</td>\n",
       "      <td>2017-01-01</td>\n",
       "      <td>domingo</td>\n",
       "      <td>05:00:00</td>\n",
       "      <td>MG</td>\n",
       "      <td>262</td>\n",
       "      <td>368.0</td>\n",
       "      <td>JUATUBA</td>\n",
       "      <td>Velocidade Incompatível</td>\n",
       "      <td>Colisão com objeto estático</td>\n",
       "      <td>Com Vítimas Feridas</td>\n",
       "      <td>Plena Noite</td>\n",
       "      <td>Céu Claro</td>\n",
       "      <td>Simples</td>\n",
       "      <td>Viaduto</td>\n",
       "      <td>Urbano</td>\n",
       "      <td>Automóvel</td>\n",
       "      <td>Passageiro</td>\n",
       "      <td>Lesões Leves</td>\n",
       "      <td>Masculino</td>\n",
       "      <td>0</td>\n",
       "      <td>1</td>\n",
       "      <td>0</td>\n",
       "      <td>0</td>\n",
       "      <td>-19.9566</td>\n",
       "      <td>-44.3444</td>\n",
       "      <td>Homem</td>\n",
       "    </tr>\n",
       "    <tr>\n",
       "      <th>3</th>\n",
       "      <td>52</td>\n",
       "      <td>1526</td>\n",
       "      <td>2017-01-01</td>\n",
       "      <td>domingo</td>\n",
       "      <td>05:00:00</td>\n",
       "      <td>MG</td>\n",
       "      <td>262</td>\n",
       "      <td>368.0</td>\n",
       "      <td>JUATUBA</td>\n",
       "      <td>Velocidade Incompatível</td>\n",
       "      <td>Colisão com objeto estático</td>\n",
       "      <td>Com Vítimas Feridas</td>\n",
       "      <td>Plena Noite</td>\n",
       "      <td>Céu Claro</td>\n",
       "      <td>Simples</td>\n",
       "      <td>Viaduto</td>\n",
       "      <td>Urbano</td>\n",
       "      <td>Automóvel</td>\n",
       "      <td>Passageiro</td>\n",
       "      <td>Lesões Leves</td>\n",
       "      <td>Feminino</td>\n",
       "      <td>0</td>\n",
       "      <td>1</td>\n",
       "      <td>0</td>\n",
       "      <td>0</td>\n",
       "      <td>-19.9566</td>\n",
       "      <td>-44.3444</td>\n",
       "      <td>Homem</td>\n",
       "    </tr>\n",
       "    <tr>\n",
       "      <th>4</th>\n",
       "      <td>52</td>\n",
       "      <td>1519</td>\n",
       "      <td>2017-01-01</td>\n",
       "      <td>domingo</td>\n",
       "      <td>05:00:00</td>\n",
       "      <td>MG</td>\n",
       "      <td>262</td>\n",
       "      <td>368.0</td>\n",
       "      <td>JUATUBA</td>\n",
       "      <td>Velocidade Incompatível</td>\n",
       "      <td>Colisão com objeto estático</td>\n",
       "      <td>Com Vítimas Feridas</td>\n",
       "      <td>Plena Noite</td>\n",
       "      <td>Céu Claro</td>\n",
       "      <td>Simples</td>\n",
       "      <td>Viaduto</td>\n",
       "      <td>Urbano</td>\n",
       "      <td>Automóvel</td>\n",
       "      <td>Condutor</td>\n",
       "      <td>Lesões Leves</td>\n",
       "      <td>Masculino</td>\n",
       "      <td>0</td>\n",
       "      <td>1</td>\n",
       "      <td>0</td>\n",
       "      <td>0</td>\n",
       "      <td>-19.9566</td>\n",
       "      <td>-44.3444</td>\n",
       "      <td>Homem</td>\n",
       "    </tr>\n",
       "    <tr>\n",
       "      <th>5</th>\n",
       "      <td>53</td>\n",
       "      <td>49</td>\n",
       "      <td>2017-01-01</td>\n",
       "      <td>domingo</td>\n",
       "      <td>05:00:00</td>\n",
       "      <td>MG</td>\n",
       "      <td>459</td>\n",
       "      <td>14.0</td>\n",
       "      <td>CALDAS</td>\n",
       "      <td>Falta de Atenção à Condução</td>\n",
       "      <td>Saída de leito carroçável</td>\n",
       "      <td>Sem Vítimas</td>\n",
       "      <td>Amanhecer</td>\n",
       "      <td>Céu Claro</td>\n",
       "      <td>Simples</td>\n",
       "      <td>Curva</td>\n",
       "      <td>Rural</td>\n",
       "      <td>Automóvel</td>\n",
       "      <td>Condutor</td>\n",
       "      <td>Ileso</td>\n",
       "      <td>Feminino</td>\n",
       "      <td>1</td>\n",
       "      <td>0</td>\n",
       "      <td>0</td>\n",
       "      <td>0</td>\n",
       "      <td>-21.8459</td>\n",
       "      <td>-46.4388</td>\n",
       "      <td>Homem</td>\n",
       "    </tr>\n",
       "    <tr>\n",
       "      <th>6</th>\n",
       "      <td>61</td>\n",
       "      <td>38</td>\n",
       "      <td>2017-01-01</td>\n",
       "      <td>domingo</td>\n",
       "      <td>05:00:00</td>\n",
       "      <td>MG</td>\n",
       "      <td>262</td>\n",
       "      <td>186.0</td>\n",
       "      <td>SAO DOMINGOS DO PRATA</td>\n",
       "      <td>Condutor Dormindo</td>\n",
       "      <td>Saída de leito carroçável</td>\n",
       "      <td>Com Vítimas Feridas</td>\n",
       "      <td>Plena Noite</td>\n",
       "      <td>Céu Claro</td>\n",
       "      <td>Simples</td>\n",
       "      <td>Curva</td>\n",
       "      <td>Rural</td>\n",
       "      <td>Automóvel</td>\n",
       "      <td>Condutor</td>\n",
       "      <td>Lesões Leves</td>\n",
       "      <td>Masculino</td>\n",
       "      <td>0</td>\n",
       "      <td>1</td>\n",
       "      <td>0</td>\n",
       "      <td>0</td>\n",
       "      <td>-19.8942</td>\n",
       "      <td>-43.0403</td>\n",
       "      <td>Homem</td>\n",
       "    </tr>\n",
       "    <tr>\n",
       "      <th>7</th>\n",
       "      <td>63</td>\n",
       "      <td>1608</td>\n",
       "      <td>2017-01-01</td>\n",
       "      <td>domingo</td>\n",
       "      <td>06:00:00</td>\n",
       "      <td>MG</td>\n",
       "      <td>135</td>\n",
       "      <td>408.0</td>\n",
       "      <td>BOCAIUVA</td>\n",
       "      <td>Animais na Pista</td>\n",
       "      <td>Atropelamento de Animal</td>\n",
       "      <td>Com Vítimas Feridas</td>\n",
       "      <td>Amanhecer</td>\n",
       "      <td>Céu Claro</td>\n",
       "      <td>Simples</td>\n",
       "      <td>Reta</td>\n",
       "      <td>Rural</td>\n",
       "      <td>Automóvel</td>\n",
       "      <td>Passageiro</td>\n",
       "      <td>Ileso</td>\n",
       "      <td>Masculino</td>\n",
       "      <td>1</td>\n",
       "      <td>0</td>\n",
       "      <td>0</td>\n",
       "      <td>0</td>\n",
       "      <td>-16.9614</td>\n",
       "      <td>-43.8590</td>\n",
       "      <td>Via</td>\n",
       "    </tr>\n",
       "    <tr>\n",
       "      <th>8</th>\n",
       "      <td>63</td>\n",
       "      <td>1606</td>\n",
       "      <td>2017-01-01</td>\n",
       "      <td>domingo</td>\n",
       "      <td>06:00:00</td>\n",
       "      <td>MG</td>\n",
       "      <td>135</td>\n",
       "      <td>408.0</td>\n",
       "      <td>BOCAIUVA</td>\n",
       "      <td>Animais na Pista</td>\n",
       "      <td>Atropelamento de Animal</td>\n",
       "      <td>Com Vítimas Feridas</td>\n",
       "      <td>Amanhecer</td>\n",
       "      <td>Céu Claro</td>\n",
       "      <td>Simples</td>\n",
       "      <td>Reta</td>\n",
       "      <td>Rural</td>\n",
       "      <td>Automóvel</td>\n",
       "      <td>Passageiro</td>\n",
       "      <td>Ileso</td>\n",
       "      <td>Feminino</td>\n",
       "      <td>1</td>\n",
       "      <td>0</td>\n",
       "      <td>0</td>\n",
       "      <td>0</td>\n",
       "      <td>-16.9614</td>\n",
       "      <td>-43.8590</td>\n",
       "      <td>Via</td>\n",
       "    </tr>\n",
       "    <tr>\n",
       "      <th>9</th>\n",
       "      <td>63</td>\n",
       "      <td>1604</td>\n",
       "      <td>2017-01-01</td>\n",
       "      <td>domingo</td>\n",
       "      <td>06:00:00</td>\n",
       "      <td>MG</td>\n",
       "      <td>135</td>\n",
       "      <td>408.0</td>\n",
       "      <td>BOCAIUVA</td>\n",
       "      <td>Animais na Pista</td>\n",
       "      <td>Atropelamento de Animal</td>\n",
       "      <td>Com Vítimas Feridas</td>\n",
       "      <td>Amanhecer</td>\n",
       "      <td>Céu Claro</td>\n",
       "      <td>Simples</td>\n",
       "      <td>Reta</td>\n",
       "      <td>Rural</td>\n",
       "      <td>Automóvel</td>\n",
       "      <td>Condutor</td>\n",
       "      <td>Lesões Leves</td>\n",
       "      <td>Masculino</td>\n",
       "      <td>0</td>\n",
       "      <td>1</td>\n",
       "      <td>0</td>\n",
       "      <td>0</td>\n",
       "      <td>-16.9614</td>\n",
       "      <td>-43.8590</td>\n",
       "      <td>Via</td>\n",
       "    </tr>\n",
       "    <tr>\n",
       "      <th>10</th>\n",
       "      <td>81</td>\n",
       "      <td>56</td>\n",
       "      <td>2017-01-01</td>\n",
       "      <td>domingo</td>\n",
       "      <td>07:50:00</td>\n",
       "      <td>MG</td>\n",
       "      <td>40</td>\n",
       "      <td>774.0</td>\n",
       "      <td>JUIZ DE FORA</td>\n",
       "      <td>Condutor Dormindo</td>\n",
       "      <td>Colisão com objeto estático</td>\n",
       "      <td>Com Vítimas Feridas</td>\n",
       "      <td>Pleno dia</td>\n",
       "      <td>Sol</td>\n",
       "      <td>Dupla</td>\n",
       "      <td>Reta</td>\n",
       "      <td>Urbano</td>\n",
       "      <td>Motocicleta</td>\n",
       "      <td>Condutor</td>\n",
       "      <td>Lesões Leves</td>\n",
       "      <td>Masculino</td>\n",
       "      <td>0</td>\n",
       "      <td>1</td>\n",
       "      <td>0</td>\n",
       "      <td>0</td>\n",
       "      <td>-21.6590</td>\n",
       "      <td>-43.4340</td>\n",
       "      <td>Homem</td>\n",
       "    </tr>\n",
       "    <tr>\n",
       "      <th>11</th>\n",
       "      <td>81</td>\n",
       "      <td>58</td>\n",
       "      <td>2017-01-01</td>\n",
       "      <td>domingo</td>\n",
       "      <td>07:50:00</td>\n",
       "      <td>MG</td>\n",
       "      <td>40</td>\n",
       "      <td>774.0</td>\n",
       "      <td>JUIZ DE FORA</td>\n",
       "      <td>Condutor Dormindo</td>\n",
       "      <td>Colisão com objeto estático</td>\n",
       "      <td>Com Vítimas Feridas</td>\n",
       "      <td>Pleno dia</td>\n",
       "      <td>Sol</td>\n",
       "      <td>Dupla</td>\n",
       "      <td>Reta</td>\n",
       "      <td>Urbano</td>\n",
       "      <td>Motocicleta</td>\n",
       "      <td>Passageiro</td>\n",
       "      <td>Lesões Leves</td>\n",
       "      <td>Masculino</td>\n",
       "      <td>0</td>\n",
       "      <td>1</td>\n",
       "      <td>0</td>\n",
       "      <td>0</td>\n",
       "      <td>-21.6590</td>\n",
       "      <td>-43.4340</td>\n",
       "      <td>Homem</td>\n",
       "    </tr>\n",
       "    <tr>\n",
       "      <th>12</th>\n",
       "      <td>95</td>\n",
       "      <td>78</td>\n",
       "      <td>2017-01-01</td>\n",
       "      <td>domingo</td>\n",
       "      <td>08:30:00</td>\n",
       "      <td>MG</td>\n",
       "      <td>381</td>\n",
       "      <td>896.0</td>\n",
       "      <td>CAMBUI</td>\n",
       "      <td>Falta de Atenção à Condução</td>\n",
       "      <td>Saída de leito carroçável</td>\n",
       "      <td>Com Vítimas Feridas</td>\n",
       "      <td>Pleno dia</td>\n",
       "      <td>Céu Claro</td>\n",
       "      <td>Dupla</td>\n",
       "      <td>Reta</td>\n",
       "      <td>Rural</td>\n",
       "      <td>Automóvel</td>\n",
       "      <td>Passageiro</td>\n",
       "      <td>Lesões Leves</td>\n",
       "      <td>Feminino</td>\n",
       "      <td>0</td>\n",
       "      <td>1</td>\n",
       "      <td>0</td>\n",
       "      <td>0</td>\n",
       "      <td>-22.5867</td>\n",
       "      <td>-46.0496</td>\n",
       "      <td>Homem</td>\n",
       "    </tr>\n",
       "    <tr>\n",
       "      <th>13</th>\n",
       "      <td>95</td>\n",
       "      <td>81</td>\n",
       "      <td>2017-01-01</td>\n",
       "      <td>domingo</td>\n",
       "      <td>08:30:00</td>\n",
       "      <td>MG</td>\n",
       "      <td>381</td>\n",
       "      <td>896.0</td>\n",
       "      <td>CAMBUI</td>\n",
       "      <td>Falta de Atenção à Condução</td>\n",
       "      <td>Saída de leito carroçável</td>\n",
       "      <td>Com Vítimas Feridas</td>\n",
       "      <td>Pleno dia</td>\n",
       "      <td>Céu Claro</td>\n",
       "      <td>Dupla</td>\n",
       "      <td>Reta</td>\n",
       "      <td>Rural</td>\n",
       "      <td>Automóvel</td>\n",
       "      <td>Passageiro</td>\n",
       "      <td>Lesões Leves</td>\n",
       "      <td>Feminino</td>\n",
       "      <td>0</td>\n",
       "      <td>1</td>\n",
       "      <td>0</td>\n",
       "      <td>0</td>\n",
       "      <td>-22.5867</td>\n",
       "      <td>-46.0496</td>\n",
       "      <td>Homem</td>\n",
       "    </tr>\n",
       "    <tr>\n",
       "      <th>14</th>\n",
       "      <td>95</td>\n",
       "      <td>80</td>\n",
       "      <td>2017-01-01</td>\n",
       "      <td>domingo</td>\n",
       "      <td>08:30:00</td>\n",
       "      <td>MG</td>\n",
       "      <td>381</td>\n",
       "      <td>896.0</td>\n",
       "      <td>CAMBUI</td>\n",
       "      <td>Falta de Atenção à Condução</td>\n",
       "      <td>Saída de leito carroçável</td>\n",
       "      <td>Com Vítimas Feridas</td>\n",
       "      <td>Pleno dia</td>\n",
       "      <td>Céu Claro</td>\n",
       "      <td>Dupla</td>\n",
       "      <td>Reta</td>\n",
       "      <td>Rural</td>\n",
       "      <td>Automóvel</td>\n",
       "      <td>Passageiro</td>\n",
       "      <td>Lesões Leves</td>\n",
       "      <td>Feminino</td>\n",
       "      <td>0</td>\n",
       "      <td>1</td>\n",
       "      <td>0</td>\n",
       "      <td>0</td>\n",
       "      <td>-22.5867</td>\n",
       "      <td>-46.0496</td>\n",
       "      <td>Homem</td>\n",
       "    </tr>\n",
       "    <tr>\n",
       "      <th>15</th>\n",
       "      <td>95</td>\n",
       "      <td>79</td>\n",
       "      <td>2017-01-01</td>\n",
       "      <td>domingo</td>\n",
       "      <td>08:30:00</td>\n",
       "      <td>MG</td>\n",
       "      <td>381</td>\n",
       "      <td>896.0</td>\n",
       "      <td>CAMBUI</td>\n",
       "      <td>Falta de Atenção à Condução</td>\n",
       "      <td>Saída de leito carroçável</td>\n",
       "      <td>Com Vítimas Feridas</td>\n",
       "      <td>Pleno dia</td>\n",
       "      <td>Céu Claro</td>\n",
       "      <td>Dupla</td>\n",
       "      <td>Reta</td>\n",
       "      <td>Rural</td>\n",
       "      <td>Automóvel</td>\n",
       "      <td>Passageiro</td>\n",
       "      <td>Lesões Leves</td>\n",
       "      <td>Feminino</td>\n",
       "      <td>0</td>\n",
       "      <td>1</td>\n",
       "      <td>0</td>\n",
       "      <td>0</td>\n",
       "      <td>-22.5867</td>\n",
       "      <td>-46.0496</td>\n",
       "      <td>Homem</td>\n",
       "    </tr>\n",
       "    <tr>\n",
       "      <th>16</th>\n",
       "      <td>95</td>\n",
       "      <td>73</td>\n",
       "      <td>2017-01-01</td>\n",
       "      <td>domingo</td>\n",
       "      <td>08:30:00</td>\n",
       "      <td>MG</td>\n",
       "      <td>381</td>\n",
       "      <td>896.0</td>\n",
       "      <td>CAMBUI</td>\n",
       "      <td>Falta de Atenção à Condução</td>\n",
       "      <td>Saída de leito carroçável</td>\n",
       "      <td>Com Vítimas Feridas</td>\n",
       "      <td>Pleno dia</td>\n",
       "      <td>Céu Claro</td>\n",
       "      <td>Dupla</td>\n",
       "      <td>Reta</td>\n",
       "      <td>Rural</td>\n",
       "      <td>Automóvel</td>\n",
       "      <td>Condutor</td>\n",
       "      <td>Ileso</td>\n",
       "      <td>Masculino</td>\n",
       "      <td>1</td>\n",
       "      <td>0</td>\n",
       "      <td>0</td>\n",
       "      <td>0</td>\n",
       "      <td>-22.5867</td>\n",
       "      <td>-46.0496</td>\n",
       "      <td>Homem</td>\n",
       "    </tr>\n",
       "    <tr>\n",
       "      <th>17</th>\n",
       "      <td>96</td>\n",
       "      <td>89</td>\n",
       "      <td>2017-01-01</td>\n",
       "      <td>domingo</td>\n",
       "      <td>09:00:00</td>\n",
       "      <td>MG</td>\n",
       "      <td>50</td>\n",
       "      <td>81.0</td>\n",
       "      <td>UBERLANDIA</td>\n",
       "      <td>Ingestão de Álcool</td>\n",
       "      <td>Tombamento</td>\n",
       "      <td>Com Vítimas Feridas</td>\n",
       "      <td>Pleno dia</td>\n",
       "      <td>Céu Claro</td>\n",
       "      <td>Dupla</td>\n",
       "      <td>Reta</td>\n",
       "      <td>Rural</td>\n",
       "      <td>Motocicleta</td>\n",
       "      <td>Condutor</td>\n",
       "      <td>Lesões Leves</td>\n",
       "      <td>Masculino</td>\n",
       "      <td>0</td>\n",
       "      <td>1</td>\n",
       "      <td>0</td>\n",
       "      <td>0</td>\n",
       "      <td>-18.9707</td>\n",
       "      <td>-48.2144</td>\n",
       "      <td>Homem</td>\n",
       "    </tr>\n",
       "    <tr>\n",
       "      <th>18</th>\n",
       "      <td>98</td>\n",
       "      <td>1114</td>\n",
       "      <td>2017-01-01</td>\n",
       "      <td>domingo</td>\n",
       "      <td>08:30:00</td>\n",
       "      <td>MG</td>\n",
       "      <td>365</td>\n",
       "      <td>117.0</td>\n",
       "      <td>JEQUITAI</td>\n",
       "      <td>Velocidade Incompatível</td>\n",
       "      <td>Queda de ocupante de veículo</td>\n",
       "      <td>Com Vítimas Feridas</td>\n",
       "      <td>Pleno dia</td>\n",
       "      <td>Céu Claro</td>\n",
       "      <td>Simples</td>\n",
       "      <td>Reta</td>\n",
       "      <td>Rural</td>\n",
       "      <td>Motocicleta</td>\n",
       "      <td>Condutor</td>\n",
       "      <td>Lesões Graves</td>\n",
       "      <td>Masculino</td>\n",
       "      <td>0</td>\n",
       "      <td>0</td>\n",
       "      <td>1</td>\n",
       "      <td>0</td>\n",
       "      <td>-17.1881</td>\n",
       "      <td>-44.6600</td>\n",
       "      <td>Homem</td>\n",
       "    </tr>\n",
       "    <tr>\n",
       "      <th>19</th>\n",
       "      <td>103</td>\n",
       "      <td>2061</td>\n",
       "      <td>2017-01-01</td>\n",
       "      <td>domingo</td>\n",
       "      <td>07:20:00</td>\n",
       "      <td>MG</td>\n",
       "      <td>40</td>\n",
       "      <td>550.0</td>\n",
       "      <td>NOVA LIMA</td>\n",
       "      <td>Velocidade Incompatível</td>\n",
       "      <td>Capotamento</td>\n",
       "      <td>Com Vítimas Feridas</td>\n",
       "      <td>Pleno dia</td>\n",
       "      <td>Céu Claro</td>\n",
       "      <td>Dupla</td>\n",
       "      <td>Reta</td>\n",
       "      <td>Urbano</td>\n",
       "      <td>Automóvel</td>\n",
       "      <td>Condutor</td>\n",
       "      <td>Lesões Graves</td>\n",
       "      <td>Masculino</td>\n",
       "      <td>0</td>\n",
       "      <td>0</td>\n",
       "      <td>1</td>\n",
       "      <td>0</td>\n",
       "      <td>-20.0517</td>\n",
       "      <td>-43.9679</td>\n",
       "      <td>Homem</td>\n",
       "    </tr>\n",
       "    <tr>\n",
       "      <th>20</th>\n",
       "      <td>103</td>\n",
       "      <td>2084</td>\n",
       "      <td>2017-01-01</td>\n",
       "      <td>domingo</td>\n",
       "      <td>07:20:00</td>\n",
       "      <td>MG</td>\n",
       "      <td>40</td>\n",
       "      <td>550.0</td>\n",
       "      <td>NOVA LIMA</td>\n",
       "      <td>Velocidade Incompatível</td>\n",
       "      <td>Capotamento</td>\n",
       "      <td>Com Vítimas Feridas</td>\n",
       "      <td>Pleno dia</td>\n",
       "      <td>Céu Claro</td>\n",
       "      <td>Dupla</td>\n",
       "      <td>Reta</td>\n",
       "      <td>Urbano</td>\n",
       "      <td>Automóvel</td>\n",
       "      <td>Passageiro</td>\n",
       "      <td>Lesões Leves</td>\n",
       "      <td>Feminino</td>\n",
       "      <td>0</td>\n",
       "      <td>1</td>\n",
       "      <td>0</td>\n",
       "      <td>0</td>\n",
       "      <td>-20.0517</td>\n",
       "      <td>-43.9679</td>\n",
       "      <td>Homem</td>\n",
       "    </tr>\n",
       "    <tr>\n",
       "      <th>21</th>\n",
       "      <td>104</td>\n",
       "      <td>520</td>\n",
       "      <td>2017-01-01</td>\n",
       "      <td>domingo</td>\n",
       "      <td>08:35:00</td>\n",
       "      <td>MG</td>\n",
       "      <td>365</td>\n",
       "      <td>619.0</td>\n",
       "      <td>UBERLANDIA</td>\n",
       "      <td>Falta de Atenção à Condução</td>\n",
       "      <td>Colisão com objeto estático</td>\n",
       "      <td>Com Vítimas Feridas</td>\n",
       "      <td>Pleno dia</td>\n",
       "      <td>Céu Claro</td>\n",
       "      <td>Simples</td>\n",
       "      <td>Reta</td>\n",
       "      <td>Urbano</td>\n",
       "      <td>Automóvel</td>\n",
       "      <td>Condutor</td>\n",
       "      <td>Lesões Leves</td>\n",
       "      <td>Masculino</td>\n",
       "      <td>0</td>\n",
       "      <td>1</td>\n",
       "      <td>0</td>\n",
       "      <td>0</td>\n",
       "      <td>-18.8861</td>\n",
       "      <td>-48.2673</td>\n",
       "      <td>Homem</td>\n",
       "    </tr>\n",
       "    <tr>\n",
       "      <th>22</th>\n",
       "      <td>104</td>\n",
       "      <td>3281</td>\n",
       "      <td>2017-01-01</td>\n",
       "      <td>domingo</td>\n",
       "      <td>08:35:00</td>\n",
       "      <td>MG</td>\n",
       "      <td>365</td>\n",
       "      <td>619.0</td>\n",
       "      <td>UBERLANDIA</td>\n",
       "      <td>Falta de Atenção à Condução</td>\n",
       "      <td>Colisão com objeto estático</td>\n",
       "      <td>Com Vítimas Feridas</td>\n",
       "      <td>Pleno dia</td>\n",
       "      <td>Céu Claro</td>\n",
       "      <td>Simples</td>\n",
       "      <td>Reta</td>\n",
       "      <td>Urbano</td>\n",
       "      <td>Automóvel</td>\n",
       "      <td>Testemunha</td>\n",
       "      <td>Lesões Leves</td>\n",
       "      <td>Não Informado</td>\n",
       "      <td>0</td>\n",
       "      <td>0</td>\n",
       "      <td>0</td>\n",
       "      <td>0</td>\n",
       "      <td>-18.8861</td>\n",
       "      <td>-48.2673</td>\n",
       "      <td>Homem</td>\n",
       "    </tr>\n",
       "  </tbody>\n",
       "</table>\n",
       "</div>"
      ],
      "text/plain": [
       "     id  pesid data_inversa dia_semana   horario  uf   br     km              municipio               causa_acidente                 tipo_acidente classificacao_acidente     fase_dia condicao_metereologica tipo_pista tracado_via uso_solo tipo_veiculo tipo_envolvido  estado_fisico           sexo  ilesos  feridos_leves  feridos_graves  mortos  latitude  longitude elemento_transito\n",
       "0    47     44   2017-01-01    domingo  04:50:00  MG  381  605.0               OLIVEIRA            Condutor Dormindo     Saída de leito carroçável    Com Vítimas Feridas    Amanhecer              Céu Claro      Dupla        Reta    Rural    Automóvel       Condutor   Lesões Leves      Masculino       0              1               0       0  -20.6370   -44.7357             Homem\n",
       "1    47     45   2017-01-01    domingo  04:50:00  MG  381  605.0               OLIVEIRA            Condutor Dormindo     Saída de leito carroçável    Com Vítimas Feridas    Amanhecer              Céu Claro      Dupla        Reta    Rural    Automóvel     Passageiro   Lesões Leves      Masculino       0              1               0       0  -20.6370   -44.7357             Homem\n",
       "2    52   1528   2017-01-01    domingo  05:00:00  MG  262  368.0                JUATUBA      Velocidade Incompatível   Colisão com objeto estático    Com Vítimas Feridas  Plena Noite              Céu Claro    Simples     Viaduto   Urbano    Automóvel     Passageiro   Lesões Leves      Masculino       0              1               0       0  -19.9566   -44.3444             Homem\n",
       "3    52   1526   2017-01-01    domingo  05:00:00  MG  262  368.0                JUATUBA      Velocidade Incompatível   Colisão com objeto estático    Com Vítimas Feridas  Plena Noite              Céu Claro    Simples     Viaduto   Urbano    Automóvel     Passageiro   Lesões Leves       Feminino       0              1               0       0  -19.9566   -44.3444             Homem\n",
       "4    52   1519   2017-01-01    domingo  05:00:00  MG  262  368.0                JUATUBA      Velocidade Incompatível   Colisão com objeto estático    Com Vítimas Feridas  Plena Noite              Céu Claro    Simples     Viaduto   Urbano    Automóvel       Condutor   Lesões Leves      Masculino       0              1               0       0  -19.9566   -44.3444             Homem\n",
       "5    53     49   2017-01-01    domingo  05:00:00  MG  459   14.0                 CALDAS  Falta de Atenção à Condução     Saída de leito carroçável            Sem Vítimas    Amanhecer              Céu Claro    Simples       Curva    Rural    Automóvel       Condutor          Ileso       Feminino       1              0               0       0  -21.8459   -46.4388             Homem\n",
       "6    61     38   2017-01-01    domingo  05:00:00  MG  262  186.0  SAO DOMINGOS DO PRATA            Condutor Dormindo     Saída de leito carroçável    Com Vítimas Feridas  Plena Noite              Céu Claro    Simples       Curva    Rural    Automóvel       Condutor   Lesões Leves      Masculino       0              1               0       0  -19.8942   -43.0403             Homem\n",
       "7    63   1608   2017-01-01    domingo  06:00:00  MG  135  408.0               BOCAIUVA             Animais na Pista       Atropelamento de Animal    Com Vítimas Feridas    Amanhecer              Céu Claro    Simples        Reta    Rural    Automóvel     Passageiro          Ileso      Masculino       1              0               0       0  -16.9614   -43.8590               Via\n",
       "8    63   1606   2017-01-01    domingo  06:00:00  MG  135  408.0               BOCAIUVA             Animais na Pista       Atropelamento de Animal    Com Vítimas Feridas    Amanhecer              Céu Claro    Simples        Reta    Rural    Automóvel     Passageiro          Ileso       Feminino       1              0               0       0  -16.9614   -43.8590               Via\n",
       "9    63   1604   2017-01-01    domingo  06:00:00  MG  135  408.0               BOCAIUVA             Animais na Pista       Atropelamento de Animal    Com Vítimas Feridas    Amanhecer              Céu Claro    Simples        Reta    Rural    Automóvel       Condutor   Lesões Leves      Masculino       0              1               0       0  -16.9614   -43.8590               Via\n",
       "10   81     56   2017-01-01    domingo  07:50:00  MG   40  774.0           JUIZ DE FORA            Condutor Dormindo   Colisão com objeto estático    Com Vítimas Feridas    Pleno dia                    Sol      Dupla        Reta   Urbano  Motocicleta       Condutor   Lesões Leves      Masculino       0              1               0       0  -21.6590   -43.4340             Homem\n",
       "11   81     58   2017-01-01    domingo  07:50:00  MG   40  774.0           JUIZ DE FORA            Condutor Dormindo   Colisão com objeto estático    Com Vítimas Feridas    Pleno dia                    Sol      Dupla        Reta   Urbano  Motocicleta     Passageiro   Lesões Leves      Masculino       0              1               0       0  -21.6590   -43.4340             Homem\n",
       "12   95     78   2017-01-01    domingo  08:30:00  MG  381  896.0                 CAMBUI  Falta de Atenção à Condução     Saída de leito carroçável    Com Vítimas Feridas    Pleno dia              Céu Claro      Dupla        Reta    Rural    Automóvel     Passageiro   Lesões Leves       Feminino       0              1               0       0  -22.5867   -46.0496             Homem\n",
       "13   95     81   2017-01-01    domingo  08:30:00  MG  381  896.0                 CAMBUI  Falta de Atenção à Condução     Saída de leito carroçável    Com Vítimas Feridas    Pleno dia              Céu Claro      Dupla        Reta    Rural    Automóvel     Passageiro   Lesões Leves       Feminino       0              1               0       0  -22.5867   -46.0496             Homem\n",
       "14   95     80   2017-01-01    domingo  08:30:00  MG  381  896.0                 CAMBUI  Falta de Atenção à Condução     Saída de leito carroçável    Com Vítimas Feridas    Pleno dia              Céu Claro      Dupla        Reta    Rural    Automóvel     Passageiro   Lesões Leves       Feminino       0              1               0       0  -22.5867   -46.0496             Homem\n",
       "15   95     79   2017-01-01    domingo  08:30:00  MG  381  896.0                 CAMBUI  Falta de Atenção à Condução     Saída de leito carroçável    Com Vítimas Feridas    Pleno dia              Céu Claro      Dupla        Reta    Rural    Automóvel     Passageiro   Lesões Leves       Feminino       0              1               0       0  -22.5867   -46.0496             Homem\n",
       "16   95     73   2017-01-01    domingo  08:30:00  MG  381  896.0                 CAMBUI  Falta de Atenção à Condução     Saída de leito carroçável    Com Vítimas Feridas    Pleno dia              Céu Claro      Dupla        Reta    Rural    Automóvel       Condutor          Ileso      Masculino       1              0               0       0  -22.5867   -46.0496             Homem\n",
       "17   96     89   2017-01-01    domingo  09:00:00  MG   50   81.0             UBERLANDIA           Ingestão de Álcool                    Tombamento    Com Vítimas Feridas    Pleno dia              Céu Claro      Dupla        Reta    Rural  Motocicleta       Condutor   Lesões Leves      Masculino       0              1               0       0  -18.9707   -48.2144             Homem\n",
       "18   98   1114   2017-01-01    domingo  08:30:00  MG  365  117.0               JEQUITAI      Velocidade Incompatível  Queda de ocupante de veículo    Com Vítimas Feridas    Pleno dia              Céu Claro    Simples        Reta    Rural  Motocicleta       Condutor  Lesões Graves      Masculino       0              0               1       0  -17.1881   -44.6600             Homem\n",
       "19  103   2061   2017-01-01    domingo  07:20:00  MG   40  550.0              NOVA LIMA      Velocidade Incompatível                   Capotamento    Com Vítimas Feridas    Pleno dia              Céu Claro      Dupla        Reta   Urbano    Automóvel       Condutor  Lesões Graves      Masculino       0              0               1       0  -20.0517   -43.9679             Homem\n",
       "20  103   2084   2017-01-01    domingo  07:20:00  MG   40  550.0              NOVA LIMA      Velocidade Incompatível                   Capotamento    Com Vítimas Feridas    Pleno dia              Céu Claro      Dupla        Reta   Urbano    Automóvel     Passageiro   Lesões Leves       Feminino       0              1               0       0  -20.0517   -43.9679             Homem\n",
       "21  104    520   2017-01-01    domingo  08:35:00  MG  365  619.0             UBERLANDIA  Falta de Atenção à Condução   Colisão com objeto estático    Com Vítimas Feridas    Pleno dia              Céu Claro    Simples        Reta   Urbano    Automóvel       Condutor   Lesões Leves      Masculino       0              1               0       0  -18.8861   -48.2673             Homem\n",
       "22  104   3281   2017-01-01    domingo  08:35:00  MG  365  619.0             UBERLANDIA  Falta de Atenção à Condução   Colisão com objeto estático    Com Vítimas Feridas    Pleno dia              Céu Claro    Simples        Reta   Urbano    Automóvel     Testemunha   Lesões Leves  Não Informado       0              0               0       0  -18.8861   -48.2673             Homem"
      ]
     },
     "execution_count": 73,
     "metadata": {},
     "output_type": "execute_result"
    }
   ],
   "source": [
    "#Verificando o dataset modificado de acidentes\n",
    "acidentes_mg.head(23)"
   ]
  },
  {
   "cell_type": "code",
   "execution_count": 75,
   "metadata": {},
   "outputs": [],
   "source": [
    "#Convertendo 'estado_fisico' numa variável dummy 'vitimas'\n",
    "vitimas = pd.get_dummies(acidentes_mg['estado_fisico'])"
   ]
  },
  {
   "cell_type": "code",
   "execution_count": 76,
   "metadata": {},
   "outputs": [
    {
     "data": {
      "text/html": [
       "<div>\n",
       "<style scoped>\n",
       "    .dataframe tbody tr th:only-of-type {\n",
       "        vertical-align: middle;\n",
       "    }\n",
       "\n",
       "    .dataframe tbody tr th {\n",
       "        vertical-align: top;\n",
       "    }\n",
       "\n",
       "    .dataframe thead th {\n",
       "        text-align: right;\n",
       "    }\n",
       "</style>\n",
       "<table border=\"1\" class=\"dataframe\">\n",
       "  <thead>\n",
       "    <tr style=\"text-align: right;\">\n",
       "      <th></th>\n",
       "      <th>Ileso</th>\n",
       "      <th>Lesões Graves</th>\n",
       "      <th>Lesões Leves</th>\n",
       "      <th>Óbito</th>\n",
       "    </tr>\n",
       "  </thead>\n",
       "  <tbody>\n",
       "    <tr>\n",
       "      <th>0</th>\n",
       "      <td>0</td>\n",
       "      <td>0</td>\n",
       "      <td>1</td>\n",
       "      <td>0</td>\n",
       "    </tr>\n",
       "    <tr>\n",
       "      <th>1</th>\n",
       "      <td>0</td>\n",
       "      <td>0</td>\n",
       "      <td>1</td>\n",
       "      <td>0</td>\n",
       "    </tr>\n",
       "    <tr>\n",
       "      <th>2</th>\n",
       "      <td>0</td>\n",
       "      <td>0</td>\n",
       "      <td>1</td>\n",
       "      <td>0</td>\n",
       "    </tr>\n",
       "    <tr>\n",
       "      <th>3</th>\n",
       "      <td>0</td>\n",
       "      <td>0</td>\n",
       "      <td>1</td>\n",
       "      <td>0</td>\n",
       "    </tr>\n",
       "    <tr>\n",
       "      <th>4</th>\n",
       "      <td>0</td>\n",
       "      <td>0</td>\n",
       "      <td>1</td>\n",
       "      <td>0</td>\n",
       "    </tr>\n",
       "    <tr>\n",
       "      <th>...</th>\n",
       "      <td>...</td>\n",
       "      <td>...</td>\n",
       "      <td>...</td>\n",
       "      <td>...</td>\n",
       "    </tr>\n",
       "    <tr>\n",
       "      <th>91784</th>\n",
       "      <td>0</td>\n",
       "      <td>0</td>\n",
       "      <td>1</td>\n",
       "      <td>0</td>\n",
       "    </tr>\n",
       "    <tr>\n",
       "      <th>91785</th>\n",
       "      <td>0</td>\n",
       "      <td>0</td>\n",
       "      <td>1</td>\n",
       "      <td>0</td>\n",
       "    </tr>\n",
       "    <tr>\n",
       "      <th>91786</th>\n",
       "      <td>0</td>\n",
       "      <td>1</td>\n",
       "      <td>0</td>\n",
       "      <td>0</td>\n",
       "    </tr>\n",
       "    <tr>\n",
       "      <th>91787</th>\n",
       "      <td>1</td>\n",
       "      <td>0</td>\n",
       "      <td>0</td>\n",
       "      <td>0</td>\n",
       "    </tr>\n",
       "    <tr>\n",
       "      <th>91788</th>\n",
       "      <td>1</td>\n",
       "      <td>0</td>\n",
       "      <td>0</td>\n",
       "      <td>0</td>\n",
       "    </tr>\n",
       "  </tbody>\n",
       "</table>\n",
       "<p>91789 rows × 4 columns</p>\n",
       "</div>"
      ],
      "text/plain": [
       "       Ileso  Lesões Graves  Lesões Leves  Óbito\n",
       "0          0              0             1      0\n",
       "1          0              0             1      0\n",
       "2          0              0             1      0\n",
       "3          0              0             1      0\n",
       "4          0              0             1      0\n",
       "...      ...            ...           ...    ...\n",
       "91784      0              0             1      0\n",
       "91785      0              0             1      0\n",
       "91786      0              1             0      0\n",
       "91787      1              0             0      0\n",
       "91788      1              0             0      0\n",
       "\n",
       "[91789 rows x 4 columns]"
      ]
     },
     "execution_count": 76,
     "metadata": {},
     "output_type": "execute_result"
    }
   ],
   "source": [
    "#Verificando a variável dummy 'vitimas'\n",
    "vitimas"
   ]
  },
  {
   "cell_type": "code",
   "execution_count": 79,
   "metadata": {},
   "outputs": [],
   "source": [
    "#Elimiando as colunas de'ilesos','feridos_leves','feridos_graves','mortos' de acidentes_mg\n",
    "acidentes_mg.drop(labels=['ilesos','feridos_leves','feridos_graves','mortos'],axis= 1, inplace = True)"
   ]
  },
  {
   "cell_type": "code",
   "execution_count": 80,
   "metadata": {},
   "outputs": [],
   "source": [
    "#Unindo acidentes_mg com a variável dummy 'vitimas'\n",
    "acidentes_mg = pd.concat([acidentes_mg, vitimas], axis= 1, join='outer')"
   ]
  },
  {
   "cell_type": "code",
   "execution_count": 82,
   "metadata": {},
   "outputs": [
    {
     "data": {
      "text/html": [
       "<div>\n",
       "<style scoped>\n",
       "    .dataframe tbody tr th:only-of-type {\n",
       "        vertical-align: middle;\n",
       "    }\n",
       "\n",
       "    .dataframe tbody tr th {\n",
       "        vertical-align: top;\n",
       "    }\n",
       "\n",
       "    .dataframe thead th {\n",
       "        text-align: right;\n",
       "    }\n",
       "</style>\n",
       "<table border=\"1\" class=\"dataframe\">\n",
       "  <thead>\n",
       "    <tr style=\"text-align: right;\">\n",
       "      <th></th>\n",
       "      <th>id</th>\n",
       "      <th>pesid</th>\n",
       "      <th>data_inversa</th>\n",
       "      <th>dia_semana</th>\n",
       "      <th>horario</th>\n",
       "      <th>uf</th>\n",
       "      <th>br</th>\n",
       "      <th>km</th>\n",
       "      <th>municipio</th>\n",
       "      <th>causa_acidente</th>\n",
       "      <th>tipo_acidente</th>\n",
       "      <th>classificacao_acidente</th>\n",
       "      <th>fase_dia</th>\n",
       "      <th>condicao_metereologica</th>\n",
       "      <th>tipo_pista</th>\n",
       "      <th>tracado_via</th>\n",
       "      <th>uso_solo</th>\n",
       "      <th>tipo_veiculo</th>\n",
       "      <th>tipo_envolvido</th>\n",
       "      <th>estado_fisico</th>\n",
       "      <th>sexo</th>\n",
       "      <th>latitude</th>\n",
       "      <th>longitude</th>\n",
       "      <th>elemento_transito</th>\n",
       "      <th>Ileso</th>\n",
       "      <th>Lesões Graves</th>\n",
       "      <th>Lesões Leves</th>\n",
       "      <th>Óbito</th>\n",
       "    </tr>\n",
       "  </thead>\n",
       "  <tbody>\n",
       "    <tr>\n",
       "      <th>0</th>\n",
       "      <td>47</td>\n",
       "      <td>44</td>\n",
       "      <td>2017-01-01</td>\n",
       "      <td>domingo</td>\n",
       "      <td>04:50:00</td>\n",
       "      <td>MG</td>\n",
       "      <td>381</td>\n",
       "      <td>605.0</td>\n",
       "      <td>OLIVEIRA</td>\n",
       "      <td>Condutor Dormindo</td>\n",
       "      <td>Saída de leito carroçável</td>\n",
       "      <td>Com Vítimas Feridas</td>\n",
       "      <td>Amanhecer</td>\n",
       "      <td>Céu Claro</td>\n",
       "      <td>Dupla</td>\n",
       "      <td>Reta</td>\n",
       "      <td>Rural</td>\n",
       "      <td>Automóvel</td>\n",
       "      <td>Condutor</td>\n",
       "      <td>Lesões Leves</td>\n",
       "      <td>Masculino</td>\n",
       "      <td>-20.6370</td>\n",
       "      <td>-44.7357</td>\n",
       "      <td>Homem</td>\n",
       "      <td>0</td>\n",
       "      <td>0</td>\n",
       "      <td>1</td>\n",
       "      <td>0</td>\n",
       "    </tr>\n",
       "    <tr>\n",
       "      <th>1</th>\n",
       "      <td>47</td>\n",
       "      <td>45</td>\n",
       "      <td>2017-01-01</td>\n",
       "      <td>domingo</td>\n",
       "      <td>04:50:00</td>\n",
       "      <td>MG</td>\n",
       "      <td>381</td>\n",
       "      <td>605.0</td>\n",
       "      <td>OLIVEIRA</td>\n",
       "      <td>Condutor Dormindo</td>\n",
       "      <td>Saída de leito carroçável</td>\n",
       "      <td>Com Vítimas Feridas</td>\n",
       "      <td>Amanhecer</td>\n",
       "      <td>Céu Claro</td>\n",
       "      <td>Dupla</td>\n",
       "      <td>Reta</td>\n",
       "      <td>Rural</td>\n",
       "      <td>Automóvel</td>\n",
       "      <td>Passageiro</td>\n",
       "      <td>Lesões Leves</td>\n",
       "      <td>Masculino</td>\n",
       "      <td>-20.6370</td>\n",
       "      <td>-44.7357</td>\n",
       "      <td>Homem</td>\n",
       "      <td>0</td>\n",
       "      <td>0</td>\n",
       "      <td>1</td>\n",
       "      <td>0</td>\n",
       "    </tr>\n",
       "    <tr>\n",
       "      <th>2</th>\n",
       "      <td>52</td>\n",
       "      <td>1528</td>\n",
       "      <td>2017-01-01</td>\n",
       "      <td>domingo</td>\n",
       "      <td>05:00:00</td>\n",
       "      <td>MG</td>\n",
       "      <td>262</td>\n",
       "      <td>368.0</td>\n",
       "      <td>JUATUBA</td>\n",
       "      <td>Velocidade Incompatível</td>\n",
       "      <td>Colisão com objeto estático</td>\n",
       "      <td>Com Vítimas Feridas</td>\n",
       "      <td>Plena Noite</td>\n",
       "      <td>Céu Claro</td>\n",
       "      <td>Simples</td>\n",
       "      <td>Viaduto</td>\n",
       "      <td>Urbano</td>\n",
       "      <td>Automóvel</td>\n",
       "      <td>Passageiro</td>\n",
       "      <td>Lesões Leves</td>\n",
       "      <td>Masculino</td>\n",
       "      <td>-19.9566</td>\n",
       "      <td>-44.3444</td>\n",
       "      <td>Homem</td>\n",
       "      <td>0</td>\n",
       "      <td>0</td>\n",
       "      <td>1</td>\n",
       "      <td>0</td>\n",
       "    </tr>\n",
       "    <tr>\n",
       "      <th>3</th>\n",
       "      <td>52</td>\n",
       "      <td>1526</td>\n",
       "      <td>2017-01-01</td>\n",
       "      <td>domingo</td>\n",
       "      <td>05:00:00</td>\n",
       "      <td>MG</td>\n",
       "      <td>262</td>\n",
       "      <td>368.0</td>\n",
       "      <td>JUATUBA</td>\n",
       "      <td>Velocidade Incompatível</td>\n",
       "      <td>Colisão com objeto estático</td>\n",
       "      <td>Com Vítimas Feridas</td>\n",
       "      <td>Plena Noite</td>\n",
       "      <td>Céu Claro</td>\n",
       "      <td>Simples</td>\n",
       "      <td>Viaduto</td>\n",
       "      <td>Urbano</td>\n",
       "      <td>Automóvel</td>\n",
       "      <td>Passageiro</td>\n",
       "      <td>Lesões Leves</td>\n",
       "      <td>Feminino</td>\n",
       "      <td>-19.9566</td>\n",
       "      <td>-44.3444</td>\n",
       "      <td>Homem</td>\n",
       "      <td>0</td>\n",
       "      <td>0</td>\n",
       "      <td>1</td>\n",
       "      <td>0</td>\n",
       "    </tr>\n",
       "    <tr>\n",
       "      <th>4</th>\n",
       "      <td>52</td>\n",
       "      <td>1519</td>\n",
       "      <td>2017-01-01</td>\n",
       "      <td>domingo</td>\n",
       "      <td>05:00:00</td>\n",
       "      <td>MG</td>\n",
       "      <td>262</td>\n",
       "      <td>368.0</td>\n",
       "      <td>JUATUBA</td>\n",
       "      <td>Velocidade Incompatível</td>\n",
       "      <td>Colisão com objeto estático</td>\n",
       "      <td>Com Vítimas Feridas</td>\n",
       "      <td>Plena Noite</td>\n",
       "      <td>Céu Claro</td>\n",
       "      <td>Simples</td>\n",
       "      <td>Viaduto</td>\n",
       "      <td>Urbano</td>\n",
       "      <td>Automóvel</td>\n",
       "      <td>Condutor</td>\n",
       "      <td>Lesões Leves</td>\n",
       "      <td>Masculino</td>\n",
       "      <td>-19.9566</td>\n",
       "      <td>-44.3444</td>\n",
       "      <td>Homem</td>\n",
       "      <td>0</td>\n",
       "      <td>0</td>\n",
       "      <td>1</td>\n",
       "      <td>0</td>\n",
       "    </tr>\n",
       "  </tbody>\n",
       "</table>\n",
       "</div>"
      ],
      "text/plain": [
       "   id  pesid data_inversa dia_semana   horario  uf   br     km municipio           causa_acidente                tipo_acidente classificacao_acidente     fase_dia condicao_metereologica tipo_pista tracado_via uso_solo tipo_veiculo tipo_envolvido estado_fisico       sexo  latitude  longitude elemento_transito  Ileso  Lesões Graves  Lesões Leves  Óbito\n",
       "0  47     44   2017-01-01    domingo  04:50:00  MG  381  605.0  OLIVEIRA        Condutor Dormindo    Saída de leito carroçável    Com Vítimas Feridas    Amanhecer              Céu Claro      Dupla        Reta    Rural    Automóvel       Condutor  Lesões Leves  Masculino  -20.6370   -44.7357             Homem      0              0             1      0\n",
       "1  47     45   2017-01-01    domingo  04:50:00  MG  381  605.0  OLIVEIRA        Condutor Dormindo    Saída de leito carroçável    Com Vítimas Feridas    Amanhecer              Céu Claro      Dupla        Reta    Rural    Automóvel     Passageiro  Lesões Leves  Masculino  -20.6370   -44.7357             Homem      0              0             1      0\n",
       "2  52   1528   2017-01-01    domingo  05:00:00  MG  262  368.0   JUATUBA  Velocidade Incompatível  Colisão com objeto estático    Com Vítimas Feridas  Plena Noite              Céu Claro    Simples     Viaduto   Urbano    Automóvel     Passageiro  Lesões Leves  Masculino  -19.9566   -44.3444             Homem      0              0             1      0\n",
       "3  52   1526   2017-01-01    domingo  05:00:00  MG  262  368.0   JUATUBA  Velocidade Incompatível  Colisão com objeto estático    Com Vítimas Feridas  Plena Noite              Céu Claro    Simples     Viaduto   Urbano    Automóvel     Passageiro  Lesões Leves   Feminino  -19.9566   -44.3444             Homem      0              0             1      0\n",
       "4  52   1519   2017-01-01    domingo  05:00:00  MG  262  368.0   JUATUBA  Velocidade Incompatível  Colisão com objeto estático    Com Vítimas Feridas  Plena Noite              Céu Claro    Simples     Viaduto   Urbano    Automóvel       Condutor  Lesões Leves  Masculino  -19.9566   -44.3444             Homem      0              0             1      0"
      ]
     },
     "execution_count": 82,
     "metadata": {},
     "output_type": "execute_result"
    }
   ],
   "source": [
    "#Verificando o dataset novamente modificado de acidentes\n",
    "acidentes_mg.head()"
   ]
  },
  {
   "cell_type": "code",
   "execution_count": 83,
   "metadata": {},
   "outputs": [],
   "source": [
    "#Renomeando as colunas de acidentes\n",
    "acidentes_mg.rename(mapper={'Ileso':'ilesos', 'Lesões Leves':'feridos_leves', 'Lesões Graves':'feridos_graves','Óbito':'mortos'}, axis= 1, inplace= True)"
   ]
  },
  {
   "cell_type": "code",
   "execution_count": 28,
   "metadata": {},
   "outputs": [
    {
     "data": {
      "text/html": [
       "<div>\n",
       "<style scoped>\n",
       "    .dataframe tbody tr th:only-of-type {\n",
       "        vertical-align: middle;\n",
       "    }\n",
       "\n",
       "    .dataframe tbody tr th {\n",
       "        vertical-align: top;\n",
       "    }\n",
       "\n",
       "    .dataframe thead th {\n",
       "        text-align: right;\n",
       "    }\n",
       "</style>\n",
       "<table border=\"1\" class=\"dataframe\">\n",
       "  <thead>\n",
       "    <tr style=\"text-align: right;\">\n",
       "      <th></th>\n",
       "      <th>id</th>\n",
       "      <th>pesid</th>\n",
       "      <th>data_inversa</th>\n",
       "      <th>dia_semana</th>\n",
       "      <th>horario</th>\n",
       "      <th>uf</th>\n",
       "      <th>br</th>\n",
       "      <th>km</th>\n",
       "      <th>municipio</th>\n",
       "      <th>causa_acidente</th>\n",
       "      <th>tipo_acidente</th>\n",
       "      <th>classificacao_acidente</th>\n",
       "      <th>fase_dia</th>\n",
       "      <th>condicao_metereologica</th>\n",
       "      <th>tipo_pista</th>\n",
       "      <th>tracado_via</th>\n",
       "      <th>uso_solo</th>\n",
       "      <th>tipo_veiculo</th>\n",
       "      <th>tipo_envolvido</th>\n",
       "      <th>estado_fisico</th>\n",
       "      <th>sexo</th>\n",
       "      <th>latitude</th>\n",
       "      <th>longitude</th>\n",
       "      <th>elemento_transito</th>\n",
       "      <th>ilesos</th>\n",
       "      <th>feridos_graves</th>\n",
       "      <th>feridos_leves</th>\n",
       "      <th>mortos</th>\n",
       "    </tr>\n",
       "  </thead>\n",
       "  <tbody>\n",
       "    <tr>\n",
       "      <th>0</th>\n",
       "      <td>47</td>\n",
       "      <td>44</td>\n",
       "      <td>2017-01-01</td>\n",
       "      <td>domingo</td>\n",
       "      <td>04:50:00</td>\n",
       "      <td>MG</td>\n",
       "      <td>381</td>\n",
       "      <td>605.0</td>\n",
       "      <td>OLIVEIRA</td>\n",
       "      <td>Condutor Dormindo</td>\n",
       "      <td>Saída de leito carroçável</td>\n",
       "      <td>Com Vítimas Feridas</td>\n",
       "      <td>Amanhecer</td>\n",
       "      <td>Céu Claro</td>\n",
       "      <td>Dupla</td>\n",
       "      <td>Reta</td>\n",
       "      <td>Rural</td>\n",
       "      <td>Automóvel</td>\n",
       "      <td>Condutor</td>\n",
       "      <td>Lesões Leves</td>\n",
       "      <td>Masculino</td>\n",
       "      <td>-20.6370</td>\n",
       "      <td>-44.7357</td>\n",
       "      <td>Homem</td>\n",
       "      <td>0</td>\n",
       "      <td>0</td>\n",
       "      <td>1</td>\n",
       "      <td>0</td>\n",
       "    </tr>\n",
       "    <tr>\n",
       "      <th>1</th>\n",
       "      <td>47</td>\n",
       "      <td>45</td>\n",
       "      <td>2017-01-01</td>\n",
       "      <td>domingo</td>\n",
       "      <td>04:50:00</td>\n",
       "      <td>MG</td>\n",
       "      <td>381</td>\n",
       "      <td>605.0</td>\n",
       "      <td>OLIVEIRA</td>\n",
       "      <td>Condutor Dormindo</td>\n",
       "      <td>Saída de leito carroçável</td>\n",
       "      <td>Com Vítimas Feridas</td>\n",
       "      <td>Amanhecer</td>\n",
       "      <td>Céu Claro</td>\n",
       "      <td>Dupla</td>\n",
       "      <td>Reta</td>\n",
       "      <td>Rural</td>\n",
       "      <td>Automóvel</td>\n",
       "      <td>Passageiro</td>\n",
       "      <td>Lesões Leves</td>\n",
       "      <td>Masculino</td>\n",
       "      <td>-20.6370</td>\n",
       "      <td>-44.7357</td>\n",
       "      <td>Homem</td>\n",
       "      <td>0</td>\n",
       "      <td>0</td>\n",
       "      <td>1</td>\n",
       "      <td>0</td>\n",
       "    </tr>\n",
       "    <tr>\n",
       "      <th>2</th>\n",
       "      <td>52</td>\n",
       "      <td>1528</td>\n",
       "      <td>2017-01-01</td>\n",
       "      <td>domingo</td>\n",
       "      <td>05:00:00</td>\n",
       "      <td>MG</td>\n",
       "      <td>262</td>\n",
       "      <td>368.0</td>\n",
       "      <td>JUATUBA</td>\n",
       "      <td>Velocidade Incompatível</td>\n",
       "      <td>Colisão com objeto estático</td>\n",
       "      <td>Com Vítimas Feridas</td>\n",
       "      <td>Plena Noite</td>\n",
       "      <td>Céu Claro</td>\n",
       "      <td>Simples</td>\n",
       "      <td>Viaduto</td>\n",
       "      <td>Urbano</td>\n",
       "      <td>Automóvel</td>\n",
       "      <td>Passageiro</td>\n",
       "      <td>Lesões Leves</td>\n",
       "      <td>Masculino</td>\n",
       "      <td>-19.9566</td>\n",
       "      <td>-44.3444</td>\n",
       "      <td>Homem</td>\n",
       "      <td>0</td>\n",
       "      <td>0</td>\n",
       "      <td>1</td>\n",
       "      <td>0</td>\n",
       "    </tr>\n",
       "    <tr>\n",
       "      <th>3</th>\n",
       "      <td>52</td>\n",
       "      <td>1526</td>\n",
       "      <td>2017-01-01</td>\n",
       "      <td>domingo</td>\n",
       "      <td>05:00:00</td>\n",
       "      <td>MG</td>\n",
       "      <td>262</td>\n",
       "      <td>368.0</td>\n",
       "      <td>JUATUBA</td>\n",
       "      <td>Velocidade Incompatível</td>\n",
       "      <td>Colisão com objeto estático</td>\n",
       "      <td>Com Vítimas Feridas</td>\n",
       "      <td>Plena Noite</td>\n",
       "      <td>Céu Claro</td>\n",
       "      <td>Simples</td>\n",
       "      <td>Viaduto</td>\n",
       "      <td>Urbano</td>\n",
       "      <td>Automóvel</td>\n",
       "      <td>Passageiro</td>\n",
       "      <td>Lesões Leves</td>\n",
       "      <td>Feminino</td>\n",
       "      <td>-19.9566</td>\n",
       "      <td>-44.3444</td>\n",
       "      <td>Homem</td>\n",
       "      <td>0</td>\n",
       "      <td>0</td>\n",
       "      <td>1</td>\n",
       "      <td>0</td>\n",
       "    </tr>\n",
       "    <tr>\n",
       "      <th>4</th>\n",
       "      <td>52</td>\n",
       "      <td>1519</td>\n",
       "      <td>2017-01-01</td>\n",
       "      <td>domingo</td>\n",
       "      <td>05:00:00</td>\n",
       "      <td>MG</td>\n",
       "      <td>262</td>\n",
       "      <td>368.0</td>\n",
       "      <td>JUATUBA</td>\n",
       "      <td>Velocidade Incompatível</td>\n",
       "      <td>Colisão com objeto estático</td>\n",
       "      <td>Com Vítimas Feridas</td>\n",
       "      <td>Plena Noite</td>\n",
       "      <td>Céu Claro</td>\n",
       "      <td>Simples</td>\n",
       "      <td>Viaduto</td>\n",
       "      <td>Urbano</td>\n",
       "      <td>Automóvel</td>\n",
       "      <td>Condutor</td>\n",
       "      <td>Lesões Leves</td>\n",
       "      <td>Masculino</td>\n",
       "      <td>-19.9566</td>\n",
       "      <td>-44.3444</td>\n",
       "      <td>Homem</td>\n",
       "      <td>0</td>\n",
       "      <td>0</td>\n",
       "      <td>1</td>\n",
       "      <td>0</td>\n",
       "    </tr>\n",
       "  </tbody>\n",
       "</table>\n",
       "</div>"
      ],
      "text/plain": [
       "   id  pesid data_inversa dia_semana   horario  uf   br     km municipio           causa_acidente                tipo_acidente classificacao_acidente     fase_dia condicao_metereologica tipo_pista tracado_via uso_solo tipo_veiculo tipo_envolvido estado_fisico       sexo  latitude  longitude elemento_transito  ilesos  feridos_graves  feridos_leves  mortos\n",
       "0  47     44   2017-01-01    domingo  04:50:00  MG  381  605.0  OLIVEIRA        Condutor Dormindo    Saída de leito carroçável    Com Vítimas Feridas    Amanhecer              Céu Claro      Dupla        Reta    Rural    Automóvel       Condutor  Lesões Leves  Masculino  -20.6370   -44.7357             Homem       0               0              1       0\n",
       "1  47     45   2017-01-01    domingo  04:50:00  MG  381  605.0  OLIVEIRA        Condutor Dormindo    Saída de leito carroçável    Com Vítimas Feridas    Amanhecer              Céu Claro      Dupla        Reta    Rural    Automóvel     Passageiro  Lesões Leves  Masculino  -20.6370   -44.7357             Homem       0               0              1       0\n",
       "2  52   1528   2017-01-01    domingo  05:00:00  MG  262  368.0   JUATUBA  Velocidade Incompatível  Colisão com objeto estático    Com Vítimas Feridas  Plena Noite              Céu Claro    Simples     Viaduto   Urbano    Automóvel     Passageiro  Lesões Leves  Masculino  -19.9566   -44.3444             Homem       0               0              1       0\n",
       "3  52   1526   2017-01-01    domingo  05:00:00  MG  262  368.0   JUATUBA  Velocidade Incompatível  Colisão com objeto estático    Com Vítimas Feridas  Plena Noite              Céu Claro    Simples     Viaduto   Urbano    Automóvel     Passageiro  Lesões Leves   Feminino  -19.9566   -44.3444             Homem       0               0              1       0\n",
       "4  52   1519   2017-01-01    domingo  05:00:00  MG  262  368.0   JUATUBA  Velocidade Incompatível  Colisão com objeto estático    Com Vítimas Feridas  Plena Noite              Céu Claro    Simples     Viaduto   Urbano    Automóvel       Condutor  Lesões Leves  Masculino  -19.9566   -44.3444             Homem       0               0              1       0"
      ]
     },
     "execution_count": 28,
     "metadata": {},
     "output_type": "execute_result"
    }
   ],
   "source": [
    "#Verificando o dataset novamente modificado de acidentes\n",
    "acidentes_mg.head()"
   ]
  },
  {
   "cell_type": "code",
   "execution_count": 85,
   "metadata": {},
   "outputs": [
    {
     "data": {
      "text/plain": [
       "Ileso            40160\n",
       "Lesões Leves     37775\n",
       "Lesões Graves    10382\n",
       "Óbito             3472\n",
       "Name: estado_fisico, dtype: int64"
      ]
     },
     "execution_count": 85,
     "metadata": {},
     "output_type": "execute_result"
    }
   ],
   "source": [
    "#Verificando o dataset novamente modificado de acidentes\n",
    "acidentes_mg['estado_fisico'].value_counts()"
   ]
  },
  {
   "cell_type": "code",
   "execution_count": 29,
   "metadata": {},
   "outputs": [
    {
     "name": "stdout",
     "output_type": "stream",
     "text": [
      "Total de pessoas envolvidas:  91789\n",
      "Ilesos:  40160\n",
      "Feridos Leves:  37775\n",
      "Feridos Graves:  10382\n",
      "Mortos:  3472\n"
     ]
    }
   ],
   "source": [
    "#Confirmando os valores alterados de acidentes\n",
    "print('Total de pessoas envolvidas: ', acidentes_mg['id'].count())\n",
    "print('Ilesos: ',acidentes_mg.ilesos.sum())\n",
    "print('Feridos Leves: ',acidentes_mg.feridos_leves.sum())\n",
    "print('Feridos Graves: ',acidentes_mg.feridos_graves.sum())\n",
    "print('Mortos: ',acidentes_mg.mortos.sum())"
   ]
  },
  {
   "cell_type": "code",
   "execution_count": 89,
   "metadata": {},
   "outputs": [
    {
     "name": "stdout",
     "output_type": "stream",
     "text": [
      "<class 'pandas.core.frame.DataFrame'>\n",
      "RangeIndex: 91789 entries, 0 to 91788\n",
      "Data columns (total 28 columns):\n",
      " #   Column                  Non-Null Count  Dtype         \n",
      "---  ------                  --------------  -----         \n",
      " 0   id                      91789 non-null  int64         \n",
      " 1   pesid                   91789 non-null  int64         \n",
      " 2   data_inversa            91789 non-null  datetime64[ns]\n",
      " 3   dia_semana              91789 non-null  object        \n",
      " 4   horario                 91789 non-null  object        \n",
      " 5   uf                      91789 non-null  object        \n",
      " 6   br                      91789 non-null  int64         \n",
      " 7   km                      91789 non-null  float64       \n",
      " 8   municipio               91789 non-null  object        \n",
      " 9   causa_acidente          91789 non-null  object        \n",
      " 10  tipo_acidente           91789 non-null  object        \n",
      " 11  classificacao_acidente  91789 non-null  object        \n",
      " 12  fase_dia                91789 non-null  object        \n",
      " 13  condicao_metereologica  91789 non-null  object        \n",
      " 14  tipo_pista              91789 non-null  object        \n",
      " 15  tracado_via             91789 non-null  object        \n",
      " 16  uso_solo                91789 non-null  object        \n",
      " 17  tipo_veiculo            91789 non-null  object        \n",
      " 18  tipo_envolvido          91789 non-null  object        \n",
      " 19  estado_fisico           91789 non-null  object        \n",
      " 20  sexo                    91789 non-null  object        \n",
      " 21  latitude                91789 non-null  float64       \n",
      " 22  longitude               91789 non-null  float64       \n",
      " 23  elemento_transito       91789 non-null  object        \n",
      " 24  ilesos                  91789 non-null  uint8         \n",
      " 25  feridos_graves          91789 non-null  uint8         \n",
      " 26  feridos_leves           91789 non-null  uint8         \n",
      " 27  mortos                  91789 non-null  uint8         \n",
      "dtypes: datetime64[ns](1), float64(3), int64(3), object(17), uint8(4)\n",
      "memory usage: 17.2+ MB\n"
     ]
    }
   ],
   "source": [
    "#Confirmando a estrutura de acidentes\n",
    "acidentes_mg.info()"
   ]
  },
  {
   "cell_type": "code",
   "execution_count": 87,
   "metadata": {},
   "outputs": [
    {
     "data": {
      "text/plain": [
       "id                        0\n",
       "pesid                     0\n",
       "data_inversa              0\n",
       "dia_semana                0\n",
       "horario                   0\n",
       "uf                        0\n",
       "br                        0\n",
       "km                        0\n",
       "municipio                 0\n",
       "causa_acidente            0\n",
       "tipo_acidente             0\n",
       "classificacao_acidente    0\n",
       "fase_dia                  0\n",
       "condicao_metereologica    0\n",
       "tipo_pista                0\n",
       "tracado_via               0\n",
       "uso_solo                  0\n",
       "tipo_veiculo              0\n",
       "tipo_envolvido            0\n",
       "estado_fisico             0\n",
       "sexo                      0\n",
       "latitude                  0\n",
       "longitude                 0\n",
       "elemento_transito         0\n",
       "ilesos                    0\n",
       "feridos_graves            0\n",
       "feridos_leves             0\n",
       "mortos                    0\n",
       "dtype: int64"
      ]
     },
     "execution_count": 87,
     "metadata": {},
     "output_type": "execute_result"
    }
   ],
   "source": [
    "#Verificando que não existem valores nulos\n",
    "acidentes_mg.isnull().sum()"
   ]
  },
  {
   "cell_type": "code",
   "execution_count": 90,
   "metadata": {},
   "outputs": [],
   "source": [
    "#Salvando as modificações feitas do novo \"dataset\" acidentes_mg\n",
    "acidentes_mg.to_csv(r\"C:\\Users\\lilia\\Downloads\\TCC PUC\\csv\\acidentes_mg5.csv\", index = False, header = True, sep=';', decimal=',', encoding = 'cp1252')"
   ]
  },
  {
   "cell_type": "code",
   "execution_count": 216,
   "metadata": {},
   "outputs": [],
   "source": [
    "#Lendo os arquivos de acidentes e datatran\n",
    "datatran_mg = pd.read_csv(r\"C:\\Users\\lilia\\Downloads\\TCC PUC\\csv\\datatran_mg3.csv\", sep=';', decimal=',', encoding = 'cp1252', parse_dates = ['data_inversa'])\n",
    "acidentes_mg = pd.read_csv(r\"C:\\Users\\lilia\\Downloads\\TCC PUC\\csv\\acidentes_mg5.csv\", sep=';', decimal=',', encoding = 'cp1252', parse_dates = ['data_inversa'])"
   ]
  },
  {
   "cell_type": "code",
   "execution_count": 217,
   "metadata": {},
   "outputs": [
    {
     "name": "stdout",
     "output_type": "stream",
     "text": [
      "<class 'pandas.core.frame.DataFrame'>\n",
      "RangeIndex: 38835 entries, 0 to 38834\n",
      "Data columns (total 27 columns):\n",
      " #   Column                  Non-Null Count  Dtype         \n",
      "---  ------                  --------------  -----         \n",
      " 0   id                      38835 non-null  int64         \n",
      " 1   data_inversa            38835 non-null  datetime64[ns]\n",
      " 2   dia_semana              38835 non-null  object        \n",
      " 3   horario                 38835 non-null  object        \n",
      " 4   uf                      38835 non-null  object        \n",
      " 5   br                      38835 non-null  int64         \n",
      " 6   km                      38835 non-null  int64         \n",
      " 7   municipio               38835 non-null  object        \n",
      " 8   causa_acidente          38835 non-null  object        \n",
      " 9   tipo_acidente           38835 non-null  object        \n",
      " 10  classificacao_acidente  38835 non-null  object        \n",
      " 11  fase_dia                38835 non-null  object        \n",
      " 12  condicao_metereologica  38835 non-null  object        \n",
      " 13  tipo_pista              38835 non-null  object        \n",
      " 14  tracado_via             38835 non-null  object        \n",
      " 15  uso_solo                38835 non-null  object        \n",
      " 16  pessoas                 38835 non-null  int64         \n",
      " 17  mortos                  38835 non-null  int64         \n",
      " 18  feridos_leves           38835 non-null  int64         \n",
      " 19  feridos_graves          38835 non-null  int64         \n",
      " 20  ilesos                  38835 non-null  int64         \n",
      " 21  ignorados               38835 non-null  int64         \n",
      " 22  feridos                 38835 non-null  int64         \n",
      " 23  veiculos                38835 non-null  int64         \n",
      " 24  latitude                38835 non-null  float64       \n",
      " 25  longitude               38835 non-null  float64       \n",
      " 26  elemento_transito       38835 non-null  object        \n",
      "dtypes: datetime64[ns](1), float64(2), int64(11), object(13)\n",
      "memory usage: 8.0+ MB\n"
     ]
    }
   ],
   "source": [
    "#Confirmando a estrutura de datatran\n",
    "datatran_mg.info()"
   ]
  },
  {
   "cell_type": "code",
   "execution_count": 218,
   "metadata": {},
   "outputs": [
    {
     "data": {
      "text/html": [
       "<div>\n",
       "<style scoped>\n",
       "    .dataframe tbody tr th:only-of-type {\n",
       "        vertical-align: middle;\n",
       "    }\n",
       "\n",
       "    .dataframe tbody tr th {\n",
       "        vertical-align: top;\n",
       "    }\n",
       "\n",
       "    .dataframe thead th {\n",
       "        text-align: right;\n",
       "    }\n",
       "</style>\n",
       "<table border=\"1\" class=\"dataframe\">\n",
       "  <thead>\n",
       "    <tr style=\"text-align: right;\">\n",
       "      <th></th>\n",
       "      <th>id</th>\n",
       "      <th>data_inversa</th>\n",
       "      <th>dia_semana</th>\n",
       "      <th>horario</th>\n",
       "      <th>uf</th>\n",
       "      <th>br</th>\n",
       "      <th>km</th>\n",
       "      <th>municipio</th>\n",
       "      <th>causa_acidente</th>\n",
       "      <th>tipo_acidente</th>\n",
       "      <th>classificacao_acidente</th>\n",
       "      <th>fase_dia</th>\n",
       "      <th>condicao_metereologica</th>\n",
       "      <th>tipo_pista</th>\n",
       "      <th>tracado_via</th>\n",
       "      <th>uso_solo</th>\n",
       "      <th>pessoas</th>\n",
       "      <th>mortos</th>\n",
       "      <th>feridos_leves</th>\n",
       "      <th>feridos_graves</th>\n",
       "      <th>ilesos</th>\n",
       "      <th>ignorados</th>\n",
       "      <th>feridos</th>\n",
       "      <th>veiculos</th>\n",
       "      <th>latitude</th>\n",
       "      <th>longitude</th>\n",
       "      <th>elemento_transito</th>\n",
       "    </tr>\n",
       "  </thead>\n",
       "  <tbody>\n",
       "    <tr>\n",
       "      <th>0</th>\n",
       "      <td>47</td>\n",
       "      <td>2017-01-01</td>\n",
       "      <td>domingo</td>\n",
       "      <td>04:50:00</td>\n",
       "      <td>MG</td>\n",
       "      <td>381</td>\n",
       "      <td>605</td>\n",
       "      <td>OLIVEIRA</td>\n",
       "      <td>Condutor Dormindo</td>\n",
       "      <td>Saída de leito carroçável</td>\n",
       "      <td>Com Vítimas Feridas</td>\n",
       "      <td>Amanhecer</td>\n",
       "      <td>Céu Claro</td>\n",
       "      <td>Dupla</td>\n",
       "      <td>Reta</td>\n",
       "      <td>Rural</td>\n",
       "      <td>2</td>\n",
       "      <td>0</td>\n",
       "      <td>2</td>\n",
       "      <td>0</td>\n",
       "      <td>0</td>\n",
       "      <td>0</td>\n",
       "      <td>2</td>\n",
       "      <td>1</td>\n",
       "      <td>-20.6370</td>\n",
       "      <td>-44.7357</td>\n",
       "      <td>Homem</td>\n",
       "    </tr>\n",
       "    <tr>\n",
       "      <th>1</th>\n",
       "      <td>52</td>\n",
       "      <td>2017-01-01</td>\n",
       "      <td>domingo</td>\n",
       "      <td>05:00:00</td>\n",
       "      <td>MG</td>\n",
       "      <td>262</td>\n",
       "      <td>368</td>\n",
       "      <td>JUATUBA</td>\n",
       "      <td>Velocidade Incompatível</td>\n",
       "      <td>Colisão com objeto estático</td>\n",
       "      <td>Com Vítimas Feridas</td>\n",
       "      <td>Plena Noite</td>\n",
       "      <td>Céu Claro</td>\n",
       "      <td>Simples</td>\n",
       "      <td>Viaduto</td>\n",
       "      <td>Urbano</td>\n",
       "      <td>3</td>\n",
       "      <td>0</td>\n",
       "      <td>3</td>\n",
       "      <td>0</td>\n",
       "      <td>0</td>\n",
       "      <td>0</td>\n",
       "      <td>3</td>\n",
       "      <td>1</td>\n",
       "      <td>-19.9566</td>\n",
       "      <td>-44.3444</td>\n",
       "      <td>Homem</td>\n",
       "    </tr>\n",
       "    <tr>\n",
       "      <th>2</th>\n",
       "      <td>53</td>\n",
       "      <td>2017-01-01</td>\n",
       "      <td>domingo</td>\n",
       "      <td>05:00:00</td>\n",
       "      <td>MG</td>\n",
       "      <td>459</td>\n",
       "      <td>14</td>\n",
       "      <td>CALDAS</td>\n",
       "      <td>Falta de Atenção à Condução</td>\n",
       "      <td>Saída de leito carroçável</td>\n",
       "      <td>Sem Vítimas</td>\n",
       "      <td>Amanhecer</td>\n",
       "      <td>Céu Claro</td>\n",
       "      <td>Simples</td>\n",
       "      <td>Curva</td>\n",
       "      <td>Rural</td>\n",
       "      <td>1</td>\n",
       "      <td>0</td>\n",
       "      <td>0</td>\n",
       "      <td>0</td>\n",
       "      <td>1</td>\n",
       "      <td>0</td>\n",
       "      <td>0</td>\n",
       "      <td>1</td>\n",
       "      <td>-21.8459</td>\n",
       "      <td>-46.4388</td>\n",
       "      <td>Homem</td>\n",
       "    </tr>\n",
       "    <tr>\n",
       "      <th>3</th>\n",
       "      <td>61</td>\n",
       "      <td>2017-01-01</td>\n",
       "      <td>domingo</td>\n",
       "      <td>05:00:00</td>\n",
       "      <td>MG</td>\n",
       "      <td>262</td>\n",
       "      <td>186</td>\n",
       "      <td>SAO DOMINGOS DO PRATA</td>\n",
       "      <td>Condutor Dormindo</td>\n",
       "      <td>Saída de leito carroçável</td>\n",
       "      <td>Com Vítimas Feridas</td>\n",
       "      <td>Plena Noite</td>\n",
       "      <td>Céu Claro</td>\n",
       "      <td>Simples</td>\n",
       "      <td>Curva</td>\n",
       "      <td>Rural</td>\n",
       "      <td>1</td>\n",
       "      <td>0</td>\n",
       "      <td>1</td>\n",
       "      <td>0</td>\n",
       "      <td>0</td>\n",
       "      <td>0</td>\n",
       "      <td>1</td>\n",
       "      <td>1</td>\n",
       "      <td>-19.8942</td>\n",
       "      <td>-43.0403</td>\n",
       "      <td>Homem</td>\n",
       "    </tr>\n",
       "    <tr>\n",
       "      <th>4</th>\n",
       "      <td>63</td>\n",
       "      <td>2017-01-01</td>\n",
       "      <td>domingo</td>\n",
       "      <td>06:00:00</td>\n",
       "      <td>MG</td>\n",
       "      <td>135</td>\n",
       "      <td>408</td>\n",
       "      <td>BOCAIUVA</td>\n",
       "      <td>Animais na Pista</td>\n",
       "      <td>Atropelamento de Animal</td>\n",
       "      <td>Com Vítimas Feridas</td>\n",
       "      <td>Amanhecer</td>\n",
       "      <td>Céu Claro</td>\n",
       "      <td>Simples</td>\n",
       "      <td>Reta</td>\n",
       "      <td>Rural</td>\n",
       "      <td>3</td>\n",
       "      <td>0</td>\n",
       "      <td>1</td>\n",
       "      <td>0</td>\n",
       "      <td>2</td>\n",
       "      <td>0</td>\n",
       "      <td>1</td>\n",
       "      <td>1</td>\n",
       "      <td>-16.9614</td>\n",
       "      <td>-43.8590</td>\n",
       "      <td>Via</td>\n",
       "    </tr>\n",
       "  </tbody>\n",
       "</table>\n",
       "</div>"
      ],
      "text/plain": [
       "   id data_inversa dia_semana   horario  uf   br   km              municipio               causa_acidente                tipo_acidente classificacao_acidente     fase_dia condicao_metereologica tipo_pista tracado_via uso_solo  pessoas  mortos  feridos_leves  feridos_graves  ilesos  ignorados  feridos  veiculos  latitude  longitude elemento_transito\n",
       "0  47   2017-01-01    domingo  04:50:00  MG  381  605               OLIVEIRA            Condutor Dormindo    Saída de leito carroçável    Com Vítimas Feridas    Amanhecer              Céu Claro      Dupla        Reta    Rural        2       0              2               0       0          0        2         1  -20.6370   -44.7357             Homem\n",
       "1  52   2017-01-01    domingo  05:00:00  MG  262  368                JUATUBA      Velocidade Incompatível  Colisão com objeto estático    Com Vítimas Feridas  Plena Noite              Céu Claro    Simples     Viaduto   Urbano        3       0              3               0       0          0        3         1  -19.9566   -44.3444             Homem\n",
       "2  53   2017-01-01    domingo  05:00:00  MG  459   14                 CALDAS  Falta de Atenção à Condução    Saída de leito carroçável            Sem Vítimas    Amanhecer              Céu Claro    Simples       Curva    Rural        1       0              0               0       1          0        0         1  -21.8459   -46.4388             Homem\n",
       "3  61   2017-01-01    domingo  05:00:00  MG  262  186  SAO DOMINGOS DO PRATA            Condutor Dormindo    Saída de leito carroçável    Com Vítimas Feridas  Plena Noite              Céu Claro    Simples       Curva    Rural        1       0              1               0       0          0        1         1  -19.8942   -43.0403             Homem\n",
       "4  63   2017-01-01    domingo  06:00:00  MG  135  408               BOCAIUVA             Animais na Pista      Atropelamento de Animal    Com Vítimas Feridas    Amanhecer              Céu Claro    Simples        Reta    Rural        3       0              1               0       2          0        1         1  -16.9614   -43.8590               Via"
      ]
     },
     "execution_count": 218,
     "metadata": {},
     "output_type": "execute_result"
    }
   ],
   "source": [
    "#Verificando a estrutura e dados de datatran\n",
    "datatran_mg.head()"
   ]
  },
  {
   "cell_type": "code",
   "execution_count": 219,
   "metadata": {},
   "outputs": [],
   "source": [
    "#Agregando os valores por estado das vítimas em acidentes\n",
    "estado_vitimas = pd.DataFrame(acidentes_mg.groupby(acidentes_mg['id']).agg({'ilesos' : 'sum', 'feridos_graves' : 'sum', 'feridos_leves' : 'sum', 'mortos' : 'sum'}).reset_index())\n",
    "estado_vitimas.drop(labels=['id'],axis= 1, inplace = True)"
   ]
  },
  {
   "cell_type": "code",
   "execution_count": 220,
   "metadata": {},
   "outputs": [
    {
     "data": {
      "text/html": [
       "<div>\n",
       "<style scoped>\n",
       "    .dataframe tbody tr th:only-of-type {\n",
       "        vertical-align: middle;\n",
       "    }\n",
       "\n",
       "    .dataframe tbody tr th {\n",
       "        vertical-align: top;\n",
       "    }\n",
       "\n",
       "    .dataframe thead th {\n",
       "        text-align: right;\n",
       "    }\n",
       "</style>\n",
       "<table border=\"1\" class=\"dataframe\">\n",
       "  <thead>\n",
       "    <tr style=\"text-align: right;\">\n",
       "      <th></th>\n",
       "      <th>ilesos</th>\n",
       "      <th>feridos_graves</th>\n",
       "      <th>feridos_leves</th>\n",
       "      <th>mortos</th>\n",
       "    </tr>\n",
       "  </thead>\n",
       "  <tbody>\n",
       "    <tr>\n",
       "      <th>0</th>\n",
       "      <td>0</td>\n",
       "      <td>0</td>\n",
       "      <td>2</td>\n",
       "      <td>0</td>\n",
       "    </tr>\n",
       "    <tr>\n",
       "      <th>1</th>\n",
       "      <td>0</td>\n",
       "      <td>0</td>\n",
       "      <td>3</td>\n",
       "      <td>0</td>\n",
       "    </tr>\n",
       "    <tr>\n",
       "      <th>2</th>\n",
       "      <td>1</td>\n",
       "      <td>0</td>\n",
       "      <td>0</td>\n",
       "      <td>0</td>\n",
       "    </tr>\n",
       "    <tr>\n",
       "      <th>3</th>\n",
       "      <td>0</td>\n",
       "      <td>0</td>\n",
       "      <td>1</td>\n",
       "      <td>0</td>\n",
       "    </tr>\n",
       "    <tr>\n",
       "      <th>4</th>\n",
       "      <td>2</td>\n",
       "      <td>0</td>\n",
       "      <td>1</td>\n",
       "      <td>0</td>\n",
       "    </tr>\n",
       "    <tr>\n",
       "      <th>...</th>\n",
       "      <td>...</td>\n",
       "      <td>...</td>\n",
       "      <td>...</td>\n",
       "      <td>...</td>\n",
       "    </tr>\n",
       "    <tr>\n",
       "      <th>38830</th>\n",
       "      <td>0</td>\n",
       "      <td>1</td>\n",
       "      <td>0</td>\n",
       "      <td>0</td>\n",
       "    </tr>\n",
       "    <tr>\n",
       "      <th>38831</th>\n",
       "      <td>0</td>\n",
       "      <td>0</td>\n",
       "      <td>1</td>\n",
       "      <td>0</td>\n",
       "    </tr>\n",
       "    <tr>\n",
       "      <th>38832</th>\n",
       "      <td>0</td>\n",
       "      <td>0</td>\n",
       "      <td>2</td>\n",
       "      <td>0</td>\n",
       "    </tr>\n",
       "    <tr>\n",
       "      <th>38833</th>\n",
       "      <td>1</td>\n",
       "      <td>1</td>\n",
       "      <td>0</td>\n",
       "      <td>0</td>\n",
       "    </tr>\n",
       "    <tr>\n",
       "      <th>38834</th>\n",
       "      <td>1</td>\n",
       "      <td>0</td>\n",
       "      <td>0</td>\n",
       "      <td>0</td>\n",
       "    </tr>\n",
       "  </tbody>\n",
       "</table>\n",
       "<p>38835 rows × 4 columns</p>\n",
       "</div>"
      ],
      "text/plain": [
       "       ilesos  feridos_graves  feridos_leves  mortos\n",
       "0           0               0              2       0\n",
       "1           0               0              3       0\n",
       "2           1               0              0       0\n",
       "3           0               0              1       0\n",
       "4           2               0              1       0\n",
       "...       ...             ...            ...     ...\n",
       "38830       0               1              0       0\n",
       "38831       0               0              1       0\n",
       "38832       0               0              2       0\n",
       "38833       1               1              0       0\n",
       "38834       1               0              0       0\n",
       "\n",
       "[38835 rows x 4 columns]"
      ]
     },
     "execution_count": 220,
     "metadata": {},
     "output_type": "execute_result"
    }
   ],
   "source": [
    "#Verificando 'estado_vitimas'\n",
    "estado_vitimas"
   ]
  },
  {
   "cell_type": "code",
   "execution_count": 221,
   "metadata": {},
   "outputs": [
    {
     "data": {
      "text/plain": [
       "3472"
      ]
     },
     "execution_count": 221,
     "metadata": {},
     "output_type": "execute_result"
    }
   ],
   "source": [
    "#Confirmando a quantidade de vítimas que vieram a óbito\n",
    "estado_vitimas['mortos'].sum()"
   ]
  },
  {
   "cell_type": "code",
   "execution_count": 222,
   "metadata": {},
   "outputs": [
    {
     "data": {
      "text/plain": [
       "4837"
      ]
     },
     "execution_count": 222,
     "metadata": {},
     "output_type": "execute_result"
    }
   ],
   "source": [
    "#Verificando a quantidade de 'ignorados' em datatran\n",
    "datatran_mg['ignorados'].sum()\n",
    "#valor é igual ao de 'Não Informado' em acidentes"
   ]
  },
  {
   "cell_type": "code",
   "execution_count": 223,
   "metadata": {},
   "outputs": [],
   "source": [
    "#Unindo datatran_mg com a 'estado_vitimas'\n",
    "datatran_mg.drop(labels=['ilesos','feridos_leves','feridos_graves','mortos','ignorados'],axis= 1, inplace = True)\n",
    "datatran_mg = pd.concat([datatran_mg, estado_vitimas], axis= 1, join='outer')"
   ]
  },
  {
   "cell_type": "code",
   "execution_count": 224,
   "metadata": {},
   "outputs": [
    {
     "data": {
      "text/html": [
       "<div>\n",
       "<style scoped>\n",
       "    .dataframe tbody tr th:only-of-type {\n",
       "        vertical-align: middle;\n",
       "    }\n",
       "\n",
       "    .dataframe tbody tr th {\n",
       "        vertical-align: top;\n",
       "    }\n",
       "\n",
       "    .dataframe thead th {\n",
       "        text-align: right;\n",
       "    }\n",
       "</style>\n",
       "<table border=\"1\" class=\"dataframe\">\n",
       "  <thead>\n",
       "    <tr style=\"text-align: right;\">\n",
       "      <th></th>\n",
       "      <th>id</th>\n",
       "      <th>data_inversa</th>\n",
       "      <th>dia_semana</th>\n",
       "      <th>horario</th>\n",
       "      <th>uf</th>\n",
       "      <th>br</th>\n",
       "      <th>km</th>\n",
       "      <th>municipio</th>\n",
       "      <th>causa_acidente</th>\n",
       "      <th>tipo_acidente</th>\n",
       "      <th>classificacao_acidente</th>\n",
       "      <th>fase_dia</th>\n",
       "      <th>condicao_metereologica</th>\n",
       "      <th>tipo_pista</th>\n",
       "      <th>tracado_via</th>\n",
       "      <th>uso_solo</th>\n",
       "      <th>pessoas</th>\n",
       "      <th>feridos</th>\n",
       "      <th>veiculos</th>\n",
       "      <th>latitude</th>\n",
       "      <th>longitude</th>\n",
       "      <th>elemento_transito</th>\n",
       "      <th>ilesos</th>\n",
       "      <th>feridos_graves</th>\n",
       "      <th>feridos_leves</th>\n",
       "      <th>mortos</th>\n",
       "    </tr>\n",
       "  </thead>\n",
       "  <tbody>\n",
       "    <tr>\n",
       "      <th>0</th>\n",
       "      <td>47</td>\n",
       "      <td>2017-01-01</td>\n",
       "      <td>domingo</td>\n",
       "      <td>04:50:00</td>\n",
       "      <td>MG</td>\n",
       "      <td>381</td>\n",
       "      <td>605</td>\n",
       "      <td>OLIVEIRA</td>\n",
       "      <td>Condutor Dormindo</td>\n",
       "      <td>Saída de leito carroçável</td>\n",
       "      <td>Com Vítimas Feridas</td>\n",
       "      <td>Amanhecer</td>\n",
       "      <td>Céu Claro</td>\n",
       "      <td>Dupla</td>\n",
       "      <td>Reta</td>\n",
       "      <td>Rural</td>\n",
       "      <td>2</td>\n",
       "      <td>2</td>\n",
       "      <td>1</td>\n",
       "      <td>-20.6370</td>\n",
       "      <td>-44.7357</td>\n",
       "      <td>Homem</td>\n",
       "      <td>0</td>\n",
       "      <td>0</td>\n",
       "      <td>2</td>\n",
       "      <td>0</td>\n",
       "    </tr>\n",
       "    <tr>\n",
       "      <th>1</th>\n",
       "      <td>52</td>\n",
       "      <td>2017-01-01</td>\n",
       "      <td>domingo</td>\n",
       "      <td>05:00:00</td>\n",
       "      <td>MG</td>\n",
       "      <td>262</td>\n",
       "      <td>368</td>\n",
       "      <td>JUATUBA</td>\n",
       "      <td>Velocidade Incompatível</td>\n",
       "      <td>Colisão com objeto estático</td>\n",
       "      <td>Com Vítimas Feridas</td>\n",
       "      <td>Plena Noite</td>\n",
       "      <td>Céu Claro</td>\n",
       "      <td>Simples</td>\n",
       "      <td>Viaduto</td>\n",
       "      <td>Urbano</td>\n",
       "      <td>3</td>\n",
       "      <td>3</td>\n",
       "      <td>1</td>\n",
       "      <td>-19.9566</td>\n",
       "      <td>-44.3444</td>\n",
       "      <td>Homem</td>\n",
       "      <td>0</td>\n",
       "      <td>0</td>\n",
       "      <td>3</td>\n",
       "      <td>0</td>\n",
       "    </tr>\n",
       "    <tr>\n",
       "      <th>2</th>\n",
       "      <td>53</td>\n",
       "      <td>2017-01-01</td>\n",
       "      <td>domingo</td>\n",
       "      <td>05:00:00</td>\n",
       "      <td>MG</td>\n",
       "      <td>459</td>\n",
       "      <td>14</td>\n",
       "      <td>CALDAS</td>\n",
       "      <td>Falta de Atenção à Condução</td>\n",
       "      <td>Saída de leito carroçável</td>\n",
       "      <td>Sem Vítimas</td>\n",
       "      <td>Amanhecer</td>\n",
       "      <td>Céu Claro</td>\n",
       "      <td>Simples</td>\n",
       "      <td>Curva</td>\n",
       "      <td>Rural</td>\n",
       "      <td>1</td>\n",
       "      <td>0</td>\n",
       "      <td>1</td>\n",
       "      <td>-21.8459</td>\n",
       "      <td>-46.4388</td>\n",
       "      <td>Homem</td>\n",
       "      <td>1</td>\n",
       "      <td>0</td>\n",
       "      <td>0</td>\n",
       "      <td>0</td>\n",
       "    </tr>\n",
       "    <tr>\n",
       "      <th>3</th>\n",
       "      <td>61</td>\n",
       "      <td>2017-01-01</td>\n",
       "      <td>domingo</td>\n",
       "      <td>05:00:00</td>\n",
       "      <td>MG</td>\n",
       "      <td>262</td>\n",
       "      <td>186</td>\n",
       "      <td>SAO DOMINGOS DO PRATA</td>\n",
       "      <td>Condutor Dormindo</td>\n",
       "      <td>Saída de leito carroçável</td>\n",
       "      <td>Com Vítimas Feridas</td>\n",
       "      <td>Plena Noite</td>\n",
       "      <td>Céu Claro</td>\n",
       "      <td>Simples</td>\n",
       "      <td>Curva</td>\n",
       "      <td>Rural</td>\n",
       "      <td>1</td>\n",
       "      <td>1</td>\n",
       "      <td>1</td>\n",
       "      <td>-19.8942</td>\n",
       "      <td>-43.0403</td>\n",
       "      <td>Homem</td>\n",
       "      <td>0</td>\n",
       "      <td>0</td>\n",
       "      <td>1</td>\n",
       "      <td>0</td>\n",
       "    </tr>\n",
       "    <tr>\n",
       "      <th>4</th>\n",
       "      <td>63</td>\n",
       "      <td>2017-01-01</td>\n",
       "      <td>domingo</td>\n",
       "      <td>06:00:00</td>\n",
       "      <td>MG</td>\n",
       "      <td>135</td>\n",
       "      <td>408</td>\n",
       "      <td>BOCAIUVA</td>\n",
       "      <td>Animais na Pista</td>\n",
       "      <td>Atropelamento de Animal</td>\n",
       "      <td>Com Vítimas Feridas</td>\n",
       "      <td>Amanhecer</td>\n",
       "      <td>Céu Claro</td>\n",
       "      <td>Simples</td>\n",
       "      <td>Reta</td>\n",
       "      <td>Rural</td>\n",
       "      <td>3</td>\n",
       "      <td>1</td>\n",
       "      <td>1</td>\n",
       "      <td>-16.9614</td>\n",
       "      <td>-43.8590</td>\n",
       "      <td>Via</td>\n",
       "      <td>2</td>\n",
       "      <td>0</td>\n",
       "      <td>1</td>\n",
       "      <td>0</td>\n",
       "    </tr>\n",
       "  </tbody>\n",
       "</table>\n",
       "</div>"
      ],
      "text/plain": [
       "   id data_inversa dia_semana   horario  uf   br   km              municipio               causa_acidente                tipo_acidente classificacao_acidente     fase_dia condicao_metereologica tipo_pista tracado_via uso_solo  pessoas  feridos  veiculos  latitude  longitude elemento_transito  ilesos  feridos_graves  feridos_leves  mortos\n",
       "0  47   2017-01-01    domingo  04:50:00  MG  381  605               OLIVEIRA            Condutor Dormindo    Saída de leito carroçável    Com Vítimas Feridas    Amanhecer              Céu Claro      Dupla        Reta    Rural        2        2         1  -20.6370   -44.7357             Homem       0               0              2       0\n",
       "1  52   2017-01-01    domingo  05:00:00  MG  262  368                JUATUBA      Velocidade Incompatível  Colisão com objeto estático    Com Vítimas Feridas  Plena Noite              Céu Claro    Simples     Viaduto   Urbano        3        3         1  -19.9566   -44.3444             Homem       0               0              3       0\n",
       "2  53   2017-01-01    domingo  05:00:00  MG  459   14                 CALDAS  Falta de Atenção à Condução    Saída de leito carroçável            Sem Vítimas    Amanhecer              Céu Claro    Simples       Curva    Rural        1        0         1  -21.8459   -46.4388             Homem       1               0              0       0\n",
       "3  61   2017-01-01    domingo  05:00:00  MG  262  186  SAO DOMINGOS DO PRATA            Condutor Dormindo    Saída de leito carroçável    Com Vítimas Feridas  Plena Noite              Céu Claro    Simples       Curva    Rural        1        1         1  -19.8942   -43.0403             Homem       0               0              1       0\n",
       "4  63   2017-01-01    domingo  06:00:00  MG  135  408               BOCAIUVA             Animais na Pista      Atropelamento de Animal    Com Vítimas Feridas    Amanhecer              Céu Claro    Simples        Reta    Rural        3        1         1  -16.9614   -43.8590               Via       2               0              1       0"
      ]
     },
     "execution_count": 224,
     "metadata": {},
     "output_type": "execute_result"
    }
   ],
   "source": [
    "datatran_mg.head()"
   ]
  },
  {
   "cell_type": "code",
   "execution_count": 225,
   "metadata": {},
   "outputs": [],
   "source": [
    "#Corrigindo o valor do atributo de 'feridos' para os novos dados de 'feridos_graves' e 'feridos_leves'\n",
    "datatran_mg['feridos'] = datatran_mg['feridos_graves'] + datatran_mg['feridos_leves']"
   ]
  },
  {
   "cell_type": "code",
   "execution_count": 226,
   "metadata": {},
   "outputs": [
    {
     "name": "stdout",
     "output_type": "stream",
     "text": [
      "Total de pessoas envolvidas:  91789\n",
      "Ilesos:  40160\n",
      "Feridos Leves:  37775\n",
      "Feridos Graves:  10382\n",
      "Mortos:  3472\n"
     ]
    }
   ],
   "source": [
    "#Confirmando os valores alterados de datatran segundo o modelo que rodou em acidentes\n",
    "print('Total de pessoas envolvidas: ', datatran_mg['pessoas'].sum())\n",
    "print('Ilesos: ',datatran_mg.ilesos.sum())\n",
    "print('Feridos Leves: ',datatran_mg.feridos_leves.sum())\n",
    "print('Feridos Graves: ',datatran_mg.feridos_graves.sum())\n",
    "print('Mortos: ',datatran_mg.mortos.sum())"
   ]
  },
  {
   "cell_type": "code",
   "execution_count": 227,
   "metadata": {},
   "outputs": [
    {
     "data": {
      "text/html": [
       "<div>\n",
       "<style scoped>\n",
       "    .dataframe tbody tr th:only-of-type {\n",
       "        vertical-align: middle;\n",
       "    }\n",
       "\n",
       "    .dataframe tbody tr th {\n",
       "        vertical-align: top;\n",
       "    }\n",
       "\n",
       "    .dataframe thead th {\n",
       "        text-align: right;\n",
       "    }\n",
       "</style>\n",
       "<table border=\"1\" class=\"dataframe\">\n",
       "  <thead>\n",
       "    <tr style=\"text-align: right;\">\n",
       "      <th></th>\n",
       "      <th>classificacao_acidente</th>\n",
       "      <th>ilesos</th>\n",
       "      <th>feridos_leves</th>\n",
       "      <th>feridos_graves</th>\n",
       "      <th>mortos</th>\n",
       "    </tr>\n",
       "  </thead>\n",
       "  <tbody>\n",
       "    <tr>\n",
       "      <th>0</th>\n",
       "      <td>Com Vítimas Feridas</td>\n",
       "      <td>0</td>\n",
       "      <td>2</td>\n",
       "      <td>0</td>\n",
       "      <td>0</td>\n",
       "    </tr>\n",
       "    <tr>\n",
       "      <th>1</th>\n",
       "      <td>Com Vítimas Feridas</td>\n",
       "      <td>0</td>\n",
       "      <td>3</td>\n",
       "      <td>0</td>\n",
       "      <td>0</td>\n",
       "    </tr>\n",
       "    <tr>\n",
       "      <th>2</th>\n",
       "      <td>Sem Vítimas</td>\n",
       "      <td>1</td>\n",
       "      <td>0</td>\n",
       "      <td>0</td>\n",
       "      <td>0</td>\n",
       "    </tr>\n",
       "    <tr>\n",
       "      <th>3</th>\n",
       "      <td>Com Vítimas Feridas</td>\n",
       "      <td>0</td>\n",
       "      <td>1</td>\n",
       "      <td>0</td>\n",
       "      <td>0</td>\n",
       "    </tr>\n",
       "    <tr>\n",
       "      <th>4</th>\n",
       "      <td>Com Vítimas Feridas</td>\n",
       "      <td>2</td>\n",
       "      <td>1</td>\n",
       "      <td>0</td>\n",
       "      <td>0</td>\n",
       "    </tr>\n",
       "  </tbody>\n",
       "</table>\n",
       "</div>"
      ],
      "text/plain": [
       "  classificacao_acidente  ilesos  feridos_leves  feridos_graves  mortos\n",
       "0    Com Vítimas Feridas       0              2               0       0\n",
       "1    Com Vítimas Feridas       0              3               0       0\n",
       "2            Sem Vítimas       1              0               0       0\n",
       "3    Com Vítimas Feridas       0              1               0       0\n",
       "4    Com Vítimas Feridas       2              1               0       0"
      ]
     },
     "execution_count": 227,
     "metadata": {},
     "output_type": "execute_result"
    }
   ],
   "source": [
    "#Realizando ajustes na coluna 'classificacao_acidente'\n",
    "fset3 = datatran_mg[['classificacao_acidente','ilesos','feridos_leves','feridos_graves','mortos']].copy()\n",
    "fset3.head()"
   ]
  },
  {
   "cell_type": "code",
   "execution_count": null,
   "metadata": {},
   "outputs": [],
   "source": [
    "fset3['classificacao_acidente'] = '0'\n",
    "fset3.loc[(fset3['feridos_leves'] == 0) & (fset3['feridos_graves'] == 0) & (fset3['mortos'] == 0), 'classificacao_acidente'] = 'Sem Vítimas'\n",
    "fset3.loc[fset3['mortos'] > 0, 'classificacao_acidente'] = 'Com Vítimas Fatais'\n",
    "fset3.loc[(fset3['feridos_leves'] > 0) & (fset3['feridos_graves'] > 0) & (fset3['mortos'] == 0), 'classificacao_acidente'] = 'Com Vítimas Feridas'\n",
    "fset3.loc[(fset3['feridos_leves'] > 0) & (fset3['mortos'] == 0), 'classificacao_acidente'] = 'Com Vítimas Feridas'\n",
    "fset3.loc[(fset3['feridos_graves'] > 0) & (fset3['mortos'] == 0), 'classificacao_acidente'] = 'Com Vítimas Feridas'\n",
    "fset3.drop(labels=['ilesos','feridos_leves','feridos_graves','mortos'],axis= 1, inplace = True)"
   ]
  },
  {
   "cell_type": "code",
   "execution_count": 230,
   "metadata": {},
   "outputs": [
    {
     "data": {
      "text/html": [
       "<div>\n",
       "<style scoped>\n",
       "    .dataframe tbody tr th:only-of-type {\n",
       "        vertical-align: middle;\n",
       "    }\n",
       "\n",
       "    .dataframe tbody tr th {\n",
       "        vertical-align: top;\n",
       "    }\n",
       "\n",
       "    .dataframe thead th {\n",
       "        text-align: right;\n",
       "    }\n",
       "</style>\n",
       "<table border=\"1\" class=\"dataframe\">\n",
       "  <thead>\n",
       "    <tr style=\"text-align: right;\">\n",
       "      <th></th>\n",
       "      <th>id</th>\n",
       "      <th>data_inversa</th>\n",
       "      <th>dia_semana</th>\n",
       "      <th>horario</th>\n",
       "      <th>uf</th>\n",
       "      <th>br</th>\n",
       "      <th>km</th>\n",
       "      <th>municipio</th>\n",
       "      <th>causa_acidente</th>\n",
       "      <th>tipo_acidente</th>\n",
       "      <th>fase_dia</th>\n",
       "      <th>condicao_metereologica</th>\n",
       "      <th>tipo_pista</th>\n",
       "      <th>tracado_via</th>\n",
       "      <th>uso_solo</th>\n",
       "      <th>pessoas</th>\n",
       "      <th>feridos</th>\n",
       "      <th>veiculos</th>\n",
       "      <th>latitude</th>\n",
       "      <th>longitude</th>\n",
       "      <th>elemento_transito</th>\n",
       "      <th>ilesos</th>\n",
       "      <th>feridos_graves</th>\n",
       "      <th>feridos_leves</th>\n",
       "      <th>mortos</th>\n",
       "      <th>classificacao_acidente</th>\n",
       "    </tr>\n",
       "  </thead>\n",
       "  <tbody>\n",
       "    <tr>\n",
       "      <th>0</th>\n",
       "      <td>47</td>\n",
       "      <td>2017-01-01</td>\n",
       "      <td>domingo</td>\n",
       "      <td>04:50:00</td>\n",
       "      <td>MG</td>\n",
       "      <td>381</td>\n",
       "      <td>605</td>\n",
       "      <td>OLIVEIRA</td>\n",
       "      <td>Condutor Dormindo</td>\n",
       "      <td>Saída de leito carroçável</td>\n",
       "      <td>Amanhecer</td>\n",
       "      <td>Céu Claro</td>\n",
       "      <td>Dupla</td>\n",
       "      <td>Reta</td>\n",
       "      <td>Rural</td>\n",
       "      <td>2</td>\n",
       "      <td>2</td>\n",
       "      <td>1</td>\n",
       "      <td>-20.6370</td>\n",
       "      <td>-44.7357</td>\n",
       "      <td>Homem</td>\n",
       "      <td>0</td>\n",
       "      <td>0</td>\n",
       "      <td>2</td>\n",
       "      <td>0</td>\n",
       "      <td>Com Vítimas Feridas</td>\n",
       "    </tr>\n",
       "    <tr>\n",
       "      <th>1</th>\n",
       "      <td>52</td>\n",
       "      <td>2017-01-01</td>\n",
       "      <td>domingo</td>\n",
       "      <td>05:00:00</td>\n",
       "      <td>MG</td>\n",
       "      <td>262</td>\n",
       "      <td>368</td>\n",
       "      <td>JUATUBA</td>\n",
       "      <td>Velocidade Incompatível</td>\n",
       "      <td>Colisão com objeto estático</td>\n",
       "      <td>Plena Noite</td>\n",
       "      <td>Céu Claro</td>\n",
       "      <td>Simples</td>\n",
       "      <td>Viaduto</td>\n",
       "      <td>Urbano</td>\n",
       "      <td>3</td>\n",
       "      <td>3</td>\n",
       "      <td>1</td>\n",
       "      <td>-19.9566</td>\n",
       "      <td>-44.3444</td>\n",
       "      <td>Homem</td>\n",
       "      <td>0</td>\n",
       "      <td>0</td>\n",
       "      <td>3</td>\n",
       "      <td>0</td>\n",
       "      <td>Com Vítimas Feridas</td>\n",
       "    </tr>\n",
       "    <tr>\n",
       "      <th>2</th>\n",
       "      <td>53</td>\n",
       "      <td>2017-01-01</td>\n",
       "      <td>domingo</td>\n",
       "      <td>05:00:00</td>\n",
       "      <td>MG</td>\n",
       "      <td>459</td>\n",
       "      <td>14</td>\n",
       "      <td>CALDAS</td>\n",
       "      <td>Falta de Atenção à Condução</td>\n",
       "      <td>Saída de leito carroçável</td>\n",
       "      <td>Amanhecer</td>\n",
       "      <td>Céu Claro</td>\n",
       "      <td>Simples</td>\n",
       "      <td>Curva</td>\n",
       "      <td>Rural</td>\n",
       "      <td>1</td>\n",
       "      <td>0</td>\n",
       "      <td>1</td>\n",
       "      <td>-21.8459</td>\n",
       "      <td>-46.4388</td>\n",
       "      <td>Homem</td>\n",
       "      <td>1</td>\n",
       "      <td>0</td>\n",
       "      <td>0</td>\n",
       "      <td>0</td>\n",
       "      <td>Sem Vítimas</td>\n",
       "    </tr>\n",
       "    <tr>\n",
       "      <th>3</th>\n",
       "      <td>61</td>\n",
       "      <td>2017-01-01</td>\n",
       "      <td>domingo</td>\n",
       "      <td>05:00:00</td>\n",
       "      <td>MG</td>\n",
       "      <td>262</td>\n",
       "      <td>186</td>\n",
       "      <td>SAO DOMINGOS DO PRATA</td>\n",
       "      <td>Condutor Dormindo</td>\n",
       "      <td>Saída de leito carroçável</td>\n",
       "      <td>Plena Noite</td>\n",
       "      <td>Céu Claro</td>\n",
       "      <td>Simples</td>\n",
       "      <td>Curva</td>\n",
       "      <td>Rural</td>\n",
       "      <td>1</td>\n",
       "      <td>1</td>\n",
       "      <td>1</td>\n",
       "      <td>-19.8942</td>\n",
       "      <td>-43.0403</td>\n",
       "      <td>Homem</td>\n",
       "      <td>0</td>\n",
       "      <td>0</td>\n",
       "      <td>1</td>\n",
       "      <td>0</td>\n",
       "      <td>Com Vítimas Feridas</td>\n",
       "    </tr>\n",
       "    <tr>\n",
       "      <th>4</th>\n",
       "      <td>63</td>\n",
       "      <td>2017-01-01</td>\n",
       "      <td>domingo</td>\n",
       "      <td>06:00:00</td>\n",
       "      <td>MG</td>\n",
       "      <td>135</td>\n",
       "      <td>408</td>\n",
       "      <td>BOCAIUVA</td>\n",
       "      <td>Animais na Pista</td>\n",
       "      <td>Atropelamento de Animal</td>\n",
       "      <td>Amanhecer</td>\n",
       "      <td>Céu Claro</td>\n",
       "      <td>Simples</td>\n",
       "      <td>Reta</td>\n",
       "      <td>Rural</td>\n",
       "      <td>3</td>\n",
       "      <td>1</td>\n",
       "      <td>1</td>\n",
       "      <td>-16.9614</td>\n",
       "      <td>-43.8590</td>\n",
       "      <td>Via</td>\n",
       "      <td>2</td>\n",
       "      <td>0</td>\n",
       "      <td>1</td>\n",
       "      <td>0</td>\n",
       "      <td>Com Vítimas Feridas</td>\n",
       "    </tr>\n",
       "  </tbody>\n",
       "</table>\n",
       "</div>"
      ],
      "text/plain": [
       "   id data_inversa dia_semana   horario  uf   br   km              municipio               causa_acidente                tipo_acidente     fase_dia condicao_metereologica tipo_pista tracado_via uso_solo  pessoas  feridos  veiculos  latitude  longitude elemento_transito  ilesos  feridos_graves  feridos_leves  mortos classificacao_acidente\n",
       "0  47   2017-01-01    domingo  04:50:00  MG  381  605               OLIVEIRA            Condutor Dormindo    Saída de leito carroçável    Amanhecer              Céu Claro      Dupla        Reta    Rural        2        2         1  -20.6370   -44.7357             Homem       0               0              2       0    Com Vítimas Feridas\n",
       "1  52   2017-01-01    domingo  05:00:00  MG  262  368                JUATUBA      Velocidade Incompatível  Colisão com objeto estático  Plena Noite              Céu Claro    Simples     Viaduto   Urbano        3        3         1  -19.9566   -44.3444             Homem       0               0              3       0    Com Vítimas Feridas\n",
       "2  53   2017-01-01    domingo  05:00:00  MG  459   14                 CALDAS  Falta de Atenção à Condução    Saída de leito carroçável    Amanhecer              Céu Claro    Simples       Curva    Rural        1        0         1  -21.8459   -46.4388             Homem       1               0              0       0            Sem Vítimas\n",
       "3  61   2017-01-01    domingo  05:00:00  MG  262  186  SAO DOMINGOS DO PRATA            Condutor Dormindo    Saída de leito carroçável  Plena Noite              Céu Claro    Simples       Curva    Rural        1        1         1  -19.8942   -43.0403             Homem       0               0              1       0    Com Vítimas Feridas\n",
       "4  63   2017-01-01    domingo  06:00:00  MG  135  408               BOCAIUVA             Animais na Pista      Atropelamento de Animal    Amanhecer              Céu Claro    Simples        Reta    Rural        3        1         1  -16.9614   -43.8590               Via       2               0              1       0    Com Vítimas Feridas"
      ]
     },
     "execution_count": 230,
     "metadata": {},
     "output_type": "execute_result"
    }
   ],
   "source": [
    "#Aplicando a correção de fset3 em datatran\n",
    "datatran_mg.drop(labels=['classificacao_acidente'],axis= 1, inplace = True)\n",
    "datatran_mg = pd.concat([datatran_mg, fset3], axis= 1, join='outer')\n",
    "datatran_mg.head()"
   ]
  },
  {
   "cell_type": "code",
   "execution_count": 232,
   "metadata": {},
   "outputs": [],
   "source": [
    "#Salvando as modificações feitas do novo \"dataset\" datatran_mg\n",
    "datatran_mg.to_csv(r\"C:\\Users\\lilia\\Downloads\\TCC PUC\\csv\\datatran_mg4.csv\", index = False, header = True, sep=';', decimal=',', encoding = 'cp1252')"
   ]
  }
 ],
 "metadata": {
  "kernelspec": {
   "display_name": "Python 3",
   "language": "python",
   "name": "python3"
  },
  "language_info": {
   "codemirror_mode": {
    "name": "ipython",
    "version": 3
   },
   "file_extension": ".py",
   "mimetype": "text/x-python",
   "name": "python",
   "nbconvert_exporter": "python",
   "pygments_lexer": "ipython3",
   "version": "3.8.5"
  }
 },
 "nbformat": 4,
 "nbformat_minor": 4
}
